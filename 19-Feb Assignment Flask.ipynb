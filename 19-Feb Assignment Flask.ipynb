{
 "cells": [
  {
   "cell_type": "markdown",
   "id": "debd17ab-d3be-4624-acb9-46c8191f1c74",
   "metadata": {},
   "source": [
    "Q1. What is Flask Framework? What are the advantages of Flask Framework?"
   ]
  },
  {
   "cell_type": "raw",
   "id": "ce37b640-3266-41ab-8819-a654f7171fb0",
   "metadata": {},
   "source": [
    "#Flask is a web framework. This means flask provides you with tools, libraries and technologies that allow you to build a web application. This web application can be some web pages, a blog, a wiki or go as big as a web-based calendar application or a commercial website.\n",
    "#Advantages:\n",
    "1. Scalable\n",
    "2. Flexible\n",
    "3. Easy to negotiate\n",
    "4.Lightweight\n",
    "5.Documentation"
   ]
  },
  {
   "cell_type": "markdown",
   "id": "0e9b8e3d-9a8c-408c-8926-5d72d39127d7",
   "metadata": {},
   "source": [
    "Q2. Create a simple Flask application to display ‘Hello World!!’. Attach the screenshot of the output in \n",
    "Jupyter Notebook."
   ]
  },
  {
   "cell_type": "raw",
   "id": "e7baeb29-222c-4f91-af7f-7f18e26b6504",
   "metadata": {},
   "source": [
    "from flask import Flask\n",
    "\n",
    "app = Flask(__name__)\n",
    "\n",
    "@app.route(\"/hello1\")\n",
    "def hello_world1():\n",
    "    return \"Hello, World1!\"\n",
    "\n",
    "if __name__==\"__main__\":\n",
    "    app.run(host=\"0.0.0.0\")"
   ]
  },
  {
   "cell_type": "code",
   "execution_count": 3,
   "id": "dfe7eec9-b73f-4588-9b82-e938782e8838",
   "metadata": {},
   "outputs": [
    {
     "data": {
      "image/png": "[encoded data removed]",
      "text/plain": [
       "<IPython.core.display.Image object>"
      ]
     },
     "execution_count": 3,
     "metadata": {},
     "output_type": "execute_result"
    }
   ],
   "source": [
    "from IPython import display\n",
    "display.Image(\"helloworld1 screen shot.png\")"
   ]
  },
  {
   "cell_type": "markdown",
   "id": "ea2af0d4-daca-4101-99f7-266ca0f90846",
   "metadata": {},
   "source": [
    "Q3. What is App routing in Flask? Why do we use app routes?"
   ]
  },
  {
   "cell_type": "raw",
   "id": "554976b2-c1ea-4063-81f8-60cd6ce3f32f",
   "metadata": {},
   "source": [
    "#App Routing means mapping the URLs to a specific function that will handle the logic for that URL. Modern web frameworks use more meaningful URLs to help users remember the URLs and make navigation simpler. Example: In our application, the URL (“/”) is associated with the root URL."
   ]
  },
  {
   "cell_type": "markdown",
   "id": "90add56a-3a64-4c6d-9a51-dadf94bb05d7",
   "metadata": {},
   "source": [
    "Q4.  Create a “/welcome” route to display the welcome message “Welcome to ABC Corporation” and a “/” \n",
    "route to show the following details:\n",
    "\n",
    "    Company Name: ABC Corporation\n",
    "\n",
    "    Location: India\n",
    "\n",
    "    Contact Detail: 999-999-9999 \n",
    "Attach the screenshot of the output in Jupyter Notebook."
   ]
  },
  {
   "cell_type": "code",
   "execution_count": null,
   "id": "e63af832-2cdc-46da-993f-ca991c35933d",
   "metadata": {},
   "outputs": [],
   "source": [
    "from flask import Flask\n",
    "\n",
    "app = Flask(__name__)\n",
    "\n",
    "@app.route(\"/welcome\")\n",
    "def hello_world():\n",
    "    return \"'Welcome to ABC Corporation'\"\n",
    "\n",
    "@app.route(\"/\")\n",
    "def CompanyName():\n",
    "    l={'Company Name': 'ABC Corporation','Location': 'India','Contact details': '999-999-9999'}\n",
    "    return l\n",
    "    \n",
    "if __name__==\"__main__\":\n",
    "    app.run(host=\"0.0.0.0\")"
   ]
  },
  {
   "cell_type": "code",
   "execution_count": 4,
   "id": "75ff0601-b5b7-4366-9269-f0bdb4d1debe",
   "metadata": {},
   "outputs": [
    {
     "data": {
      "image/png": "[encoded data removed]",
      "text/plain": [
       "<IPython.core.display.Image object>"
      ]
     },
     "execution_count": 4,
     "metadata": {},
     "output_type": "execute_result"
    }
   ],
   "source": [
    "display.Image(\"19-feb_Screenshot1.png\")"
   ]
  },
  {
   "cell_type": "code",
   "execution_count": null,
   "id": "73b1e02b-f319-4bc5-9166-2b7965ea91f2",
   "metadata": {},
   "outputs": [],
   "source": [
    "Q5. What function is used in Flask for URL Building? Write a Python code to demonstrate the working of the url_for() function."
   ]
  },
  {
   "cell_type": "code",
   "execution_count": null,
   "id": "3af71348-ba5f-4be9-9b52-6ecc2b62b540",
   "metadata": {},
   "outputs": [],
   "source": [
    "#To build a URL to a specific function, use the url_for() function. It accepts the name of the function as its first argument and any number of keyword arguments, each corresponding to a variable part of the URL rule\n"
   ]
  }
 ],
 "metadata": {
  "kernelspec": {
   "display_name": "Python 3 (ipykernel)",
   "language": "python",
   "name": "python3"
  },
  "language_info": {
   "codemirror_mode": {
    "name": "ipython",
    "version": 3
   },
   "file_extension": ".py",
   "mimetype": "text/x-python",
   "name": "python",
   "nbconvert_exporter": "python",
   "pygments_lexer": "ipython3",
   "version": "3.10.8"
  }
 },
 "nbformat": 4,
 "nbformat_minor": 5
}
