{
 "cells": [
  {
   "cell_type": "markdown",
   "id": "4ad6da75-a7e1-4e90-bc12-8f95c8799a3d",
   "metadata": {},
   "source": [
    "Q1: What is the difference between a t-test and a z-test? Provide an example scenario where you would \n",
    "use each type of test."
   ]
  },
  {
   "cell_type": "code",
   "execution_count": 2,
   "id": "a10d3d2d-71c3-43ff-9d1b-76aa48b8a336",
   "metadata": {},
   "outputs": [],
   "source": [
    "#If the population standard deviation is known and the sample size is greater than 30, Z-test is recommended to be used.\n",
    "#If the population standard deviation is known, and the size of the sample is less than or equal to 30, T-test is recommended\n",
    "#If the population standard deviation is unknown, T-test is recommended."
   ]
  },
  {
   "cell_type": "markdown",
   "id": "a0528e37-8b6c-4d16-b5de-2e0de63aef61",
   "metadata": {},
   "source": [
    "Q2: Differentiate between one-tailed and two-tailed tests."
   ]
  },
  {
   "cell_type": "raw",
   "id": "0ac966cc-c910-4c36-aaa7-d1b90311352d",
   "metadata": {},
   "source": [
    "One-tailed tests allow for the possibility of an effect in one direction. \n",
    "Two-tailed tests test for the possibility of an effect in two directions—positive and negative"
   ]
  },
  {
   "cell_type": "markdown",
   "id": "ad8df09b-6fb6-4354-9d78-b5ed62cbfd3c",
   "metadata": {},
   "source": [
    "Q3: Explain the concept of Type 1 and Type 2 errors in hypothesis testing. Provide an example scenario for \n",
    "each type of error."
   ]
  },
  {
   "cell_type": "raw",
   "id": "dbe54a6b-4957-4d5f-a822-c9acd5f5fe57",
   "metadata": {},
   "source": [
    "A type I error (false-positive) occurs if an investigator rejects a null hypothesis that is actually true in the population; \n",
    "a type II error (false-negative) occurs if the investigator fails to reject a null hypothesis that is actually false in the population."
   ]
  },
  {
   "cell_type": "code",
   "execution_count": 4,
   "id": "134c9a8c-f25a-430f-92e2-6c71a75668aa",
   "metadata": {},
   "outputs": [],
   "source": [
    "#Type I error (false positive): the test result says you have coronavirus, but you actually don't. \n",
    "#Type II error (false negative): the test result says you don't have coronavirus, but you actually do."
   ]
  },
  {
   "cell_type": "markdown",
   "id": "bbdace25-f592-4ef0-be9d-ecdab41812e3",
   "metadata": {},
   "source": [
    "Q4:  Explain Bayes's theorem with an example."
   ]
  },
  {
   "cell_type": "raw",
   "id": "b6a459b5-04d7-4f89-8265-06013686a604",
   "metadata": {},
   "source": [
    "Bayes theorem is also known as the formula for the probability of “causes”. \n",
    "For example: if we have to calculate the probability of taking a blue ball from the second bag out of three different bags of balls, where each bag contains three different colour balls viz. red, blue, black"
   ]
  },
  {
   "cell_type": "markdown",
   "id": "6ccf4c8d-e72e-446f-bb7d-b2014d49f5d9",
   "metadata": {},
   "source": [
    "Q5: What is a confidence interval? How to calculate the confidence interval, explain with an example."
   ]
  },
  {
   "cell_type": "raw",
   "id": "a081f47b-8152-44c6-8c11-e2599950d082",
   "metadata": {},
   "source": [
    "A confidence interval is the mean of your estimate plus and minus the variation in that estimate. \n",
    "This is the range of values you expect your estimate to fall between if you redo your test, within a certain level of confidence. \n",
    "Confidence, in statistics, is another way to describe probability"
   ]
  },
  {
   "cell_type": "raw",
   "id": "f20e9525-df60-482d-993f-180a2aac2506",
   "metadata": {},
   "source": [
    "How to Calculate Confidence Interval?\n",
    "To calculate the confidence interval, go through the following procedure.\n",
    "\n",
    "Step 1: Find the number of observations n(sample space), mean X̄, and the standard deviation σ.\n",
    "\n",
    "Step 2: Decide the confidence interval of your choice. It should be either 95% or 99%. Then find the Z value for the corresponding confidence interval given in the table.\n",
    "\n",
    "Step 3: Finally, substitute all the values in the formula."
   ]
  },
  {
   "cell_type": "raw",
   "id": "71638980-b5db-4bbe-9b52-29345ab937a3",
   "metadata": {},
   "source": [
    "Question: In a tree, there are hundreds of apples. You are randomly choosing 46 apples with a mean of 86 and a standard deviation of 6.2. Determine that the apples are big enough.\n",
    "\n",
    "Solution:\n",
    "\n",
    "Given: Mean, X̄ = 86\n",
    "\n",
    "Standard deviation, σ = 6.2\n",
    "\n",
    "Number of observations, n = 46\n",
    "\n",
    "Take the confidence level as 95%. Therefore, the value of z = 1.960 (from the table)\n",
    "\n",
    "The formula to find the confidence interval is\n",
    "\n",
    "X̄ ± Zα/2 × [ σ / √n ]\n",
    "\n",
    "Now, substitute the values in the formula, we get\n",
    "\n",
    "86 ± 1.960 × [ 6.2 / √46 ]\n",
    "\n",
    "86 ± 1.960 × [ 6.2 / 6.78]\n",
    "\n",
    "86 ± 1.960 × 0.914\n",
    "\n",
    "86 ± 1.79\n",
    "\n",
    "Here, the margin of error is 1.79\n",
    "\n",
    "Therefore, all the hundreds of apples are likely to be between in the range of 84. 21 and 87.79."
   ]
  },
  {
   "cell_type": "markdown",
   "id": "c75123a3-4f0c-4b0d-83c5-56870778c65e",
   "metadata": {},
   "source": [
    "Q6. Use Bayes' Theorem to calculate the probability of an event occurring given prior knowledge of the \n",
    "event's probability and new evidence. Provide a sample problem and solution."
   ]
  },
  {
   "cell_type": "code",
   "execution_count": 2,
   "id": "29a114b7-6158-4cf8-b3cb-549069a85e26",
   "metadata": {},
   "outputs": [],
   "source": [
    "#There is a box with 3 Red and 2 Whitw balls:\n",
    "#probability of choosing Red ball is 3/5 and white ball is 2/5 as independently\n",
    "#Choosing Red ball and then white ball probabilty = Choosing red ball prababoilty * choosing white ball from remianing balls\n",
    "#                                                 = 3/5 * 2/4 = 6/20\n",
    "#probability of choosing red ball and then white ball = probability of choosing white ball and then red ball\n",
    "#Pr(Red)*Pr(White/Red) = Pr(White)*Pr(Red/White)"
   ]
  },
  {
   "cell_type": "markdown",
   "id": "e9e10d14-f753-4f70-998f-66830dad59c2",
   "metadata": {},
   "source": [
    "Q7. Calculate the 95% confidence interval for a sample of data with a mean of 50 and a standard deviation \n",
    "of 5. Interpret the results."
   ]
  },
  {
   "cell_type": "code",
   "execution_count": 4,
   "id": "c66f4268-33ec-441e-a8b6-7c6dd4070606",
   "metadata": {},
   "outputs": [],
   "source": [
    "#z-test = X̄ ± Zα/2 × [ σ / √n ] = 50±1.96*5 = 50±9.8 = [40.2, 59.8]\n",
    "#95% of the time, the population mean is inbetween 40.2 and 59.8"
   ]
  },
  {
   "cell_type": "markdown",
   "id": "da5bb6df-b2b5-4c5a-95d4-2d95c9d015dc",
   "metadata": {},
   "source": [
    "Q8. What is the margin of error in a confidence interval? How does sample size affect the margin of error? \n",
    "Provide an example of a scenario where a larger sample size would result in a smaller margin of error."
   ]
  },
  {
   "cell_type": "raw",
   "id": "66dbdb2a-4f48-4282-98ec-fd78d381b869",
   "metadata": {},
   "source": [
    "A margin of error tells you how many percentage points your results will differ from the real population value.\n",
    "A margin of error defines a range around the point estimate for which the confidence interval exists.\n",
    "Zα/2 × [ σ / √n ]\n",
    "for the 95% confidance intervel, Zα/2 = 1.96\n",
    "σ = 9\n",
    "n=81\n",
    "margin of error = 1.96*9/9=1.96\n",
    "for n=100\n",
    "margin of error = 1.96*9/10=1.764\n",
    "while sample size increases, margin of error decreases"
   ]
  },
  {
   "cell_type": "markdown",
   "id": "d754689c-7da2-4217-b5f1-c29b5ae8c3e4",
   "metadata": {},
   "source": [
    "Q9. Calculate the z-score for a data point with a value of 75, a population mean of 70, and a population \n",
    "standard deviation of 5. Interpret the results."
   ]
  },
  {
   "cell_type": "code",
   "execution_count": 7,
   "id": "c03ae625-9fd8-423c-8c14-55469274ca1c",
   "metadata": {},
   "outputs": [],
   "source": [
    "#z-score = (X̄ - mu)/ σ  = (75-70)/5 = 1\n",
    "#data point 75 is 1 standard deviation away from sample mean\n",
    "#P value for 1 Z-score is 0.84134\n",
    "#C.I = 1-2*(1-0.84134) = 0.68268"
   ]
  },
  {
   "cell_type": "markdown",
   "id": "0a672e5b-5f91-429d-ab48-8f5ca90a3163",
   "metadata": {},
   "source": [
    "Q10. In a study of the effectiveness of a new weight loss drug, a sample of 50 participants lost an average \n",
    "of 6 pounds with a standard deviation of 2.5 pounds. Conduct a hypothesis test to determine if the drug is \n",
    "significantly effective at a 95% confidence level using a t-test."
   ]
  },
  {
   "cell_type": "raw",
   "id": "946153c3-8df4-48d1-ab36-f928aac8da63",
   "metadata": {},
   "source": [
    "n=50\n",
    "s=2.5\n",
    "X̄=6\n",
    "assume mu=0\n",
    "C.I=95%\n",
    "1. Null hypothesis (H0): The true population mean weight loss is equal to zero.\n",
    "2. Alternative hypothesis (Ha): The true population mean weight loss is greater than zero.\n",
    "Choose the level of significance (alpha): In this case, the level of significance is 0.05.\n",
    "3. Calculate the test statistic:\n",
    "t = (6 - 0) / (2.5 / sqrt(50)) = 16.97\n",
    "4. Determine the critical value: Since this is a one-tailed test (we are testing if the true population mean weight loss is greater than zero), the critical value for a t-test with 49 degrees of freedom and a 0.05 level of significance is 1.676.\n",
    "t-table = 1.676\n",
    "5. Compare the test statistic to the critical value: Since the test statistic (16.97) is greater than the critical value (1.676), we reject the null hypothesis and conclude that the drug is significantly effective at a 95% confidence level."
   ]
  },
  {
   "cell_type": "markdown",
   "id": "22f2ec12-c96f-40a4-b01b-61d72c9fa4c4",
   "metadata": {},
   "source": [
    "Q11. In a survey of 500 people, 65% reported being satisfied with their current job. Calculate the 95% \n",
    "confidence interval for the true proportion of people who are satisfied with their job."
   ]
  },
  {
   "cell_type": "raw",
   "id": "ca9a8003-cbd1-4ac5-8216-5f3220b24842",
   "metadata": {},
   "source": [
    "This will come under Bernouli distribution\n",
    "n=500\n",
    "X̄=0.65\n",
    "C.I=95\n",
    "Zα/2 = 1.96\n",
    "X̄ ± Zα/2 × [ σ / √n ]\n",
    "σ = sqrt(p(1-p))\n",
    "Z-Score=0.65 ± 1.96*((0.65*0.35)/500)**0.5=0.65±0.042= [0.61, 0.69]\n",
    "95% confidence interval for the true proportion is inbetween 0.61 to 0.69"
   ]
  },
  {
   "cell_type": "markdown",
   "id": "a6649306-d954-44a8-b04d-aca9af06b501",
   "metadata": {},
   "source": [
    "Q12. A researcher is testing the effectiveness of two different teaching methods on student performance. \n",
    "Sample A has a mean score of 85 with a standard deviation of 6, while sample B has a mean score of 82 \n",
    "with a standard deviation of 5. Conduct a hypothesis test to determine if the two teaching methods have a \n",
    "significant difference in student performance using a t-test with a significance level of 0.01."
   ]
  },
  {
   "cell_type": "code",
   "execution_count": 13,
   "id": "b2c188e0-f53f-4535-883a-b6139e6c6b10",
   "metadata": {},
   "outputs": [
    {
     "ename": "SyntaxError",
     "evalue": "invalid syntax (3951532895.py, line 1)",
     "output_type": "error",
     "traceback": [
      "\u001b[0;36m  Cell \u001b[0;32mIn[13], line 1\u001b[0;36m\u001b[0m\n\u001b[0;31m    1. Null hypothesis (H0): Sample A mean is equal to Sample B mean\u001b[0m\n\u001b[0m       ^\u001b[0m\n\u001b[0;31mSyntaxError\u001b[0m\u001b[0;31m:\u001b[0m invalid syntax\n"
     ]
    }
   ],
   "source": [
    "1. Null hypothesis (H0): Sample A mean is equal to Sample B mean\n",
    "2. Alternative hypothesis (Ha): Sample A mean is not equal to Sample B mean\n",
    "3. Calculate the test statistic:\n",
    "t table=(0.25-0)/(0.05/30**0.5)=27.39\n",
    "4. Determine the critical value: Since this is a two-tailed test, the critical value for a t-test with 29 degrees of freedom and a 0.1 level of significance is 1.6991.\n",
    "t-table = 1.6991"
   ]
  },
  {
   "cell_type": "markdown",
   "id": "7ecb7847-ac4c-4c2d-91f5-ce581e6d3e46",
   "metadata": {},
   "source": [
    "Q13. A population has a mean of 60 and a standard deviation of 8. A sample of 50 observations has a mean \n",
    "of 65. Calculate the 90% confidence interval for the true population mean."
   ]
  },
  {
   "cell_type": "raw",
   "id": "9463e913-f061-4cb6-83b8-4c395d04ff88",
   "metadata": {},
   "source": [
    "σ = 8\n",
    "mu=60\n",
    "n=50\n",
    "X̄=65\n",
    "C.I=90\n",
    "Z- table for 90% C.I is 1.29 \n",
    "X̄ ± Zα/2 × [ σ / √n ]  = 65 ± 1.29*(8/50**0.5) = 65 ± 1.46 = [63.54,66.46]\n",
    "90% confidence interval is in between 63.54 amd 66.46"
   ]
  },
  {
   "cell_type": "markdown",
   "id": "6f822d56-1651-4da4-a7b6-1fbc532aa35b",
   "metadata": {},
   "source": [
    "Q14. In a study of the effects of caffeine on reaction time, a sample of 30 participants had an average \n",
    "reaction time of 0.25 seconds with a standard deviation of 0.05 seconds. Conduct a hypothesis test to \n",
    "determine if the caffeine has a significant effect on reaction time at a 90% confidence level using a t-test."
   ]
  },
  {
   "cell_type": "raw",
   "id": "05633866-2bc8-4f2d-a0ef-584dcf66b0e1",
   "metadata": {},
   "source": [
    "n=30\n",
    "X̄=0.25\n",
    "s=0.05\n",
    "C.I=90\n",
    "assume mu=0\n",
    "t table=(0.25-0)/(0.05/30**0.5)=27.39\n",
    "1. Null hypothesis (H0): The true population reaction time is equal to 0.25.\n",
    "2. Alternative hypothesis (Ha): The true population reaction time is greater or less tha 0.25.\n",
    "Choose the level of significance (alpha): In this case, the level of significance is 0.1.\n",
    "3. Calculate the test statistic:\n",
    "t table=(0.25-0)/(0.05/30**0.5)=27.39\n",
    "4. Determine the critical value: Since this is a two-tailed test, the critical value for a t-test with 29 degrees of freedom and a 0.1 level of significance is 1.6991.\n",
    "t-table = 1.6991\n",
    "5. Compare the test statistic to the critical value: Since the test statistic (27.39) is greater than the critical value (1.699), we reject the null hypothesis and conclude that the caffeine has significantly effective at a 90% confidence level."
   ]
  },
  {
   "cell_type": "code",
   "execution_count": null,
   "id": "1d8ce5a9-eca8-490b-9170-8d292a931479",
   "metadata": {},
   "outputs": [],
   "source": []
  }
 ],
 "metadata": {
  "kernelspec": {
   "display_name": "Python 3 (ipykernel)",
   "language": "python",
   "name": "python3"
  },
  "language_info": {
   "codemirror_mode": {
    "name": "ipython",
    "version": 3
   },
   "file_extension": ".py",
   "mimetype": "text/x-python",
   "name": "python",
   "nbconvert_exporter": "python",
   "pygments_lexer": "ipython3",
   "version": "3.10.8"
  }
 },
 "nbformat": 4,
 "nbformat_minor": 5
}
