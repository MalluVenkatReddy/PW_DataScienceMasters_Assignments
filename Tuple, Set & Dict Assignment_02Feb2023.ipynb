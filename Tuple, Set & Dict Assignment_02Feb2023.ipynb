{
 "cells": [
  {
   "cell_type": "markdown",
   "id": "0e3848cb-b633-4bb8-abc7-acd494574cbe",
   "metadata": {},
   "source": [
    "Q1. What are the characteristics of the tuples? Is tuple immutable?"
   ]
  },
  {
   "cell_type": "code",
   "execution_count": 2,
   "id": "fa16bf5d-be59-4b65-b7c8-e28a3407b4dc",
   "metadata": {},
   "outputs": [],
   "source": [
    "#Characteristics of Tuples\n",
    "#Tuples are indexed.\n",
    "#Tuples are ordered.\n",
    "#These are immutable.\n",
    "#They can contain duplicate items."
   ]
  },
  {
   "cell_type": "markdown",
   "id": "26b1c5c5-c325-4568-bc0f-183323cbcb4c",
   "metadata": {},
   "source": [
    "Q2. What are the two tuple methods in python? Give an example of each method. Give a reason why \n",
    "tuples have only two in-built methods as compared to Lists."
   ]
  },
  {
   "cell_type": "code",
   "execution_count": 10,
   "id": "acec7701-0a07-40ab-a98e-7cd8a2dee47e",
   "metadata": {},
   "outputs": [],
   "source": [
    "# two tuple methods in python are : 1. index and 2.count\n",
    "# Tuples have only 2 in built methods, since tuples are immutable and memory efficient"
   ]
  },
  {
   "cell_type": "markdown",
   "id": "5b9b9aa0-c3b2-41e9-b648-63703b992a96",
   "metadata": {},
   "source": [
    "Q3.  Which collection datatypes in python do not allow duplicate items? Write a code using a set to remove \n",
    "duplicates from the given list\n",
    "\n",
    "List = [1, 1, 1, 2, 1, 3, 1, 4, 2, 1, 2, 2, 2, 3, 2, 4, 3, 1, 3, 2, 3, 3, 3, 4, 4, 1, 4, 2, 4, 3, 4, 4]"
   ]
  },
  {
   "cell_type": "code",
   "execution_count": 63,
   "id": "de80ae4f-cd60-4b2a-94c3-a7fb6ffc2649",
   "metadata": {},
   "outputs": [
    {
     "ename": "TypeError",
     "evalue": "'list' object is not callable",
     "output_type": "error",
     "traceback": [
      "\u001b[0;31m---------------------------------------------------------------------------\u001b[0m",
      "\u001b[0;31mTypeError\u001b[0m                                 Traceback (most recent call last)",
      "Cell \u001b[0;32mIn[63], line 2\u001b[0m\n\u001b[1;32m      1\u001b[0m L \u001b[38;5;241m=\u001b[39m [\u001b[38;5;241m1\u001b[39m, \u001b[38;5;241m1\u001b[39m, \u001b[38;5;241m1\u001b[39m, \u001b[38;5;241m2\u001b[39m, \u001b[38;5;241m1\u001b[39m, \u001b[38;5;241m3\u001b[39m, \u001b[38;5;241m1\u001b[39m, \u001b[38;5;241m4\u001b[39m, \u001b[38;5;241m2\u001b[39m, \u001b[38;5;241m1\u001b[39m, \u001b[38;5;241m2\u001b[39m, \u001b[38;5;241m2\u001b[39m, \u001b[38;5;241m2\u001b[39m, \u001b[38;5;241m3\u001b[39m, \u001b[38;5;241m2\u001b[39m, \u001b[38;5;241m4\u001b[39m, \u001b[38;5;241m3\u001b[39m, \u001b[38;5;241m1\u001b[39m, \u001b[38;5;241m3\u001b[39m, \u001b[38;5;241m2\u001b[39m, \u001b[38;5;241m3\u001b[39m, \u001b[38;5;241m3\u001b[39m, \u001b[38;5;241m3\u001b[39m, \u001b[38;5;241m4\u001b[39m, \u001b[38;5;241m4\u001b[39m, \u001b[38;5;241m1\u001b[39m, \u001b[38;5;241m4\u001b[39m, \u001b[38;5;241m2\u001b[39m, \u001b[38;5;241m4\u001b[39m, \u001b[38;5;241m3\u001b[39m, \u001b[38;5;241m4\u001b[39m, \u001b[38;5;241m4\u001b[39m]\n\u001b[0;32m----> 2\u001b[0m s\u001b[38;5;241m=\u001b[39m\u001b[38;5;28;43mset\u001b[39;49m\u001b[43m(\u001b[49m\u001b[43mL\u001b[49m\u001b[43m)\u001b[49m \u001b[38;5;66;03m# not working in PW labs but working in local machine jupyter notebook\u001b[39;00m\n\u001b[1;32m      3\u001b[0m s\n",
      "\u001b[0;31mTypeError\u001b[0m: 'list' object is not callable"
     ]
    }
   ],
   "source": [
    "L = [1, 1, 1, 2, 1, 3, 1, 4, 2, 1, 2, 2, 2, 3, 2, 4, 3, 1, 3, 2, 3, 3, 3, 4, 4, 1, 4, 2, 4, 3, 4, 4]\n",
    "s=set(L) # not working in PW labs but working in local machine jupyter notebook\n",
    "s"
   ]
  },
  {
   "cell_type": "markdown",
   "id": "b1605247-7af3-47f9-bcb3-f1ecb68f2e92",
   "metadata": {},
   "source": [
    "Q4. Explain the difference between the union() and update() methods for a set. Give an example of \n",
    "each method."
   ]
  },
  {
   "cell_type": "code",
   "execution_count": 64,
   "id": "2abdf42e-8b88-45a8-bd06-499db5ad7028",
   "metadata": {},
   "outputs": [],
   "source": [
    "#The union() method returns a set that contains all items from the original set, and all items from the specified set(s)\n",
    "#union function won't update the existing set, just returns a set, But update function will update the existing set and won't return any value.\n",
    "#You can perform the union operation in Python both with set. update() and set. union() . The first one adds all missing elements to the set on which it is called and returns None , while the latter creates and returns a new set\n",
    "l1={4,5,2,3}\n",
    "l2={1,2,3,5}"
   ]
  },
  {
   "cell_type": "code",
   "execution_count": 65,
   "id": "2a1c6272-9078-4b08-ade3-a47e7bf98b62",
   "metadata": {},
   "outputs": [
    {
     "data": {
      "text/plain": [
       "{1, 2, 3, 4, 5}"
      ]
     },
     "execution_count": 65,
     "metadata": {},
     "output_type": "execute_result"
    }
   ],
   "source": [
    "l1.union(l2)"
   ]
  },
  {
   "cell_type": "code",
   "execution_count": 66,
   "id": "76eae6b5-22a6-438c-b287-69a0e3b4c84d",
   "metadata": {},
   "outputs": [
    {
     "data": {
      "text/plain": [
       "{2, 3, 4, 5}"
      ]
     },
     "execution_count": 66,
     "metadata": {},
     "output_type": "execute_result"
    }
   ],
   "source": [
    "l1"
   ]
  },
  {
   "cell_type": "code",
   "execution_count": 67,
   "id": "45457434-279e-4141-9a88-15e512f2dc32",
   "metadata": {},
   "outputs": [],
   "source": [
    "l1.update(l2)"
   ]
  },
  {
   "cell_type": "code",
   "execution_count": 68,
   "id": "859c8374-ce1a-4fa0-8cce-c8df0719d4dd",
   "metadata": {},
   "outputs": [
    {
     "data": {
      "text/plain": [
       "{1, 2, 3, 4, 5}"
      ]
     },
     "execution_count": 68,
     "metadata": {},
     "output_type": "execute_result"
    }
   ],
   "source": [
    "l1"
   ]
  },
  {
   "cell_type": "markdown",
   "id": "349df452-d507-4301-8d28-703f483a03f8",
   "metadata": {},
   "source": [
    "Q5. What is a dictionary? Give an example. Also, state whether a dictionary is ordered or unordered."
   ]
  },
  {
   "cell_type": "code",
   "execution_count": 50,
   "id": "375592c0-7c8b-4884-95d7-515f17226a15",
   "metadata": {},
   "outputs": [],
   "source": [
    "#The dictionary is an unordered collection that contains key:value pairs separated by commas inside curly brackets. \n",
    "#Dictionaries are optimized to retrieve values when the key is known. The following declares a dictionary object. \n",
    "#Example is {\"key\": \"values\"}"
   ]
  },
  {
   "cell_type": "markdown",
   "id": "8e04b4f0-dcc3-46d8-b582-742fec53ad65",
   "metadata": {},
   "source": [
    "Q6. Can we create a nested dictionary? If so, please give an example by creating a simple one-level \n",
    "nested dictionary."
   ]
  },
  {
   "cell_type": "code",
   "execution_count": 69,
   "id": "dc509e20-5ff0-4f00-a00c-734b41771dac",
   "metadata": {},
   "outputs": [
    {
     "data": {
      "text/plain": [
       "{'key': {'name': 'sudhanshu', 'class': 'DSM'}, 'key1': 'abc'}"
      ]
     },
     "execution_count": 69,
     "metadata": {},
     "output_type": "execute_result"
    }
   ],
   "source": [
    "#we can create a nezetd dictionary\n",
    "dict={'key': {'name': 'sudhanshu', 'class': 'DSM'}, 'key1': 'abc'}\n",
    "dict"
   ]
  },
  {
   "cell_type": "markdown",
   "id": "07dcc020-c284-4d19-a420-a534b53f4463",
   "metadata": {},
   "source": [
    "Q7. Using setdefault() method, create key named topics in the given dictionary and also add the value of \n",
    "the key as this list ['Python', 'Machine Learning’, 'Deep Learning']\n",
    "dict1 = {'language' : 'Python', 'course': 'Data Science Masters'}"
   ]
  },
  {
   "cell_type": "code",
   "execution_count": 70,
   "id": "9a59e49e-bbd0-41b7-95b6-87c7b8052596",
   "metadata": {},
   "outputs": [
    {
     "data": {
      "text/plain": [
       "['Python', 'MachineLearning', 'DeepLearning', 'Data Science Masters', 'Python']"
      ]
     },
     "execution_count": 70,
     "metadata": {},
     "output_type": "execute_result"
    }
   ],
   "source": [
    "dict1 = {'language' : 'Python', 'course': 'Data Science Masters'}\n",
    "l=['Python', 'MachineLearning', 'DeepLearning']\n",
    "l.append(dict1.setdefault('course'))\n",
    "l.append(dict1.setdefault('language'))\n",
    "l"
   ]
  },
  {
   "cell_type": "markdown",
   "id": "3cdf44bd-bdb2-430e-b709-e7c050d5c200",
   "metadata": {},
   "source": [
    "Q8. What are the three view objects in dictionaries? Use the three in-built methods in python to display \n",
    "these three view objects for the given dictionary.\n",
    "\n",
    "\n",
    "dict1 = {'Sport': 'Cricket' , 'Teams': ['India', 'Australia', 'England', 'South Africa', 'Sri Lanka', 'New Zealand']}"
   ]
  },
  {
   "cell_type": "code",
   "execution_count": 71,
   "id": "a968a6e9-33a0-4dff-822c-3e437bdf458a",
   "metadata": {},
   "outputs": [],
   "source": [
    "# The main view objects of dictionary in python are keys, values and items\n",
    "dict1 = {'Sport': 'Cricket' , 'Teams': ['India', 'Australia', 'England', 'South Africa', 'Sri Lanka', 'New Zealand']}"
   ]
  },
  {
   "cell_type": "code",
   "execution_count": 72,
   "id": "803e2061-5b5b-48c5-a30c-f8b9a68aecc4",
   "metadata": {},
   "outputs": [
    {
     "data": {
      "text/plain": [
       "['Sport', 'Teams']"
      ]
     },
     "execution_count": 72,
     "metadata": {},
     "output_type": "execute_result"
    }
   ],
   "source": [
    "list(dict1.keys()) # keys of dict"
   ]
  },
  {
   "cell_type": "code",
   "execution_count": 73,
   "id": "65da735d-d159-45f9-a28b-de0c6417f242",
   "metadata": {},
   "outputs": [
    {
     "data": {
      "text/plain": [
       "['Cricket',\n",
       " ['India', 'Australia', 'England', 'South Africa', 'Sri Lanka', 'New Zealand']]"
      ]
     },
     "execution_count": 73,
     "metadata": {},
     "output_type": "execute_result"
    }
   ],
   "source": [
    "list(dict1.values()) # values of dict"
   ]
  },
  {
   "cell_type": "code",
   "execution_count": 74,
   "id": "33591668-6934-4414-8c3b-0bbb64e38887",
   "metadata": {},
   "outputs": [
    {
     "data": {
      "text/plain": [
       "[('Sport', 'Cricket'),\n",
       " ('Teams',\n",
       "  ['India',\n",
       "   'Australia',\n",
       "   'England',\n",
       "   'South Africa',\n",
       "   'Sri Lanka',\n",
       "   'New Zealand'])]"
      ]
     },
     "execution_count": 74,
     "metadata": {},
     "output_type": "execute_result"
    }
   ],
   "source": [
    "list(dict1.items())"
   ]
  }
 ],
 "metadata": {
  "kernelspec": {
   "display_name": "Python 3 (ipykernel)",
   "language": "python",
   "name": "python3"
  },
  "language_info": {
   "codemirror_mode": {
    "name": "ipython",
    "version": 3
   },
   "file_extension": ".py",
   "mimetype": "text/x-python",
   "name": "python",
   "nbconvert_exporter": "python",
   "pygments_lexer": "ipython3",
   "version": "3.10.8"
  }
 },
 "nbformat": 4,
 "nbformat_minor": 5
}
