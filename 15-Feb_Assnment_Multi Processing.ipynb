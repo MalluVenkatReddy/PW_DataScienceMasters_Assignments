{
 "cells": [
  {
   "cell_type": "markdown",
   "id": "3fe79912-7e16-4049-8591-6faf6ee47fb1",
   "metadata": {},
   "source": [
    "Q1. What is multiprocessing in python? Why is it useful?"
   ]
  },
  {
   "cell_type": "code",
   "execution_count": 4,
   "id": "5d606911-7d23-45a7-aaff-8e5a42f1e048",
   "metadata": {},
   "outputs": [],
   "source": [
    "# executing several tasks simultaneously where each task is independent process is called multiprocessing in python. \n",
    "# Multiprocessing can help you analyze large volumes of data quickly. Use multiprocessing to develop programs that are CPU intensive. Multiprocessing can help you speed up processes and provide reliable solutions for programs that involve several CPU tasks"
   ]
  },
  {
   "cell_type": "markdown",
   "id": "2d05afe2-c4fb-4481-8030-3cb84157a5ea",
   "metadata": {},
   "source": [
    "Q2. What are the differences between multiprocessing and multithreading?"
   ]
  },
  {
   "cell_type": "code",
   "execution_count": 5,
   "id": "01547f44-c223-4419-8648-6bbc0bf934f1",
   "metadata": {},
   "outputs": [],
   "source": [
    "#Multiprocessing uses two or more CPUs to increase computing power, whereas multithreading uses a single process with multiple code segments to increase computing power. \n",
    "#Multithreading focuses on generating computing threads from a single process, whereas multiprocessing increases computing power by adding CPUs."
   ]
  },
  {
   "cell_type": "markdown",
   "id": "e22643a4-c37d-45ff-94e9-4dad26932f18",
   "metadata": {},
   "source": [
    "Q3. Write a python code to create a process using the multiprocessing module."
   ]
  },
  {
   "cell_type": "code",
   "execution_count": 6,
   "id": "dcdd2d1c-353d-463f-bc15-b239788ce8c1",
   "metadata": {},
   "outputs": [
    {
     "name": "stdout",
     "output_type": "stream",
     "text": [
      "[1, 4, 9, 16]\n"
     ]
    }
   ],
   "source": [
    "import multiprocessing\n",
    "def square(n):\n",
    "    return n**2\n",
    "if __name__ == \"__main__\":\n",
    "    with multiprocessing.Pool(processes=5) as pool:\n",
    "        out=pool.map(square,[1,2,3,4])\n",
    "        print(out)"
   ]
  },
  {
   "cell_type": "markdown",
   "id": "34c3fd7f-2ba3-428f-95e7-048df1df5046",
   "metadata": {},
   "source": [
    "Q4. What is a multiprocessing pool in python? Why is it used?"
   ]
  },
  {
   "cell_type": "code",
   "execution_count": 7,
   "id": "18304562-c440-4ba7-b411-4c9d12f6a38f",
   "metadata": {},
   "outputs": [],
   "source": [
    "#Python multiprocessing Pool can be used for parallel execution of a function across multiple input values, distributing the input data across processes (data parallelism)."
   ]
  },
  {
   "cell_type": "markdown",
   "id": "c3c8d273-1175-4215-90a8-3a36986ff413",
   "metadata": {},
   "source": [
    "Q5. How can we create a pool of worker processes in python using the multiprocessing module?"
   ]
  },
  {
   "cell_type": "code",
   "execution_count": 8,
   "id": "c06e7e6b-9f10-4df3-a5eb-97a92d6307cf",
   "metadata": {},
   "outputs": [],
   "source": [
    "#Create the process pool by calling the constructor multiprocessing. Pool()."
   ]
  },
  {
   "cell_type": "markdown",
   "id": "33bda25d-949a-4db4-9f0b-80c4f89795e0",
   "metadata": {},
   "source": [
    "Q6. Write a python program to create 4 processes, each process should print a different number using the \n",
    "multiprocessing module in python."
   ]
  },
  {
   "cell_type": "code",
   "execution_count": 3,
   "id": "b6a422a1-57c3-45cb-a02e-9f8a8b333444",
   "metadata": {},
   "outputs": [
    {
     "name": "stdout",
     "output_type": "stream",
     "text": [
      "[1, 4, 9, 16]\n"
     ]
    }
   ],
   "source": [
    "import multiprocessing\n",
    "def square(n):\n",
    "    return n**2\n",
    "if __name__ == \"__main__\":\n",
    "    with multiprocessing.Pool(processes=4) as pool:\n",
    "        out=pool.map(square,[1,2,3,4])\n",
    "        print(out)"
   ]
  }
 ],
 "metadata": {
  "kernelspec": {
   "display_name": "Python 3 (ipykernel)",
   "language": "python",
   "name": "python3"
  },
  "language_info": {
   "codemirror_mode": {
    "name": "ipython",
    "version": 3
   },
   "file_extension": ".py",
   "mimetype": "text/x-python",
   "name": "python",
   "nbconvert_exporter": "python",
   "pygments_lexer": "ipython3",
   "version": "3.10.8"
  }
 },
 "nbformat": 4,
 "nbformat_minor": 5
}
