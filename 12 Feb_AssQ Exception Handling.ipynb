{
 "cells": [
  {
   "cell_type": "markdown",
   "id": "3634aa36-fd79-44c6-9e58-c8e9d716f235",
   "metadata": {},
   "source": [
    "Q1. What is an Exception in python? Write the difference between Exceptions and Syntax errors"
   ]
  },
  {
   "cell_type": "code",
   "execution_count": null,
   "id": "510e34f3-fe96-4e41-b632-ec422266d36a",
   "metadata": {},
   "outputs": [],
   "source": [
    "\"\"\"An exception is an event, which occurs during the execution of a program that disrupts the normal flow of the program's instructions.\n",
    "In general, when a Python script encounters a situation that it cannot cope with, it raises an exception. \n",
    "An exception is a Python object that represents an error.\"\"\"\n",
    "\n",
    "\n",
    "\"\"\"A syntax error occurs when the structure of a program does not conform to the rules of the programming language. Syntax errors are usually detected by the compiler or interpreter when the program is being compiled or executed, and they prevent the program from running. Syntax errors are usually caused by mistakes in the source code, such as typos, omissions, or incorrect use of syntax.\n",
    "\n",
    "An exception is an abnormal event that occurs during the execution of a program. Exceptions are usually caused by runtime errors, such as dividing by zero, trying to access an element in an array with an out-of-bounds index, or trying to access a file that does not exist. Exceptions are not syntax errors, but they can still prevent the program from running if they are not handled properly.\"\"\""
   ]
  },
  {
   "cell_type": "markdown",
   "id": "9c47ec47-3272-4790-af9b-02ca471bbc85",
   "metadata": {},
   "source": [
    "Q2. What hppens when an exception is not handled? Explain with an example?"
   ]
  },
  {
   "cell_type": "code",
   "execution_count": null,
   "id": "a104fc02-1ed3-4516-9719-125d7d5d9af8",
   "metadata": {},
   "outputs": [],
   "source": [
    "\"\"\"When an exception occurred, if you don't handle it, the program terminates abruptly and the code past the line that caused the exception will not get executed\"\"\""
   ]
  },
  {
   "cell_type": "code",
   "execution_count": 7,
   "id": "b3606ece-c6af-44fb-af70-8cbefba7069a",
   "metadata": {},
   "outputs": [
    {
     "ename": "ZeroDivisionError",
     "evalue": "division by zero",
     "output_type": "error",
     "traceback": [
      "\u001b[0;31m---------------------------------------------------------------------------\u001b[0m",
      "\u001b[0;31mZeroDivisionError\u001b[0m                         Traceback (most recent call last)",
      "Cell \u001b[0;32mIn[7], line 2\u001b[0m\n\u001b[1;32m      1\u001b[0m a\u001b[38;5;241m=\u001b[39m\u001b[38;5;241m10\u001b[39m\n\u001b[0;32m----> 2\u001b[0m \u001b[43ma\u001b[49m\u001b[38;5;241;43m/\u001b[39;49m\u001b[38;5;241;43m0\u001b[39;49m\n\u001b[1;32m      3\u001b[0m \u001b[38;5;28mprint\u001b[39m(\u001b[38;5;124m\"\u001b[39m\u001b[38;5;124many number should not devide by zero \u001b[39m\u001b[38;5;124m\"\u001b[39m)\n",
      "\u001b[0;31mZeroDivisionError\u001b[0m: division by zero"
     ]
    }
   ],
   "source": [
    "#with out exception\n",
    "a=10\n",
    "a/0\n",
    "print(\"any number should not devide by zero \")"
   ]
  },
  {
   "cell_type": "code",
   "execution_count": 6,
   "id": "3c19dab9-1648-47f0-8dbc-a783bd8de5dc",
   "metadata": {},
   "outputs": [
    {
     "name": "stdout",
     "output_type": "stream",
     "text": [
      "any number should not devide by zero \n"
     ]
    }
   ],
   "source": [
    "#with exception\n",
    "try:\n",
    "    a=10\n",
    "    a/0\n",
    "except ZeroDivisionError as e:\n",
    "    print(\"any number should not devide by zero \")"
   ]
  },
  {
   "cell_type": "markdown",
   "id": "19c08829-efc3-474f-b3a8-c8cb69dd86f4",
   "metadata": {},
   "source": [
    "Q3. Which Python statements are used to catch and handle exceptions? Explain with an example?"
   ]
  },
  {
   "cell_type": "markdown",
   "id": "a797ee7d-4489-41b5-962a-a149c9e74df5",
   "metadata": {},
   "source": [
    "\"\"\"In Python, we catch exceptions and handle them using try and except code blocks.\"\"\""
   ]
  },
  {
   "cell_type": "code",
   "execution_count": 9,
   "id": "7eafba3e-0b55-422e-8721-a3ef7ded60b0",
   "metadata": {},
   "outputs": [
    {
     "name": "stdout",
     "output_type": "stream",
     "text": [
      "statement1\n",
      "5.0\n",
      "statement3\n"
     ]
    }
   ],
   "source": [
    "print(\"statement1\")\n",
    "try:\n",
    "    print(10/0)\n",
    "except ZeroDivisionError as e:\n",
    "    print(10/2)    \n",
    "print(\"statement3\")"
   ]
  },
  {
   "cell_type": "raw",
   "id": "e9eebdf7-b328-4014-a4cc-006190240234",
   "metadata": {},
   "source": [
    "Q4. Explain with an exmple:\n",
    "    a. try and else\n",
    "    b.finally\n",
    "    c.raise "
   ]
  },
  {
   "cell_type": "code",
   "execution_count": 15,
   "id": "bc5ceddc-aa48-4b02-bb7d-ec9d095416a9",
   "metadata": {},
   "outputs": [
    {
     "name": "stdout",
     "output_type": "stream",
     "text": [
      "no exceptions\n",
      "hi\n"
     ]
    }
   ],
   "source": [
    "# try and else\n",
    "\"\"\"we can use else block with try, except and finally blocks\n",
    "else blcok will be excecuted if and only there are no exceptions inside try block\"\"\"\n",
    "try:\n",
    "    10/2\n",
    "except ZeroDivisionError as e:\n",
    "    print(\"ZeroDivisionError\") \n",
    "else:\n",
    "    print(\"no exceptions\")\n",
    "print(\"hi\")"
   ]
  },
  {
   "cell_type": "code",
   "execution_count": 1,
   "id": "46541508-aabf-44ec-978c-0b85f4f3773c",
   "metadata": {},
   "outputs": [
    {
     "name": "stdout",
     "output_type": "stream",
     "text": [
      "any number should not devide by zero \n",
      "finally\n"
     ]
    }
   ],
   "source": [
    "#finally will use for clean up code, will be executed whether exception raised or not and handled or not\n",
    "try:\n",
    "    a=10\n",
    "    a/0\n",
    "except ZeroDivisionError as e:\n",
    "    print(\"any number should not devide by zero \")\n",
    "finally:\n",
    "    print(\"finally\")"
   ]
  },
  {
   "cell_type": "code",
   "execution_count": 2,
   "id": "b4121454-2f8e-4f10-97c7-baede3e53ae8",
   "metadata": {},
   "outputs": [
    {
     "name": "stdout",
     "output_type": "stream",
     "text": [
      "finally\n"
     ]
    }
   ],
   "source": [
    "#finally will use for clean up code, will be executed whether exception raised or not and handled or not\n",
    "try:\n",
    "    a=10\n",
    "    a/2\n",
    "except ZeroDivisionError as e:\n",
    "    print(\"any number should not devide by zero \")\n",
    "finally:\n",
    "    print(\"finally\")"
   ]
  },
  {
   "cell_type": "code",
   "execution_count": 12,
   "id": "37959a53-6d2e-4209-a698-da370911be82",
   "metadata": {},
   "outputs": [
    {
     "name": "stdin",
     "output_type": "stream",
     "text": [
      "enter age  -45\n"
     ]
    },
    {
     "name": "stdout",
     "output_type": "stream",
     "text": [
      "age should not be less than zero \n"
     ]
    }
   ],
   "source": [
    "#raise will use to create custom exceptions\n",
    "class validateage(Exception):\n",
    "    def __init__ (self,msg):\n",
    "        self.msg=msg\n",
    "        \n",
    "def validate_age(age):\n",
    "    if age<0:\n",
    "        raise validateage(\"age should not be less than zero \")\n",
    "    elif age>100:\n",
    "        raise validateage(\"age should not be greater than 100 \")    \n",
    "    else:\n",
    "        print(f\" age {age} is valid \")\n",
    "\n",
    "try:\n",
    "    age=int(input(\"enter age \"))\n",
    "    validate_age(age)\n",
    "except validateage as e:\n",
    "    print(e)"
   ]
  },
  {
   "cell_type": "markdown",
   "id": "2b2fca16-ce74-4cbb-a582-85cab601693e",
   "metadata": {},
   "source": [
    "Q5. What are Custom Exceptions in python? Why do we need Custom Exceptions? Explain with an example?"
   ]
  },
  {
   "cell_type": "code",
   "execution_count": 14,
   "id": "58423b10-6665-4df2-93ee-925e0583b12b",
   "metadata": {},
   "outputs": [
    {
     "name": "stdin",
     "output_type": "stream",
     "text": [
      "enter age  99\n"
     ]
    },
    {
     "name": "stdout",
     "output_type": "stream",
     "text": [
      " age 99 is valid \n"
     ]
    }
   ],
   "source": [
    "\"\"\"Some time we have to define and raise exception explicitely to indicate soem thing goew wrong, such type of exceptions are called user defined exceptins or customized exceptions.\n",
    "programmer is responsible to define these exceptions and python not having any idea about these, hence we have to raise explicitely based on our requirement by using raise keyword\"\"\"\n",
    "class validateage(Exception):\n",
    "    def __init__ (self,msg):\n",
    "        self.msg=msg\n",
    "        \n",
    "def validate_age(age):\n",
    "    if age<0:\n",
    "        raise validateage(\"age should not be less than zero \")\n",
    "    elif age>100:\n",
    "        raise validateage(\"age should not be greater than 100 \")    \n",
    "    else:\n",
    "        print(f\" age {age} is valid \")\n",
    "\n",
    "try:\n",
    "    age=int(input(\"enter age \"))\n",
    "    validate_age(age)\n",
    "except validateage as e:\n",
    "    print(e)"
   ]
  },
  {
   "cell_type": "markdown",
   "id": "1e9dccac-c15c-4d38-a682-3aa8a135bd5a",
   "metadata": {},
   "source": [
    "Q6. Create custom exception class. Use this class to handle an exception."
   ]
  },
  {
   "cell_type": "code",
   "execution_count": 13,
   "id": "67a55938-0de0-4e04-a94c-f02c7d42400f",
   "metadata": {},
   "outputs": [
    {
     "name": "stdin",
     "output_type": "stream",
     "text": [
      "enter age  56\n"
     ]
    },
    {
     "name": "stdout",
     "output_type": "stream",
     "text": [
      " age 56 is valid \n"
     ]
    }
   ],
   "source": [
    "class validateage(Exception):\n",
    "    def __init__ (self,msg):\n",
    "        self.msg=msg\n",
    "        \n",
    "def validate_age(age):\n",
    "    if age<0:\n",
    "        raise validateage(\"age should not be less than zero \")\n",
    "    elif age>100:\n",
    "        raise validateage(\"age should not be greater than 100 \")    \n",
    "    else:\n",
    "        print(f\" age {age} is valid \")\n",
    "\n",
    "try:\n",
    "    age=int(input(\"enter age \"))\n",
    "    validate_age(age)\n",
    "except validateage as e:\n",
    "    print(e)"
   ]
  }
 ],
 "metadata": {
  "kernelspec": {
   "display_name": "Python 3 (ipykernel)",
   "language": "python",
   "name": "python3"
  },
  "language_info": {
   "codemirror_mode": {
    "name": "ipython",
    "version": 3
   },
   "file_extension": ".py",
   "mimetype": "text/x-python",
   "name": "python",
   "nbconvert_exporter": "python",
   "pygments_lexer": "ipython3",
   "version": "3.10.8"
  }
 },
 "nbformat": 4,
 "nbformat_minor": 5
}
