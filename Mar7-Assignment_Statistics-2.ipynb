{
 "cells": [
  {
   "cell_type": "markdown",
   "id": "67fe9ded-5287-4411-941b-db401a67c2de",
   "metadata": {},
   "source": [
    "Q1. What are the three measures of central tendency?"
   ]
  },
  {
   "cell_type": "raw",
   "id": "3ccb4ad2-a1e1-489b-98ca-c2b7f0980ee4",
   "metadata": {},
   "source": [
    "1. mean\n",
    "2. mode\n",
    "3. median"
   ]
  },
  {
   "cell_type": "markdown",
   "id": "56f666ab-aed7-4495-8c40-59cd435783ed",
   "metadata": {},
   "source": [
    "Q2. What is the difference between the mean, median, and mode? How are they used to measure the \n",
    "central tendency of a dataset?"
   ]
  },
  {
   "cell_type": "raw",
   "id": "54195f68-bd47-4caa-8cc4-25b239d95ec7",
   "metadata": {},
   "source": [
    "The central tendency can be found using the formulas of mean, median or mode in most of the cases. \n",
    "As we know, mean is the average of a given data set, median is the middlemost data value and the mode represents the most frequently occurring data value in the set."
   ]
  },
  {
   "cell_type": "markdown",
   "id": "e90e7537-7f47-4d84-9fce-0fe3872a6e1d",
   "metadata": {},
   "source": [
    "Q3. Measure the three measures of central tendency for the given height data:\n",
    "\n",
    " [178,177,176,177,178.2,178,175,179,180,175,178.9,176.2,177,172.5,178,176.5]"
   ]
  },
  {
   "cell_type": "code",
   "execution_count": 2,
   "id": "f04a6b20-df5a-4efa-9c3c-50b1b70f7f5a",
   "metadata": {},
   "outputs": [],
   "source": [
    "data= [178,177,176,177,178.2,178,175,179,180,175,178.9,176.2,177,172.5,178,176.5]"
   ]
  },
  {
   "cell_type": "code",
   "execution_count": 4,
   "id": "ac2ac7b2-8af6-416f-b54a-da43f2170f20",
   "metadata": {},
   "outputs": [],
   "source": [
    "import pandas as pd\n",
    "df=pd.DataFrame(data)"
   ]
  },
  {
   "cell_type": "code",
   "execution_count": 6,
   "id": "e634ed03-edc8-4b94-8c18-d58a37e83546",
   "metadata": {},
   "outputs": [
    {
     "data": {
      "text/plain": [
       "0    177.01875\n",
       "dtype: float64"
      ]
     },
     "execution_count": 6,
     "metadata": {},
     "output_type": "execute_result"
    }
   ],
   "source": [
    "df.mean()"
   ]
  },
  {
   "cell_type": "code",
   "execution_count": 7,
   "id": "97ade680-212f-4889-a7ca-867254cfa9fd",
   "metadata": {},
   "outputs": [
    {
     "data": {
      "text/plain": [
       "0    177.0\n",
       "dtype: float64"
      ]
     },
     "execution_count": 7,
     "metadata": {},
     "output_type": "execute_result"
    }
   ],
   "source": [
    "df.median()"
   ]
  },
  {
   "cell_type": "code",
   "execution_count": 9,
   "id": "4d30a52f-5d11-4e79-b095-45e94b56e972",
   "metadata": {},
   "outputs": [],
   "source": [
    "from scipy import stats"
   ]
  },
  {
   "cell_type": "code",
   "execution_count": 10,
   "id": "00d90444-234c-408f-a138-81907df30cfa",
   "metadata": {},
   "outputs": [
    {
     "name": "stderr",
     "output_type": "stream",
     "text": [
      "/tmp/ipykernel_77/4235401754.py:1: FutureWarning: Unlike other reduction functions (e.g. `skew`, `kurtosis`), the default behavior of `mode` typically preserves the axis it acts along. In SciPy 1.11.0, this behavior will change: the default value of `keepdims` will become False, the `axis` over which the statistic is taken will be eliminated, and the value None will no longer be accepted. Set `keepdims` to True or False to avoid this warning.\n",
      "  stats.mode(df)\n"
     ]
    },
    {
     "data": {
      "text/plain": [
       "ModeResult(mode=array([[177.]]), count=array([[3]]))"
      ]
     },
     "execution_count": 10,
     "metadata": {},
     "output_type": "execute_result"
    }
   ],
   "source": [
    "stats.mode(df)"
   ]
  },
  {
   "cell_type": "markdown",
   "id": "45311c43-b470-4519-96a3-90a903a47044",
   "metadata": {},
   "source": [
    "Q4. Find the standard deviation for the given data:\n",
    "\n",
    "[178,177,176,177,178.2,178,175,179,180,175,178.9,176.2,177,172.5,178,176.5]"
   ]
  },
  {
   "cell_type": "code",
   "execution_count": 11,
   "id": "67ad0c30-00ea-4a7d-8409-99867eab59f8",
   "metadata": {},
   "outputs": [],
   "source": [
    "data=[178,177,176,177,178.2,178,175,179,180,175,178.9,176.2,177,172.5,178,176.5]"
   ]
  },
  {
   "cell_type": "code",
   "execution_count": 12,
   "id": "5cfac9e3-f023-4290-810f-169920b30eb4",
   "metadata": {},
   "outputs": [],
   "source": [
    "import numpy as np"
   ]
  },
  {
   "cell_type": "code",
   "execution_count": 13,
   "id": "b10960ef-5cb6-43ec-9478-2a3ebe1619b9",
   "metadata": {},
   "outputs": [
    {
     "data": {
      "text/plain": [
       "1.7885814036548633"
      ]
     },
     "execution_count": 13,
     "metadata": {},
     "output_type": "execute_result"
    }
   ],
   "source": [
    "np.std(data)"
   ]
  },
  {
   "cell_type": "code",
   "execution_count": 14,
   "id": "e892d970-b9c7-481b-b160-a23a48699a1f",
   "metadata": {},
   "outputs": [
    {
     "data": {
      "text/plain": [
       "3.199023437500001"
      ]
     },
     "execution_count": 14,
     "metadata": {},
     "output_type": "execute_result"
    }
   ],
   "source": [
    "np.var(data)"
   ]
  },
  {
   "cell_type": "code",
   "execution_count": null,
   "id": "139906a6-1091-40f5-a2ba-114b8b63a428",
   "metadata": {},
   "outputs": [],
   "source": [
    "Q5. How are measures of dispersion such as range, variance, and standard deviation used to describe \n",
    "the spread of a dataset? Provide an example."
   ]
  },
  {
   "cell_type": "raw",
   "id": "93c3fbdb-5558-4654-aeff-c342024ae7ad",
   "metadata": {},
   "source": [
    "Unlike range and interquartile range, variance is a measure of dispersion that takes into account the spread of all data points in a data set. It's the measure of dispersion the most often used, along with the standard deviation, which is simply the square root of the variance"
   ]
  },
  {
   "cell_type": "code",
   "execution_count": null,
   "id": "7bcc700d-b1d8-4af7-beff-1cd87a1aad28",
   "metadata": {},
   "outputs": [],
   "source": [
    "# standarad deviation increases, distribution spreads shown in below example"
   ]
  },
  {
   "cell_type": "code",
   "execution_count": 37,
   "id": "89348e79-686b-48bb-ad8a-0d3067842756",
   "metadata": {},
   "outputs": [],
   "source": [
    "data=[12, 15, 17, 20, 30, 31, 43, 44, 54]\n",
    "data1=[1,12, 15, 17, 20, 30, 31, 43, 44, 54]"
   ]
  },
  {
   "cell_type": "code",
   "execution_count": 42,
   "id": "e9466a2c-2115-46a9-b3ff-2bf913838622",
   "metadata": {},
   "outputs": [],
   "source": [
    "import matplotlib.pyplot as plt\n",
    "from scipy.stats import norm"
   ]
  },
  {
   "cell_type": "code",
   "execution_count": 38,
   "id": "62ed0e7b-6138-4488-867d-4b4bc1462d94",
   "metadata": {},
   "outputs": [
    {
     "data": {
      "text/plain": [
       "13.9770535053479"
      ]
     },
     "execution_count": 38,
     "metadata": {},
     "output_type": "execute_result"
    }
   ],
   "source": [
    "np.std(data)"
   ]
  },
  {
   "cell_type": "code",
   "execution_count": 39,
   "id": "67dec3fb-c08c-4bfe-9542-2aa1c345b434",
   "metadata": {},
   "outputs": [
    {
     "data": {
      "text/plain": [
       "15.786386540307442"
      ]
     },
     "execution_count": 39,
     "metadata": {},
     "output_type": "execute_result"
    }
   ],
   "source": [
    "np.std(data1)"
   ]
  },
  {
   "cell_type": "code",
   "execution_count": 40,
   "id": "fac93a31-c26a-473e-92e3-5dc431640553",
   "metadata": {},
   "outputs": [
    {
     "data": {
      "text/plain": [
       "[<matplotlib.lines.Line2D at 0x7f1e22508eb0>]"
      ]
     },
     "execution_count": 40,
     "metadata": {},
     "output_type": "execute_result"
    },
    {
     "data": {
      "image/png": "[encoded data removed]",
      "text/plain": [
       "<Figure size 640x480 with 1 Axes>"
      ]
     },
     "metadata": {},
     "output_type": "display_data"
    }
   ],
   "source": [
    "plt.plot(data,norm.pdf(data, np.mean(data), np.std(data)))"
   ]
  },
  {
   "cell_type": "code",
   "execution_count": 41,
   "id": "f3008f08-1722-4505-9081-454ce0a97206",
   "metadata": {},
   "outputs": [
    {
     "data": {
      "text/plain": [
       "[<matplotlib.lines.Line2D at 0x7f1e22365570>]"
      ]
     },
     "execution_count": 41,
     "metadata": {},
     "output_type": "execute_result"
    },
    {
     "data": {
      "image/png": "[encoded data removed]",
      "text/plain": [
       "<Figure size 640x480 with 1 Axes>"
      ]
     },
     "metadata": {},
     "output_type": "display_data"
    }
   ],
   "source": [
    "plt.plot(data1,norm.pdf(data1, np.mean(data1), np.std(data1)))"
   ]
  },
  {
   "cell_type": "code",
   "execution_count": null,
   "id": "65ba7ff8-bd72-4489-82b9-79d998b34132",
   "metadata": {},
   "outputs": [],
   "source": [
    "Q6. What is a Venn diagram"
   ]
  },
  {
   "cell_type": "raw",
   "id": "edb8e1fa-ee71-44a7-b94e-d9fe4e99dece",
   "metadata": {},
   "source": [
    "A Venn diagram illustrates the relationships between two or more data sets. Venn diagrams are especially useful for highlighting similarities and differences and are commonly used to compare and contrast the characteristics of different data sets. In a Venn diagram, circles are used to represent each data set."
   ]
  },
  {
   "cell_type": "markdown",
   "id": "11698ea7-2de8-4027-8101-24ce0f4ca1fd",
   "metadata": {},
   "source": [
    "Q7. For the two given sets A = (2,3,4,5,6,7) & B = (0,2,6,8,10). Find:\n",
    "\n",
    "(i) \tA ⋂ B\n",
    "\n",
    "(ii)\tA ⋃ B"
   ]
  },
  {
   "cell_type": "code",
   "execution_count": 47,
   "id": "76ada10f-53d2-4f12-a69e-fbbc64bab458",
   "metadata": {},
   "outputs": [],
   "source": [
    "A = {2,3,4,5,6,7}\n",
    "B = {0,2,6,8,10}"
   ]
  },
  {
   "cell_type": "code",
   "execution_count": 50,
   "id": "e4164582-d0ab-45f4-8abd-7674562c8514",
   "metadata": {},
   "outputs": [
    {
     "data": {
      "text/plain": [
       "{2, 6}"
      ]
     },
     "execution_count": 50,
     "metadata": {},
     "output_type": "execute_result"
    }
   ],
   "source": [
    "A.intersection(B)"
   ]
  },
  {
   "cell_type": "code",
   "execution_count": 51,
   "id": "4397b208-f037-4475-bbbb-dcf10cc11b3e",
   "metadata": {},
   "outputs": [
    {
     "data": {
      "text/plain": [
       "{0, 2, 3, 4, 5, 6, 7, 8, 10}"
      ]
     },
     "execution_count": 51,
     "metadata": {},
     "output_type": "execute_result"
    }
   ],
   "source": [
    "A.union(B)"
   ]
  },
  {
   "cell_type": "markdown",
   "id": "8423811e-3d2b-4eca-a5c6-534c92adfba4",
   "metadata": {},
   "source": [
    "Q8. What do you understand about skewness in data?"
   ]
  },
  {
   "cell_type": "raw",
   "id": "b8eb5a66-8d8d-473d-918f-4afa82faf327",
   "metadata": {},
   "source": [
    "What Is Skewness? Skewness is a measurement of the distortion of symmetrical distribution or asymmetry in a data set. \n",
    "Skewness is demonstrated on a bell curve when data points are not distributed symmetrically to the left and right sides of the median on a bell curve."
   ]
  },
  {
   "cell_type": "markdown",
   "id": "82b5c2bf-dff6-4bb7-ab01-0fee0250d589",
   "metadata": {},
   "source": [
    "Q9. If a data is right skewed then what will be the position of median with respect to mean?"
   ]
  },
  {
   "cell_type": "raw",
   "id": "ccd83d17-a8f7-458f-8095-b14a54ea4303",
   "metadata": {},
   "source": [
    "median will be left side of mean on rigth skewed"
   ]
  },
  {
   "cell_type": "markdown",
   "id": "f4561787-4f8f-4c66-aa21-6f7da9770d30",
   "metadata": {},
   "source": [
    "Q10. Explain the difference between covariance and correlation. How are these measures used in \n",
    "statistical analysis?"
   ]
  },
  {
   "cell_type": "raw",
   "id": "81a6fb16-608f-4e5b-8b06-32cc9c3f070d",
   "metadata": {},
   "source": [
    "Covariance and correlation are two terms that are opposed and are both used in statistics and regression analysis. Covariance shows you how the two variables differ, whereas correlation shows you how the two variables are related."
   ]
  },
  {
   "cell_type": "raw",
   "id": "69e8af08-c0b1-4069-aa8b-9289e0e83110",
   "metadata": {},
   "source": [
    "Covariance can now conclude, how much related both variables, but correlationvalues limit to -1 to 1 and this values relates well 2 different variables."
   ]
  },
  {
   "cell_type": "markdown",
   "id": "bb060b65-a102-4354-8801-476fa5d831a2",
   "metadata": {},
   "source": [
    "Q11. What is the formula for calculating the sample mean? Provide an example calculation for a \n",
    "dataset."
   ]
  },
  {
   "cell_type": "raw",
   "id": "ebf0e6e8-53bd-4e0f-9547-4ea859f60c21",
   "metadata": {},
   "source": [
    "The general formula for calculating the sample mean is given by x̄ = ( Σ xi ) / n. Here, x̄ represents the sample mean, xi refers all X sample values and n stands for the number of sample terms in the data set."
   ]
  },
  {
   "cell_type": "code",
   "execution_count": 1,
   "id": "d3c170e1-c26a-44b9-a441-b6cc9674d984",
   "metadata": {},
   "outputs": [],
   "source": [
    "sample=[178,177,176,177,178.2,178,175,179,180,175,178.9,176.2,177,172.5,178,176.5]"
   ]
  },
  {
   "cell_type": "code",
   "execution_count": 4,
   "id": "7f00d4bf-4469-4d81-9c5f-46a11054efb1",
   "metadata": {},
   "outputs": [
    {
     "data": {
      "text/plain": [
       "177.01875"
      ]
     },
     "execution_count": 4,
     "metadata": {},
     "output_type": "execute_result"
    }
   ],
   "source": [
    "import numpy as np\n",
    "np.mean(sample)"
   ]
  },
  {
   "cell_type": "markdown",
   "id": "c5bbc75b-eda6-47c9-983f-810903e836f4",
   "metadata": {},
   "source": [
    "Q12. For a normal distribution data what is the relationship between its measure of central tendency?"
   ]
  },
  {
   "cell_type": "raw",
   "id": "6609ae0d-8bc9-4765-87a4-c8c1b07c555d",
   "metadata": {},
   "source": [
    "Any normal distribution has a graph that is perfectly symmetric about a vertical line through its peak. Therefore, all measures of central tendency (most commonly, the mean, median, and mode) give the same answer: the x -value of the peak"
   ]
  },
  {
   "cell_type": "markdown",
   "id": "d21974e8-30e9-42bb-a0f5-8ecb520f0045",
   "metadata": {},
   "source": [
    "Q13. How is covariance different from correlation?"
   ]
  },
  {
   "cell_type": "raw",
   "id": "a67d216d-8df7-4ce1-8654-9d4a21d4e973",
   "metadata": {},
   "source": [
    "Covariance and correlation are two terms that are opposed and are both used in statistics and regression analysis. Covariance shows you how the two variables differ, whereas correlation shows you how the two variables are related."
   ]
  },
  {
   "cell_type": "markdown",
   "id": "6ca665b0-1d13-435f-b73e-bdf8a632fb50",
   "metadata": {},
   "source": [
    "Q14. How do outliers affect measures of central tendency and dispersion? Provide an example"
   ]
  },
  {
   "cell_type": "raw",
   "id": "a8222093-bb73-48de-aaaf-4a2354a4ceef",
   "metadata": {},
   "source": [
    "Outliers are numbers in a data set that are vastly larger or smaller than the other values in the set. Mean, median and mode are measures of central tendency. Mean is the only measure of central tendency that is always affected by an outlier. Mean, the average, is the most popular measure of central tendency."
   ]
  },
  {
   "cell_type": "raw",
   "id": "ac664d89-d225-405a-b738-1ca6a9c2e270",
   "metadata": {},
   "source": [
    "Range tells us about the lower and upper limits of the data set. It is the difference between the smallest and the largest observations. The range is very sensitive to outliers."
   ]
  },
  {
   "cell_type": "code",
   "execution_count": 5,
   "id": "8f68d6ad-5319-4f91-abaf-be9fedcc6ba3",
   "metadata": {},
   "outputs": [],
   "source": [
    "data=[178,177,176,177,178.2,178,175,179,180,175,178.9,176.2,177,172.5,178,176.5]"
   ]
  },
  {
   "cell_type": "code",
   "execution_count": 6,
   "id": "0a52da79-b7b6-4afb-9065-f304d2fd129d",
   "metadata": {},
   "outputs": [
    {
     "data": {
      "text/plain": [
       "177.01875"
      ]
     },
     "execution_count": 6,
     "metadata": {},
     "output_type": "execute_result"
    }
   ],
   "source": [
    "import numpy as np\n",
    "np.mean(data)"
   ]
  },
  {
   "cell_type": "code",
   "execution_count": 8,
   "id": "19c28e47-5c9f-4cb6-9e1d-5c3aa7565ba4",
   "metadata": {},
   "outputs": [
    {
     "data": {
      "text/plain": [
       "177.0"
      ]
     },
     "execution_count": 8,
     "metadata": {},
     "output_type": "execute_result"
    }
   ],
   "source": [
    "np.median(data)"
   ]
  },
  {
   "cell_type": "code",
   "execution_count": 9,
   "id": "9889dbfb-6eda-4cd7-bfba-c168002f62ad",
   "metadata": {},
   "outputs": [
    {
     "name": "stderr",
     "output_type": "stream",
     "text": [
      "/tmp/ipykernel_133/2800027621.py:2: FutureWarning: Unlike other reduction functions (e.g. `skew`, `kurtosis`), the default behavior of `mode` typically preserves the axis it acts along. In SciPy 1.11.0, this behavior will change: the default value of `keepdims` will become False, the `axis` over which the statistic is taken will be eliminated, and the value None will no longer be accepted. Set `keepdims` to True or False to avoid this warning.\n",
      "  stats.mode(data)\n"
     ]
    },
    {
     "data": {
      "text/plain": [
       "ModeResult(mode=array([177.]), count=array([3]))"
      ]
     },
     "execution_count": 9,
     "metadata": {},
     "output_type": "execute_result"
    }
   ],
   "source": [
    "from scipy import stats\n",
    "stats.mode(data)"
   ]
  },
  {
   "cell_type": "code",
   "execution_count": 10,
   "id": "2b3e0995-a70b-4e8f-bcbf-f159b27d61d4",
   "metadata": {},
   "outputs": [
    {
     "data": {
      "text/plain": [
       "3.199023437500001"
      ]
     },
     "execution_count": 10,
     "metadata": {},
     "output_type": "execute_result"
    }
   ],
   "source": [
    "np.var(data)"
   ]
  },
  {
   "cell_type": "code",
   "execution_count": 11,
   "id": "a29a81b0-57f5-45aa-bac9-afb959f8faa9",
   "metadata": {},
   "outputs": [
    {
     "data": {
      "text/plain": [
       "1.7885814036548633"
      ]
     },
     "execution_count": 11,
     "metadata": {},
     "output_type": "execute_result"
    }
   ],
   "source": [
    "np.std(data)"
   ]
  },
  {
   "cell_type": "code",
   "execution_count": 16,
   "id": "e9ac8400-be0f-4d39-989c-73e10311e955",
   "metadata": {},
   "outputs": [],
   "source": [
    "data1=[3,178,177,176,177,178.2,178,175,179,180,175,178.9,176.2,177,172.5,178,176.5,800] # outluiers added"
   ]
  },
  {
   "cell_type": "code",
   "execution_count": 17,
   "id": "b129d561-ea73-4f5b-bef5-4844d3342c6f",
   "metadata": {},
   "outputs": [
    {
     "data": {
      "text/plain": [
       "201.9611111111111"
      ]
     },
     "execution_count": 17,
     "metadata": {},
     "output_type": "execute_result"
    }
   ],
   "source": [
    "np.mean(data1) # mean is efefcted with outliers"
   ]
  },
  {
   "cell_type": "code",
   "execution_count": 14,
   "id": "8f3d5e43-d5db-4e1a-ac71-ef28924ef64b",
   "metadata": {},
   "outputs": [
    {
     "data": {
      "text/plain": [
       "177.0"
      ]
     },
     "execution_count": 14,
     "metadata": {},
     "output_type": "execute_result"
    }
   ],
   "source": [
    "np.median(data1)"
   ]
  },
  {
   "cell_type": "code",
   "execution_count": 15,
   "id": "8e1bf982-3615-4165-bad9-b971e747975d",
   "metadata": {},
   "outputs": [
    {
     "name": "stderr",
     "output_type": "stream",
     "text": [
      "/tmp/ipykernel_133/760597495.py:1: FutureWarning: Unlike other reduction functions (e.g. `skew`, `kurtosis`), the default behavior of `mode` typically preserves the axis it acts along. In SciPy 1.11.0, this behavior will change: the default value of `keepdims` will become False, the `axis` over which the statistic is taken will be eliminated, and the value None will no longer be accepted. Set `keepdims` to True or False to avoid this warning.\n",
      "  stats.mode(data1)\n"
     ]
    },
    {
     "data": {
      "text/plain": [
       "ModeResult(mode=array([177.]), count=array([3]))"
      ]
     },
     "execution_count": 15,
     "metadata": {},
     "output_type": "execute_result"
    }
   ],
   "source": [
    "stats.mode(data1)"
   ]
  },
  {
   "cell_type": "code",
   "execution_count": 18,
   "id": "3e48a89b-f599-4928-826a-c04ad7cba59e",
   "metadata": {},
   "outputs": [
    {
     "data": {
      "text/plain": [
       "22624.509043209877"
      ]
     },
     "execution_count": 18,
     "metadata": {},
     "output_type": "execute_result"
    }
   ],
   "source": [
    "np.var(data1) # variance also highly impacted by outluers"
   ]
  },
  {
   "cell_type": "code",
   "execution_count": 20,
   "id": "5d80523e-f0e9-4927-a38a-873654608d16",
   "metadata": {},
   "outputs": [
    {
     "data": {
      "text/plain": [
       "150.41445756046815"
      ]
     },
     "execution_count": 20,
     "metadata": {},
     "output_type": "execute_result"
    }
   ],
   "source": [
    "np.std(data1) # standarad deviation also highly impacted by outluers"
   ]
  }
 ],
 "metadata": {
  "kernelspec": {
   "display_name": "Python 3 (ipykernel)",
   "language": "python",
   "name": "python3"
  },
  "language_info": {
   "codemirror_mode": {
    "name": "ipython",
    "version": 3
   },
   "file_extension": ".py",
   "mimetype": "text/x-python",
   "name": "python",
   "nbconvert_exporter": "python",
   "pygments_lexer": "ipython3",
   "version": "3.10.8"
  }
 },
 "nbformat": 4,
 "nbformat_minor": 5
}
