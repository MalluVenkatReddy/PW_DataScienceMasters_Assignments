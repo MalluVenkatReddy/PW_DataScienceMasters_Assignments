{
 "cells": [
  {
   "cell_type": "markdown",
   "id": "a1347cad-33ee-4668-ad21-2011c87c781a",
   "metadata": {},
   "source": [
    "Q1. Which keyword is used to create a function? Create a function to return a list of odd numbers in the \n",
    "range of 1 to 25."
   ]
  },
  {
   "cell_type": "code",
   "execution_count": 2,
   "id": "eadc2265-ad0c-4356-843c-9f70fd040228",
   "metadata": {},
   "outputs": [
    {
     "data": {
      "text/plain": [
       "[1, 3, 5, 7, 9, 11, 13, 15, 17, 19, 21, 23, 25]"
      ]
     },
     "execution_count": 2,
     "metadata": {},
     "output_type": "execute_result"
    }
   ],
   "source": [
    "# The def keyword is used to create, (or define) a function\n",
    "def odd(n):\n",
    "    l=[]\n",
    "    for i in range(n+1):\n",
    "        if i%2!=0:\n",
    "            l.append(i)\n",
    "    return l\n",
    "odd(25)"
   ]
  },
  {
   "cell_type": "markdown",
   "id": "fbbabd88-f9cc-4229-800c-e95b8d88b9ed",
   "metadata": {},
   "source": [
    "Why *args and **kwargs is used in some functions?Q2. Why *args and **kwargs is used in some functions? Create a function each for *args and **kwargs to \n",
    "demonstrate their use"
   ]
  },
  {
   "cell_type": "code",
   "execution_count": 2,
   "id": "f6b563ca-57d3-49e6-bfb2-f41911c82c87",
   "metadata": {},
   "outputs": [
    {
     "name": "stdout",
     "output_type": "stream",
     "text": [
      " args function example \n",
      "1\n",
      "2\n",
      "3\n",
      "4\n",
      " kwargs function example \n",
      "a 1\n",
      "b 2\n",
      "c 3\n"
     ]
    }
   ],
   "source": [
    "#We use *args and **kwargs as an argument when we are unsure about the number of arguments to pass in the functions.\n",
    "#*args function\n",
    "print(\" args function example \")\n",
    "def arg_s(*args):\n",
    "    for i in args:\n",
    "        print(i)\n",
    "arg_s(1,2,3,4)\n",
    "#**kwargs function\n",
    "print(\" kwargs function example \")\n",
    "def kw_args(**kwargs):\n",
    "    for i in kwargs.keys():\n",
    "        print(i,kwargs[i])\n",
    "kw_args(a=1,b=2,c=3)"
   ]
  },
  {
   "cell_type": "markdown",
   "id": "b5028566-429c-4ce7-a9ec-fc53fc2909db",
   "metadata": {},
   "source": [
    "Q3.  What is an iterator in python? Name the method used to initialise the iterator object and the method \n",
    "used for iteration. Use these methods to print the first five elements of the given list [2, 4, 6, 8, 10, 12, 14, 16, \n",
    "18, 20]."
   ]
  },
  {
   "cell_type": "code",
   "execution_count": 4,
   "id": "cc888156-c250-4b02-b671-65e3142609ea",
   "metadata": {},
   "outputs": [
    {
     "name": "stdout",
     "output_type": "stream",
     "text": [
      "2\n",
      "4\n",
      "6\n",
      "8\n",
      "10\n"
     ]
    }
   ],
   "source": [
    "#An iterator is an object that contains a countable number of values\n",
    "#next()\n",
    "\n",
    "#The iter() method is called for the initialization of an iterator. This returns an iterator object.\n",
    "#The next method returns the next value for the iterable. When we use a for loop to traverse any iterable object, internally it uses the iter() method to get an iterator object, which further uses the next() method to iterate over. \n",
    "#This method raises a StopIteration to signal the end of the iteration.\n",
    "l=[2, 4, 6, 8, 10, 12, 14, 16, 18, 20]\n",
    "a=iter(l)\n",
    "for i in range(5):\n",
    "    print(next(a))"
   ]
  },
  {
   "cell_type": "markdown",
   "id": "b617fc2d-2bd7-4db5-882d-3272614309b4",
   "metadata": {},
   "source": [
    "Q4.  What is a generator function in python? Why yield keyword is used? Give an example of a generator \n",
    "function."
   ]
  },
  {
   "cell_type": "code",
   "execution_count": 5,
   "id": "a84dedba-d8b4-47c5-8aff-0b280874b7c5",
   "metadata": {},
   "outputs": [
    {
     "name": "stdout",
     "output_type": "stream",
     "text": [
      "0\n",
      "1\n",
      "1\n",
      "2\n",
      "3\n",
      "5\n",
      "8\n",
      "13\n",
      "21\n",
      "34\n"
     ]
    }
   ],
   "source": [
    "#Python Generator functions allow you to declare a function that behaves likes an iterator, allowing programmers to make an iterator in a fast, easy, and clean way.\n",
    "#yield keyword is used to create a generator function. \n",
    "def fib_num(n):\n",
    "    a,b=0,1\n",
    "    for i in range(n):\n",
    "        yield a\n",
    "        a,b=b,a+b\n",
    "fib_num(10)\n",
    "for i in fib_num(10):\n",
    "    print(i)"
   ]
  },
  {
   "cell_type": "markdown",
   "id": "7861769a-ad96-4d99-8b41-7e6bf6aa07e3",
   "metadata": {},
   "source": [
    "Q5. Create a generator function for prime numbers less than 1000. Use the next() method to print the \n",
    "first 20 prime numbers"
   ]
  },
  {
   "cell_type": "code",
   "execution_count": 2,
   "id": "7074873a-e7b1-4ef7-9b87-26262e4ea4ef",
   "metadata": {},
   "outputs": [
    {
     "name": "stdout",
     "output_type": "stream",
     "text": [
      "[2, 3, 5, 7, 11, 13, 17, 19, 23, 29, 31, 37, 41, 43, 47, 53, 59, 61, 67, 71, 73, 79, 83, 89, 97, 101, 103, 107, 109, 113, 127, 131, 137, 139, 149, 151, 157, 163, 167, 173, 179, 181, 191, 193, 197, 199, 211, 223, 227, 229, 233, 239, 241, 251, 257, 263, 269, 271, 277, 281, 283, 293, 307, 311, 313, 317, 331, 337, 347, 349, 353, 359, 367, 373, 379, 383, 389, 397, 401, 409, 419, 421, 431, 433, 439, 443, 449, 457, 461, 463, 467, 479, 487, 491, 499, 503, 509, 521, 523, 541, 547, 557, 563, 569, 571, 577, 587, 593, 599, 601, 607, 613, 617, 619, 631, 641, 643, 647, 653, 659, 661, 673, 677, 683, 691, 701, 709, 719, 727, 733, 739, 743, 751, 757, 761, 769, 773, 787, 797, 809, 811, 821, 823, 827, 829, 839, 853, 857, 859, 863, 877, 881, 883, 887, 907, 911, 919, 929, 937, 941, 947, 953, 967, 971, 977, 983, 991, 997]\n",
      " \n",
      "2 3 5 7 11 13 17 19 23 29 31 37 41 43 47 53 59 61 67 71 "
     ]
    }
   ],
   "source": [
    "def prime_num(n=1000):\n",
    "    for i in range(2,n+1):\n",
    "        if i==2:\n",
    "            yield i\n",
    "        else:\n",
    "            for j in range(2,i//2+1):\n",
    "                if i%j==0:\n",
    "                    break\n",
    "            else:\n",
    "                yield i\n",
    "l=prime_num()\n",
    "print(list(l))\n",
    "print(\" \")\n",
    "x=prime_num()\n",
    "for i in range(1,21):\n",
    "    print(next(x), end=\" \")"
   ]
  },
  {
   "cell_type": "code",
   "execution_count": null,
   "id": "e0038b47-be87-4977-9dc0-5d4386a54181",
   "metadata": {},
   "outputs": [],
   "source": []
  }
 ],
 "metadata": {
  "kernelspec": {
   "display_name": "Python 3 (ipykernel)",
   "language": "python",
   "name": "python3"
  },
  "language_info": {
   "codemirror_mode": {
    "name": "ipython",
    "version": 3
   },
   "file_extension": ".py",
   "mimetype": "text/x-python",
   "name": "python",
   "nbconvert_exporter": "python",
   "pygments_lexer": "ipython3",
   "version": "3.10.8"
  }
 },
 "nbformat": 4,
 "nbformat_minor": 5
}
