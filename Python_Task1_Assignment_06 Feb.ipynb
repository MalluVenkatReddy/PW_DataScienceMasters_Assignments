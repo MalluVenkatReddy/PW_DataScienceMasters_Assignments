{
 "cells": [
  {
   "cell_type": "markdown",
   "id": "1dcd544f-9dbf-460c-adc3-3e199dd64197",
   "metadata": {},
   "source": [
    "Q1. Create a function which will take a list as an argument and return the product of all the numbers after creating a flat list.\n",
    "\n",
    "Use the below-given list as an argument for your function.\n",
    "\n",
    "list1 = [1,2,3,4, [44,55,66, True], False, (34,56,78,89,34), {1,2,3,3,2,1}, {1:34, \"key2\": [55, 67, 78, 89], 4: (45, 22, 61, 34)}, [56, 'data science'], 'Machine Learning']\n",
    "\n",
    "Note: you must extract numeric keys and values of the dictionary also."
   ]
  },
  {
   "cell_type": "markdown",
   "id": "6a19f27e-4de5-46cf-9b9a-05ab7b40b670",
   "metadata": {},
   "source": [
    "# With out an argument"
   ]
  },
  {
   "cell_type": "code",
   "execution_count": 8,
   "id": "96dd23df-df62-4ead-8942-61af2771b8d9",
   "metadata": {},
   "outputs": [
    {
     "name": "stdout",
     "output_type": "stream",
     "text": [
      "[1, 2, 3, 4, 44, 55, 66, 34, 56, 78, 89, 34, 1, 2, 3, 1, 4, 34, 55, 67, 78, 89, 45, 22, 61, 34, 56]\n",
      "product of all the numbners is 4134711838987085478833841242112000 \n"
     ]
    }
   ],
   "source": [
    "from functools import  reduce\n",
    "l= [1,2,3,4, [44,55,66, True], False, (34,56,78,89,34), {1,2,3,3,2,1}, {1:34, \"key2\": [55, 67, 78, 89], 4: (45, 22, 61, 34)}, [56, 'data science'], 'Machine Learning']\n",
    "m=[]\n",
    "def int_fn(l):\n",
    "    for i in l:\n",
    "        if type(i)==int:\n",
    "            m.append(i)\n",
    "        elif type(i)==list:\n",
    "#            print(i)\n",
    "            int_fn(i)\n",
    "        elif type(i)==tuple:\n",
    "#            print(i)\n",
    "            int_fn(i)\n",
    "        elif type(i)==set:\n",
    "#            print(i)\n",
    "            int_fn(i)\n",
    "        elif type(i)==dict:\n",
    "#            print(i.keys())\n",
    "#            print(i.values())\n",
    "            int_fn(i.keys())\n",
    "            int_fn(i.values())\n",
    "    return m\n",
    "list_a=int_fn(l)\n",
    "print(list_a)\n",
    "prod=reduce(lambda x,y:x*y,list_a)\n",
    "print(f\"product of all the numbners is {prod} \")"
   ]
  },
  {
   "cell_type": "markdown",
   "id": "66661d40-5fa3-45dc-bd8a-a1917dcdcc59",
   "metadata": {},
   "source": [
    "# With an argument"
   ]
  },
  {
   "cell_type": "code",
   "execution_count": 10,
   "id": "d0b92fd3-4da4-4eb9-b875-d5c4290c7484",
   "metadata": {},
   "outputs": [
    {
     "name": "stdout",
     "output_type": "stream",
     "text": [
      "[1, 2, 3, 4, 44, 55, 66, 34, 56, 78, 89, 34, 1, 2, 3, 1, 4, 34, 55, 67, 78, 89, 45, 22, 61, 34, 56]\n"
     ]
    },
    {
     "data": {
      "text/plain": [
       "4134711838987085478833841242112000"
      ]
     },
     "execution_count": 10,
     "metadata": {},
     "output_type": "execute_result"
    }
   ],
   "source": [
    "from functools import  reduce\n",
    "l= [1,2,3,4, [44,55,66, True], False, (34,56,78,89,34), {1,2,3,3,2,1}, {1:34, \"key2\": [55, 67, 78, 89], 4: (45, 22, 61, 34)}, [56, 'data science'], 'Machine Learning']\n",
    "m=[]\n",
    "def func(*args):\n",
    "    for l in args:\n",
    "#        print(l)\n",
    "        int_fn(l)\n",
    "    return m\n",
    "        \n",
    "def int_fn(l):\n",
    "    for i in l:\n",
    "        if type(i)==int:\n",
    "            m.append(i)\n",
    "        elif type(i)==list:\n",
    "#            print(i)\n",
    "            int_fn(i)\n",
    "        elif type(i)==tuple:\n",
    "#            print(i)\n",
    "            int_fn(i)\n",
    "        elif type(i)==set:\n",
    "#            print(i)\n",
    "            int_fn(i)\n",
    "        elif type(i)==dict:\n",
    "#            print(i.keys())\n",
    "#            print(i.values())\n",
    "            int_fn(i.keys())\n",
    "            int_fn(i.values())\n",
    "list_a=func(l)\n",
    "print(list_a)\n",
    "reduce(lambda x,y:x*y,list_a)"
   ]
  },
  {
   "cell_type": "raw",
   "id": "44a55586-bd9a-4416-9dd7-7c17965d2002",
   "metadata": {},
   "source": [
    "Q2. Write a python program for encrypting a message sent to you by your friend. The logic of encryption should be such that, for a the output should be z. For b, the output should be y. For c, the output should be x respectively. Also, the whitespace should be replaced with a dollar sign. Keep the punctuation marks unchanged.\n",
    "\n",
    "Input Sentence: I want to become a Data Scientist.\n",
    "\n",
    "Encrypt the above input sentence using the program you just created.\n",
    "\n",
    "Note: Convert the given input sentence into lowercase before encrypting. The final output should be lowercase."
   ]
  },
  {
   "cell_type": "code",
   "execution_count": 4,
   "id": "0b0d44d8-ab39-4710-9fa9-7fde2c6e8488",
   "metadata": {},
   "outputs": [
    {
     "name": "stdin",
     "output_type": "stream",
     "text": [
      " I want to become a Data Scientist\n"
     ]
    },
    {
     "name": "stdout",
     "output_type": "stream",
     "text": [
      "encrypt message for 'I want to become a Data Scientist' is  r$dzmg$gl$yvxlnv$z$wzgz$hxrvmgrhg\n"
     ]
    }
   ],
   "source": [
    "forward=[]\n",
    "reverse=[]\n",
    "for i in range(97,123):\n",
    "    forward.append(chr(i))\n",
    "for j in range(122,96,-1):\n",
    "    reverse.append(chr(j))\n",
    "#print(forward)\n",
    "#print(reverse)\n",
    "sent=input(\"\")\n",
    "sent_encrypt=[]\n",
    "#print(type(sent_encrypt))\n",
    "low=sent.lower() \n",
    "for i in low:\n",
    "    if i==\" \":\n",
    "        sent_encrypt.append(\"$\")\n",
    "    else:\n",
    "#        print(forward.index(str(i)))\n",
    "        sent_encrypt.append(reverse[forward.index(str(i))])\n",
    "print(f\"encrypt message for '{sent}' is \", ''.join(sent_encrypt))"
   ]
  }
 ],
 "metadata": {
  "kernelspec": {
   "display_name": "Python 3 (ipykernel)",
   "language": "python",
   "name": "python3"
  },
  "language_info": {
   "codemirror_mode": {
    "name": "ipython",
    "version": 3
   },
   "file_extension": ".py",
   "mimetype": "text/x-python",
   "name": "python",
   "nbconvert_exporter": "python",
   "pygments_lexer": "ipython3",
   "version": "3.10.8"
  }
 },
 "nbformat": 4,
 "nbformat_minor": 5
}
