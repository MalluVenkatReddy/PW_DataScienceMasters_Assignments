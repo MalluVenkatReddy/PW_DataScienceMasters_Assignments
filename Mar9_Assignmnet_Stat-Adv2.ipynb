{
 "cells": [
  {
   "cell_type": "markdown",
   "id": "c2b81c09-6dbd-4592-90cd-6675df159f64",
   "metadata": {},
   "source": [
    "Q1: What are the Probability Mass Function (PMF) and Probability Density Function (PDF)? Explain with \n",
    "an example."
   ]
  },
  {
   "cell_type": "raw",
   "id": "0f4fa28b-a9eb-4119-be14-5d6ad6926dfc",
   "metadata": {},
   "source": [
    "The probability mass function (PMF) is used to describe discrete probability distributions. In contrast, the probability density function (PDF) is applied to describe continuous probability distributions."
   ]
  },
  {
   "cell_type": "raw",
   "id": "a699c1c5-e86f-4985-ad93-2ebad2146db6",
   "metadata": {},
   "source": [
    "PDF Example: Height of studensts\n",
    "PMF Example: Rolling a Dicd"
   ]
  },
  {
   "cell_type": "markdown",
   "id": "99fa719d-e1b3-4c90-8e4a-54543e7585fc",
   "metadata": {},
   "source": [
    "Q2: What is Cumulative Density Function (CDF)? Explain with an example. Why CDF is used?"
   ]
  },
  {
   "cell_type": "raw",
   "id": "632224e3-395c-4b2c-8a8a-dc6c3357f2d7",
   "metadata": {},
   "source": [
    "The cumulative distribution function (cdf) gives the probability that the random variable X is less than or equal to x and is usually denoted F(x) . The cumulative distribution function of a random variable X is the function given by F(x)=P[X≤x]."
   ]
  },
  {
   "cell_type": "raw",
   "id": "a74d4328-a20a-4e0a-9cd9-7fc8d6ec5bae",
   "metadata": {},
   "source": [
    "Consider a simple example for CDF which is given by rolling a fair six-sided die, where X is the random variable\n",
    "\n",
    "We know that the probability of getting an outcome by rolling a six-sided die is given as:\n",
    "\n",
    "Probability of getting 1 = P(X≤ 1 ) = 1 / 6\n",
    "\n",
    "Probability of getting 2 = P(X≤ 2 ) = 2 / 6\n",
    "\n",
    "Probability of getting 3 = P(X≤ 3 ) = 3 / 6\n",
    "\n",
    "Probability of getting 4 = P(X≤ 4 ) = 4 / 6\n",
    "\n",
    "Probability of getting 5 = P(X≤ 5 ) = 5 / 6\n",
    "\n",
    "Probability of getting 6 = P(X≤ 6 ) = 6 / 6 = 1\n",
    "\n",
    "From this, it is noted that the probability value always lies between 0 and 1 and it is non-decreasing and right continuous in nature."
   ]
  },
  {
   "cell_type": "raw",
   "id": "2ee7b333-22a2-42d7-85e3-867d0c57ebcc",
   "metadata": {},
   "source": [
    "The cumulative distribution function is used to describe the probability distribution of random variables. It can be used to describe the probability for a discrete, continuous or mixed variable. It is obtained by summing up the probability density function and getting the cumulative probability for a random variable"
   ]
  },
  {
   "cell_type": "code",
   "execution_count": null,
   "id": "7af2207c-2ae6-4e0b-be1f-c988b17afaa2",
   "metadata": {},
   "outputs": [],
   "source": [
    "Q3: What are some examples of situations where the normal distribution might be used as a model? \n",
    "Explain how the parameters of the normal distribution relate to the shape of the distribution."
   ]
  },
  {
   "cell_type": "raw",
   "id": "90b180b6-c751-4e7f-95e1-216ee8a9af23",
   "metadata": {},
   "source": [
    "All kinds of variables in natural and social sciences are normally or approximately normally distributed. Height, birth weight, reading ability, job satisfaction, or SAT scores are just a few examples of such variables."
   ]
  },
  {
   "cell_type": "raw",
   "id": "5fa132eb-5c80-4316-bba8-b8036fc049bc",
   "metadata": {},
   "source": [
    "On the graph, the standard deviation determines the width of the curve, and it tightens or expands the width of the distribution along the x-axis. Typically, a small standard deviation relative to the mean produces a steep curve, while a large standard deviation relative to the mean produces a flatter curve"
   ]
  },
  {
   "cell_type": "code",
   "execution_count": null,
   "id": "30d81316-bfc0-41db-8438-07892faab2c5",
   "metadata": {},
   "outputs": [],
   "source": [
    "Q4: Explain the importance of Normal Distribution. Give a few real-life examples of Normal \n",
    "Distribution. "
   ]
  },
  {
   "cell_type": "raw",
   "id": "6512f45f-c2cc-4c2e-bf93-9a120a7ffad4",
   "metadata": {},
   "source": [
    "The height of people is an example of normal distribution. Most of the people in a specific population are of average height. The number of people taller and shorter than the average height people is almost equal, and a very small number of people are either extremely tall or extremely short."
   ]
  },
  {
   "cell_type": "markdown",
   "id": "b8391809-13d3-4847-b93c-7e6eabd0d345",
   "metadata": {},
   "source": [
    "Q5: What is Bernaulli Distribution? Give an Example. What is the difference between Bernoulli \n",
    "Distribution and Binomial Distribution?"
   ]
  },
  {
   "cell_type": "raw",
   "id": "7715ea03-6a2d-4585-9224-4d36fd29cf08",
   "metadata": {},
   "source": [
    "Bernoulli distribution is a discrete distribution having two possible outcomes- 1 (success) with a probability p & 0 (failure) with probability (1-p)."
   ]
  },
  {
   "cell_type": "raw",
   "id": "3d7567df-0494-4190-92ce-9eadd001b643",
   "metadata": {},
   "source": [
    "Bernoulli distribution example: Tossing a coin"
   ]
  },
  {
   "cell_type": "raw",
   "id": "88d162c0-f4fa-4ad6-ac27-e81c39ca3c11",
   "metadata": {},
   "source": [
    "The coin toss example is perhaps the easiest way to explain Bernoulli distribution. Let’s say that the outcome of “heads” is a “success,” while an outcome of “tails” is a “failure.” In this instance:"
   ]
  },
  {
   "cell_type": "raw",
   "id": "aaacabfb-22d6-4024-b7b4-8d49437bdfd6",
   "metadata": {},
   "source": [
    "The probability of a successful outcome (landing on heads) is written as p\n",
    "The probability of a failure (landing on tails), written as q, is calculated  as 1 – p"
   ]
  },
  {
   "cell_type": "raw",
   "id": "32728a9c-3b08-48e4-9eb9-4abd3c2827a6",
   "metadata": {},
   "source": [
    "The Bernoulli distribution represents the success or failure of a single Bernoulli trial. The Binomial Distribution represents the number of successes and failures in n independent Bernoulli trials for some given value of n"
   ]
  },
  {
   "cell_type": "raw",
   "id": "2c2b0087-68bd-44a7-a455-8b934300725e",
   "metadata": {},
   "source": [
    "Q6. Consider a dataset with a mean of 50 and a standard deviation of 10. If we assume that the dataset \n",
    "is normally distributed, what is the probability that a randomly selected observation will be greater \n",
    "than 60? Use the appropriate formula and show your calculations."
   ]
  },
  {
   "cell_type": "raw",
   "id": "abae79a3-7f36-4646-9186-e5fd37511f71",
   "metadata": {},
   "source": [
    "mean = 50\n",
    "standard deviation = 10\n",
    "Z-Score= (60-50)/10 = 1\n",
    "cumulative probabiolity = 0.8413\n",
    "probability of randomly selected observation will be greater than 60 = 1-0.8413 = 0.1587"
   ]
  },
  {
   "cell_type": "code",
   "execution_count": null,
   "id": "e06f8c9b-17ab-456a-8688-1721e2f6e61d",
   "metadata": {},
   "outputs": [],
   "source": [
    "Q7: Explain uniform Distribution with an example."
   ]
  },
  {
   "cell_type": "raw",
   "id": "3c34d508-676a-4b01-b1ea-3e70f1352c47",
   "metadata": {},
   "source": [
    "In statistics, uniform distribution refers to a type of probability distribution in which all outcomes are equally likely. A deck of cards has within it uniform distributions because the likelihood of drawing a heart, a club, a diamond, or a spade is equally likely."
   ]
  },
  {
   "cell_type": "code",
   "execution_count": null,
   "id": "d830e17d-c3fa-4383-8112-c18de04be771",
   "metadata": {},
   "outputs": [],
   "source": [
    "Q8: What is the z score? State the importance of the z score."
   ]
  },
  {
   "cell_type": "raw",
   "id": "84338eb9-1bfa-459d-b909-7db656a49e17",
   "metadata": {},
   "source": [
    "z-score is the number of standard deviations from the mean value of the reference population"
   ]
  },
  {
   "cell_type": "raw",
   "id": "7b7aba3a-62ff-427d-98dc-dafc588a619a",
   "metadata": {},
   "source": [
    "The z-score is particularly important because it tells you not only something about the value itself, but also where the value lies in the distribution."
   ]
  },
  {
   "cell_type": "code",
   "execution_count": null,
   "id": "3f41ff15-1cc6-4a68-b3a6-de7cefacc451",
   "metadata": {},
   "outputs": [],
   "source": [
    "Q9: What is Central Limit Theorem? State the significance of the Central Limit Theorem."
   ]
  },
  {
   "cell_type": "raw",
   "id": "8b7638aa-6ca8-4d75-8167-7a08b9df20db",
   "metadata": {},
   "source": [
    "In probability theory, the central limit theorem (CLT) states that the distribution of a sample variable approximates a normal distribution (i.e., a “bell curve”) as the sample size becomes larger, assuming that all samples are identical in size, and regardless of the population's actual distribution shape."
   ]
  },
  {
   "cell_type": "raw",
   "id": "058f8c2e-203b-4f54-8856-3e2e38e9b322",
   "metadata": {},
   "source": [
    "The central limit theorem is useful when analyzing large data sets because it allows one to assume that the sampling distribution of the mean will be normally-distributed in most cases. This allows for easier statistical analysis and inference."
   ]
  },
  {
   "cell_type": "code",
   "execution_count": null,
   "id": "ea3bf1a6-215b-4019-9b74-133067c666be",
   "metadata": {},
   "outputs": [],
   "source": [
    "Q10: State the assumptions of the Central Limit Theorem."
   ]
  },
  {
   "cell_type": "raw",
   "id": "6cba16c8-b30a-416c-8d4c-7d8e901cfd88",
   "metadata": {},
   "source": [
    "The three rules of the central limit theorem are as follows: \n",
    "The data should be sampled randomly. \n",
    "The samples should be independent of each other. \n",
    "The sample size should be sufficiently large but not exceed 10% of the population."
   ]
  }
 ],
 "metadata": {
  "kernelspec": {
   "display_name": "Python 3 (ipykernel)",
   "language": "python",
   "name": "python3"
  },
  "language_info": {
   "codemirror_mode": {
    "name": "ipython",
    "version": 3
   },
   "file_extension": ".py",
   "mimetype": "text/x-python",
   "name": "python",
   "nbconvert_exporter": "python",
   "pygments_lexer": "ipython3",
   "version": "3.10.8"
  }
 },
 "nbformat": 4,
 "nbformat_minor": 5
}
