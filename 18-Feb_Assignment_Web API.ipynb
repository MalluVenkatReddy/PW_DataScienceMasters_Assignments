{
 "cells": [
  {
   "cell_type": "markdown",
   "id": "51125dbf-11c6-4509-9961-c106c7783ee3",
   "metadata": {},
   "source": [
    "Q1. What is an API? Give an example, where an API is used in real life."
   ]
  },
  {
   "cell_type": "raw",
   "id": "69604252-2047-4068-88b3-86b21ccf0fc0",
   "metadata": {},
   "source": [
    "\"\"\"An application programming interface is a way for two or more computer programs to communicate with each other. It is a type of software interface, offering a service to other pieces of software. A document or standard that describes how to build or use such a connection or interface is called an API specification.\"\"\""
   ]
  },
  {
   "cell_type": "raw",
   "id": "c334f071-4178-4b50-9d95-8752c6267bff",
   "metadata": {},
   "source": [
    "\"API is used in real life: Algo trading, signals coming from trading view will go to zerdoha through API provided by Stocksdeveloper.in\"\"\""
   ]
  },
  {
   "cell_type": "markdown",
   "id": "a7ba580c-db6f-4ad2-a50c-f87fd4173a4f",
   "metadata": {},
   "source": [
    "Q2. Give advantages and disadvantages of using API."
   ]
  },
  {
   "cell_type": "raw",
   "id": "995b69ce-e581-43cf-b59a-0a8cd27c14bc",
   "metadata": {},
   "source": [
    "\"\"\" Advantages: \n",
    "1. You have the code written for you. Just plug and play. Your development time is reduced significantly.\n",
    "2. If you are using standard APIs, then a lot of other people are using that as well. So your codebase is somewhat portable which at times is beneficial.\n",
    "3. Standard APIs usually have a lot of free community support in case you need troubleshooting. If you tend to write all of your own code then you are pretty much on your own as far as debugging is concerned.\"\"\""
   ]
  },
  {
   "cell_type": "raw",
   "id": "af0ccd01-0dc6-46b9-bd46-3481bb386c6d",
   "metadata": {},
   "source": [
    "\"\"\" Disadvantages: As a single point of entry, an API is a gateway and can become a hacker's primary target. Once the API is compromised, all other applications and systems become vulnerable.\n",
    "\n",
    "Well since you are using someone else's code, you have to understand the structure and assumptions of the developer.\n",
    "In case you need to tweak existing code to add some extra functionality you might need to wade through layers and layers of files just to identify the line where you need to make any changes. It can get pretty annoying at times.\"\"\""
   ]
  },
  {
   "cell_type": "markdown",
   "id": "ce7d96c5-441d-4825-8bba-b51c6eee2bc8",
   "metadata": {},
   "source": [
    "Q3. What is a Web API? Differentiate between API and Web API."
   ]
  },
  {
   "cell_type": "raw",
   "id": "1c190ede-7bf9-49b7-830d-4d4e8ffd5827",
   "metadata": {},
   "source": [
    "#Web API is an extensible framework for building HTTP based services that can be accessed in different applications on different platforms such as web, windows, mobile etc.\n",
    "#Both APIs and web services are technologies that enable the transfer of data between separate software applications. API is an interface that exposes an application's data to outside software, whereas web applications are one type of API with stricter requirements"
   ]
  },
  {
   "cell_type": "markdown",
   "id": "a4097ec0-6b33-4888-b85b-7d556eca05ca",
   "metadata": {},
   "source": [
    "Q4. Explain REST and SOAP Architecture. Mention shortcomings of SOAP."
   ]
  },
  {
   "cell_type": "markdown",
   "id": "0adefbc1-721e-4154-95c0-0783052169c9",
   "metadata": {},
   "source": [
    "#REST is a set of guidelines that offers flexible implementation, whereas SOAP is a protocol with specific requirements like XML messaging. REST APIs are lightweight, making them ideal for newer contexts like the Internet of Things (IoT), mobile application development, and serverless computing."
   ]
  },
  {
   "cell_type": "markdown",
   "id": "203697d4-5213-4145-8131-660ecc446a5e",
   "metadata": {},
   "source": [
    "Q5. Differentiate between REST and SOAP."
   ]
  },
  {
   "cell_type": "raw",
   "id": "cc259144-0eb6-4fa7-adf6-7eebced46f49",
   "metadata": {},
   "source": [
    "#SOAP is a protocol, whereas REST is an architectural style\n",
    "\n",
    "1)\tSOAP is a protocol.\tREST is an architectural style.\n",
    "2)\tSOAP stands for Simple Object Access Protocol.\tREST stands for REpresentational State Transfer.\n",
    "3)\tSOAP can't use REST because it is a protocol.\tREST can use SOAP web services because it is a concept and can use any protocol like HTTP, SOAP.\n",
    "4)\tSOAP uses services interfaces to expose the business logic.\tREST uses URI to expose business logic.\n",
    "5)\tJAX-WS is the java API for SOAP web services.\tJAX-RS is the java API for RESTful web services.\n",
    "6)\tSOAP defines standards to be strictly followed.\tREST does not define too much standards like SOAP.\n",
    "7)\tSOAP requires more bandwidth and resource than REST.\tREST requires less bandwidth and resource than SOAP.\n",
    "8)\tSOAP defines its own security.\tRESTful web services inherits security measures from the underlying transport.\n",
    "9)\tSOAP permits XML data format only.\tREST permits different data format such as Plain text, HTML, XML, JSON etc.\n",
    "10)\tSOAP is less preferred than REST.\tREST more preferred than SOAP."
   ]
  }
 ],
 "metadata": {
  "kernelspec": {
   "display_name": "Python 3 (ipykernel)",
   "language": "python",
   "name": "python3"
  },
  "language_info": {
   "codemirror_mode": {
    "name": "ipython",
    "version": 3
   },
   "file_extension": ".py",
   "mimetype": "text/x-python",
   "name": "python",
   "nbconvert_exporter": "python",
   "pygments_lexer": "ipython3",
   "version": "3.10.8"
  }
 },
 "nbformat": 4,
 "nbformat_minor": 5
}
