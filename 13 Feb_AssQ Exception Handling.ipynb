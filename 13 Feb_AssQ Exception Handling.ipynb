{
 "cells": [
  {
   "cell_type": "markdown",
   "id": "4d7cdde9-2a6f-4e76-b18a-4f28d34fdb82",
   "metadata": {},
   "source": [
    "Q1. Explain why we have to use the Exception class while creating a Custom Exception.\n",
    "\n",
    "Note: Here Exception class refers to the base class for all the exceptions."
   ]
  },
  {
   "cell_type": "markdown",
   "id": "5ac0cfb0-f1b3-436d-9a5f-8f1f8e9ca159",
   "metadata": {},
   "source": [
    "Built-in exceptions offer information about Python-related problems, and custom exceptions will add information about project-related problems. \n",
    "That way, you can design your code (and traceback, if an exception is raised) in a way that combines Python code with the language of the project."
   ]
  },
  {
   "cell_type": "markdown",
   "id": "1c4d9725-fef3-4c30-8d1d-7868b9f9ebf7",
   "metadata": {},
   "source": [
    "Q2. Write a python program to print Python Exception Hierarchy."
   ]
  },
  {
   "cell_type": "code",
   "execution_count": 22,
   "id": "40c9c710-71a2-462c-a56f-de70d38376c0",
   "metadata": {},
   "outputs": [
    {
     "data": {
      "text/plain": [
       "'\\nBaseException\\nException\\nArithmeticError\\nFloatingPointError\\nOverflowError\\nZeroDivisionError\\nAssertionError\\nAttributeError\\nBufferError\\nEOFError\\nImportError\\nModuleNotFoundError\\nLookupError\\nIndexError\\nKeyError\\nMemoryError\\nNameError\\nUnboundLocalError\\nOSError\\nBlockingIOError\\nChildProcessError\\nConnectionError\\nBrokenPipeError\\nConnectionAbortedError\\nConnectionRefusedError\\nConnectionResetError\\nFileExistsError\\nFileNotFoundError\\nInterruptedError\\nIsADirectoryError\\nNotADirectoryError\\nPermissionError\\nProcessLookupError\\nTimeoutError\\nReferenceError\\nRuntimeError\\nNotImplementedError\\nRecursionError\\nStopIteration\\nStopAsyncIteration\\nSyntaxError\\nIndentationError\\nTabError\\nSystemError\\nTypeError\\nValueError\\nUnicodeError\\nUnicodeDecodeError\\nUnicodeEncodeError\\nUnicodeTranslateError\\nWarning\\nBytesWarning\\nDeprecationWarning\\nFutureWarning\\nImportWarning\\nPendingDeprecationWarning\\nResourceWarning\\nRuntimeWarning\\nSyntaxWarning\\nUnicodeWarning\\nUserWarning\\nGeneratorExit\\nKeyboardInterrupt\\nSystemExit\\n'"
      ]
     },
     "execution_count": 22,
     "metadata": {},
     "output_type": "execute_result"
    }
   ],
   "source": [
    "# this is the full Python exception class hierarchy, as seen below:\n",
    "\"\"\"\n",
    "BaseException\n",
    "Exception\n",
    "ArithmeticError\n",
    "FloatingPointError\n",
    "OverflowError\n",
    "ZeroDivisionError\n",
    "AssertionError\n",
    "AttributeError\n",
    "BufferError\n",
    "EOFError\n",
    "ImportError\n",
    "ModuleNotFoundError\n",
    "LookupError\n",
    "IndexError\n",
    "KeyError\n",
    "MemoryError\n",
    "NameError\n",
    "UnboundLocalError\n",
    "OSError\n",
    "BlockingIOError\n",
    "ChildProcessError\n",
    "ConnectionError\n",
    "BrokenPipeError\n",
    "ConnectionAbortedError\n",
    "ConnectionRefusedError\n",
    "ConnectionResetError\n",
    "FileExistsError\n",
    "FileNotFoundError\n",
    "InterruptedError\n",
    "IsADirectoryError\n",
    "NotADirectoryError\n",
    "PermissionError\n",
    "ProcessLookupError\n",
    "TimeoutError\n",
    "ReferenceError\n",
    "RuntimeError\n",
    "NotImplementedError\n",
    "RecursionError\n",
    "StopIteration\n",
    "StopAsyncIteration\n",
    "SyntaxError\n",
    "IndentationError\n",
    "TabError\n",
    "SystemError\n",
    "TypeError\n",
    "ValueError\n",
    "UnicodeError\n",
    "UnicodeDecodeError\n",
    "UnicodeEncodeError\n",
    "UnicodeTranslateError\n",
    "Warning\n",
    "BytesWarning\n",
    "DeprecationWarning\n",
    "FutureWarning\n",
    "ImportWarning\n",
    "PendingDeprecationWarning\n",
    "ResourceWarning\n",
    "RuntimeWarning\n",
    "SyntaxWarning\n",
    "UnicodeWarning\n",
    "UserWarning\n",
    "GeneratorExit\n",
    "KeyboardInterrupt\n",
    "SystemExit\n",
    "\"\"\""
   ]
  },
  {
   "cell_type": "markdown",
   "id": "aad6e4b5-baa0-4c17-a14c-d602aeada78b",
   "metadata": {},
   "source": [
    "Q3. What errors are defined in the ArithmeticError class? Explain any two with an example."
   ]
  },
  {
   "cell_type": "code",
   "execution_count": 6,
   "id": "98e8dc7a-73ec-48dd-8dbd-79dbef9e2817",
   "metadata": {},
   "outputs": [
    {
     "name": "stdout",
     "output_type": "stream",
     "text": [
      "division by zero\n"
     ]
    }
   ],
   "source": [
    "\"\"\"The arithmetic error occurs when an error is encountered during numeric calculations in Python. This includes Zerodivision Error and Floating point error. \n",
    "In addition, zero division error is raised when you divide a numeric value by zero.\"\"\"\n",
    "try:\n",
    "    10/0\n",
    "except ZeroDivisionError as e:\n",
    "    print(e)"
   ]
  },
  {
   "cell_type": "code",
   "execution_count": 7,
   "id": "7bb4c98b-cecb-49b1-b963-4069a1f0f99a",
   "metadata": {},
   "outputs": [
    {
     "name": "stdout",
     "output_type": "stream",
     "text": [
      "division by zero\n"
     ]
    }
   ],
   "source": [
    "# ZeroDivisionError\n",
    "try:\n",
    "    10/0\n",
    "except ZeroDivisionError as e:\n",
    "    print(e)"
   ]
  },
  {
   "cell_type": "code",
   "execution_count": 18,
   "id": "f9f9d1b5-a942-484e-908b-4af7b21ce958",
   "metadata": {},
   "outputs": [
    {
     "name": "stdout",
     "output_type": "stream",
     "text": [
      "s\n",
      "s\n",
      "t\n",
      "string index out of range\n"
     ]
    }
   ],
   "source": [
    "#IndexError\n",
    "try:\n",
    "    a=\"sst\"\n",
    "    for i in range(10):\n",
    "        print(a[i])\n",
    "except IndexError as e:\n",
    "    print(e)"
   ]
  },
  {
   "cell_type": "markdown",
   "id": "662ae1f9-b662-4402-b114-1be9e53ffccc",
   "metadata": {},
   "source": [
    "Q4. Why LookupError class is used? Explain with an example KeyError and IndexError."
   ]
  },
  {
   "cell_type": "code",
   "execution_count": 21,
   "id": "987d709f-afc6-417d-ad7b-784312af6984",
   "metadata": {},
   "outputs": [],
   "source": [
    " # Why LookupError class is used ? LookupError Exception is the Base class for errors raised when something can't be found."
   ]
  },
  {
   "cell_type": "code",
   "execution_count": 19,
   "id": "9973130b-59e8-41d1-94f7-3f7320e925e2",
   "metadata": {},
   "outputs": [
    {
     "ename": "KeyError",
     "evalue": "'key10'",
     "output_type": "error",
     "traceback": [
      "\u001b[0;31m---------------------------------------------------------------------------\u001b[0m",
      "\u001b[0;31mKeyError\u001b[0m                                  Traceback (most recent call last)",
      "Cell \u001b[0;32mIn[19], line 3\u001b[0m\n\u001b[1;32m      1\u001b[0m \u001b[38;5;66;03m#KeyError\u001b[39;00m\n\u001b[1;32m      2\u001b[0m d \u001b[38;5;241m=\u001b[39m {\u001b[38;5;241m1\u001b[39m: [\u001b[38;5;241m3\u001b[39m,\u001b[38;5;241m4\u001b[39m,\u001b[38;5;241m5\u001b[39m,\u001b[38;5;241m6\u001b[39m] , \u001b[38;5;124m\"\u001b[39m\u001b[38;5;124mkey\u001b[39m\u001b[38;5;124m\"\u001b[39m :\u001b[38;5;124m\"\u001b[39m\u001b[38;5;124msudh\u001b[39m\u001b[38;5;124m\"\u001b[39m}\n\u001b[0;32m----> 3\u001b[0m \u001b[43md\u001b[49m\u001b[43m[\u001b[49m\u001b[38;5;124;43m\"\u001b[39;49m\u001b[38;5;124;43mkey10\u001b[39;49m\u001b[38;5;124;43m\"\u001b[39;49m\u001b[43m]\u001b[49m\n",
      "\u001b[0;31mKeyError\u001b[0m: 'key10'"
     ]
    }
   ],
   "source": [
    "#KeyError\n",
    "d = {1: [3,4,5,6] , \"key\" :\"sudh\"}\n",
    "d[\"key10\"]"
   ]
  },
  {
   "cell_type": "code",
   "execution_count": 20,
   "id": "f3e2f784-a6ba-4920-a2f5-363a78eca629",
   "metadata": {},
   "outputs": [
    {
     "name": "stdout",
     "output_type": "stream",
     "text": [
      "s\n",
      "s\n",
      "t\n"
     ]
    },
    {
     "ename": "IndexError",
     "evalue": "string index out of range",
     "output_type": "error",
     "traceback": [
      "\u001b[0;31m---------------------------------------------------------------------------\u001b[0m",
      "\u001b[0;31mIndexError\u001b[0m                                Traceback (most recent call last)",
      "Cell \u001b[0;32mIn[20], line 4\u001b[0m\n\u001b[1;32m      2\u001b[0m a\u001b[38;5;241m=\u001b[39m\u001b[38;5;124m\"\u001b[39m\u001b[38;5;124msst\u001b[39m\u001b[38;5;124m\"\u001b[39m\n\u001b[1;32m      3\u001b[0m \u001b[38;5;28;01mfor\u001b[39;00m i \u001b[38;5;129;01min\u001b[39;00m \u001b[38;5;28mrange\u001b[39m(\u001b[38;5;241m10\u001b[39m):\n\u001b[0;32m----> 4\u001b[0m     \u001b[38;5;28mprint\u001b[39m(\u001b[43ma\u001b[49m\u001b[43m[\u001b[49m\u001b[43mi\u001b[49m\u001b[43m]\u001b[49m)\n",
      "\u001b[0;31mIndexError\u001b[0m: string index out of range"
     ]
    }
   ],
   "source": [
    "#IndexError\n",
    "a=\"sst\"\n",
    "for i in range(10):\n",
    "    print(a[i])"
   ]
  },
  {
   "cell_type": "markdown",
   "id": "43808054-3b54-4786-b217-b07967352d1b",
   "metadata": {},
   "source": [
    "Q5. Explain ImportError. What is ModuleNotFoundError?"
   ]
  },
  {
   "cell_type": "code",
   "execution_count": 2,
   "id": "645ba04d-99f6-4112-8e17-829b37319143",
   "metadata": {},
   "outputs": [],
   "source": [
    "#ImportError: occurs when the Python program tries to import module which does not exist in the private table.\n",
    "#ModuleNotFoundError: is the error occurs when you're trying to access or use a module that cannot be found"
   ]
  },
  {
   "cell_type": "markdown",
   "id": "a969c657-b8d0-450a-aed2-dbd04a4012fa",
   "metadata": {},
   "source": [
    "Q6. List down some best practices for exception handling in python. "
   ]
  },
  {
   "cell_type": "code",
   "execution_count": 1,
   "id": "4a07f569-2fa6-4d69-90ae-362d8dc3333e",
   "metadata": {},
   "outputs": [],
   "source": [
    "#use always a specific exception\n",
    "#print always a valid msg\n",
    "#always try to log \n",
    "#always avoid to write a multiple exception handling \n",
    "#prepare a proper documnetation\n",
    "#cleanup all the resources "
   ]
  }
 ],
 "metadata": {
  "kernelspec": {
   "display_name": "Python 3 (ipykernel)",
   "language": "python",
   "name": "python3"
  },
  "language_info": {
   "codemirror_mode": {
    "name": "ipython",
    "version": 3
   },
   "file_extension": ".py",
   "mimetype": "text/x-python",
   "name": "python",
   "nbconvert_exporter": "python",
   "pygments_lexer": "ipython3",
   "version": "3.10.8"
  }
 },
 "nbformat": 4,
 "nbformat_minor": 5
}
