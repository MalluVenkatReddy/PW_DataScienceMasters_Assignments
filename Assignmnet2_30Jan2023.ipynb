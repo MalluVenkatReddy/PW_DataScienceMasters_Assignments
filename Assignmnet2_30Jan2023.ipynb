{
 "cells": [
  {
   "cell_type": "markdown",
   "id": "a575b923-5ebd-4a7a-a11f-1b16745ad32b",
   "metadata": {},
   "source": [
    "1. Write a program to accept percentage from the user and display the grade according to the following "
   ]
  },
  {
   "cell_type": "code",
   "execution_count": 1,
   "id": "1882dc09-b157-4ad4-a90b-41ac1e4f75ba",
   "metadata": {},
   "outputs": [
    {
     "name": "stdin",
     "output_type": "stream",
     "text": [
      "enter percentage  75\n"
     ]
    },
    {
     "name": "stdout",
     "output_type": "stream",
     "text": [
      "percentage is 75 Grade is C\n"
     ]
    }
   ],
   "source": [
    "p=int(input(\"enter percentage \"))\n",
    "if p<60:\n",
    "    print(f\"percentage is {p} Grade is D\")\n",
    "if p<80 and p>=60:\n",
    "    print(f\"percentage is {p} Grade is C\")\n",
    "if p<90 and p>=80:\n",
    "    print(f\"percentage is {p} Grade is B\")\n",
    "if p>=90:\n",
    "    print(f\"percentage is {p} Grade is A\")"
   ]
  },
  {
   "cell_type": "markdown",
   "id": "db5a0758-3457-479a-ba11-221d00b78169",
   "metadata": {},
   "source": [
    "2. Write a program to accept the cost price of a bike and display the road tax to be paid according to the \n",
    "following criteria: "
   ]
  },
  {
   "cell_type": "code",
   "execution_count": 2,
   "id": "e7829d08-2878-4eb7-b62a-37b72f8cd8e5",
   "metadata": {},
   "outputs": [
    {
     "name": "stdin",
     "output_type": "stream",
     "text": [
      "enter bike price  67000\n"
     ]
    },
    {
     "name": "stdout",
     "output_type": "stream",
     "text": [
      "bike_cost is 67000 and tax is  6700.0\n"
     ]
    }
   ],
   "source": [
    "bike_cost=int(input(\"enter bike price \"))\n",
    "if bike_cost<=50000:\n",
    "    print(f\"bike_cost is {bike_cost} and tax is \", 0.05*bike_cost)\n",
    "if bike_cost<=100000 and bike_cost>50000:\n",
    "    print(f\"bike_cost is {bike_cost} and tax is \", 0.10*bike_cost)\n",
    "if bike_cost>100000:\n",
    "    print(f\"bike_cost is {bike_cost} and tax is \", 0.15*bike_cost)"
   ]
  },
  {
   "cell_type": "markdown",
   "id": "3127cf58-8e0d-45da-875a-87c7914a7e02",
   "metadata": {},
   "source": [
    "3.Accept any city from the user and display monuments of that city. "
   ]
  },
  {
   "cell_type": "code",
   "execution_count": 3,
   "id": "c31749c8-9e45-4abd-b95f-803eea6e9994",
   "metadata": {},
   "outputs": [
    {
     "name": "stdout",
     "output_type": "stream",
     "text": [
      "delhi monument is RedFort\n",
      "agra monument is TajMahal\n",
      "jaipur monument is JalMahal\n"
     ]
    }
   ],
   "source": [
    "city=[\"delhi\",\"agra\",\"jaipur\"]\n",
    "for i in city:\n",
    "    if i==\"delhi\":\n",
    "        print(f\"{i} monument is RedFort\")\n",
    "    elif i==\"agra\":\n",
    "        print(f\"{i} monument is TajMahal\")\n",
    "    elif i==\"jaipur\":\n",
    "        print(f\"{i} monument is JalMahal\")"
   ]
  },
  {
   "cell_type": "markdown",
   "id": "a7df67bb-3fcf-4fd2-b9dc-7bd6cb623e89",
   "metadata": {},
   "source": [
    "4. Check how many times a given number can be divided by 3 before it is less than or equal to 10. "
   ]
  },
  {
   "cell_type": "code",
   "execution_count": 4,
   "id": "08d312b9-a25e-46bb-a18d-4dab4c5f8a3d",
   "metadata": {},
   "outputs": [
    {
     "name": "stdout",
     "output_type": "stream",
     "text": [
      "3 times a given number can be divided by 3 before it is less than or equal to 10\n"
     ]
    }
   ],
   "source": [
    "n=10\n",
    "count=0\n",
    "for i in range(1, 10):\n",
    "    if i%3==0:\n",
    "        count+=1\n",
    "print(f\"{count} times a given number can be divided by 3 before it is less than or equal to 10\") "
   ]
  },
  {
   "cell_type": "markdown",
   "id": "53174d9f-3cc5-4d7a-9b10-2fe468875dd7",
   "metadata": {},
   "source": [
    "5. Why and When to Use while Loop in Python give a detailed description with example "
   ]
  },
  {
   "cell_type": "code",
   "execution_count": 6,
   "id": "d88fbd68-d118-4b28-bd76-746ef4ba2b9f",
   "metadata": {},
   "outputs": [
    {
     "name": "stdout",
     "output_type": "stream",
     "text": [
      "1\n",
      "2\n",
      "3\n",
      "4\n",
      "5\n",
      "6\n",
      "7\n",
      "8\n",
      "9\n",
      "10\n"
     ]
    }
   ],
   "source": [
    "#Python while loop is used to run a block code until a certain condition is met. Here, A while loop evaluates the condition. If the condition evaluates to True , the code inside the while loop is executed.\n",
    "# while loop example\n",
    "n=10\n",
    "i=1\n",
    "while i <=n:\n",
    "    print(i)\n",
    "    i+=1"
   ]
  },
  {
   "cell_type": "markdown",
   "id": "282849f0-f910-4af5-b9c2-6f3cdfb68482",
   "metadata": {},
   "source": [
    "6. Use nested while loop to print 3 different pattern. "
   ]
  },
  {
   "cell_type": "code",
   "execution_count": 1,
   "id": "ab9532c3-4eab-43d2-9655-68cb72db757a",
   "metadata": {},
   "outputs": [
    {
     "name": "stdout",
     "output_type": "stream",
     "text": [
      "1  \n",
      "1 2  \n",
      "1 2 3  \n",
      "1 2 3 4  \n",
      "1 2 3 4 5  \n",
      "1 2 3 4 5 6  \n",
      "1 2 3 4 5 6 7  \n",
      "1 2 3 4 5 6 7 8  \n",
      "1 2 3 4 5 6 7 8 9  \n",
      "1 2 3 4 5 6 7 8 9 10  \n"
     ]
    }
   ],
   "source": [
    "# Programme1\n",
    "n=10\n",
    "i=1\n",
    "while i <=n:\n",
    "    j=1\n",
    "    while j<=i:\n",
    "        print(j, end=\" \")\n",
    "        j+=1\n",
    "    print(\" \")\n",
    "    i+=1"
   ]
  },
  {
   "cell_type": "markdown",
   "id": "534e5537-4ec5-4b71-9e6c-3572f302b032",
   "metadata": {},
   "source": [
    "7. Reverse a while loop to display numbers from 10 to 1. "
   ]
  },
  {
   "cell_type": "code",
   "execution_count": 2,
   "id": "1edecf7e-673f-4e11-84cf-ff9396e30d91",
   "metadata": {},
   "outputs": [
    {
     "name": "stdout",
     "output_type": "stream",
     "text": [
      "         1  \n",
      "        1 2  \n",
      "       1 2 3  \n",
      "      1 2 3 4  \n",
      "     1 2 3 4 5  \n",
      "    1 2 3 4 5 6  \n",
      "   1 2 3 4 5 6 7  \n",
      "  1 2 3 4 5 6 7 8  \n",
      " 1 2 3 4 5 6 7 8 9  \n",
      "1 2 3 4 5 6 7 8 9 10  \n"
     ]
    }
   ],
   "source": [
    "# Programme2\n",
    "n=10\n",
    "i=1\n",
    "while i <=n:\n",
    "    j=1\n",
    "    while j<=i:\n",
    "        if j==1:\n",
    "            print(\" \"*(n-i), end=\"\")\n",
    "            print(j, end=\" \")\n",
    "        else:\n",
    "            print(j, end=\" \")\n",
    "        j+=1\n",
    "    print(\" \")\n",
    "    i+=1"
   ]
  },
  {
   "cell_type": "code",
   "execution_count": 3,
   "id": "21c98054-4795-4d04-9125-e99cedd0269a",
   "metadata": {},
   "outputs": [
    {
     "name": "stdout",
     "output_type": "stream",
     "text": [
      "                   1  \n",
      "                 1 2  \n",
      "               1 2 3  \n",
      "             1 2 3 4  \n",
      "           1 2 3 4 5  \n",
      "         1 2 3 4 5 6  \n",
      "       1 2 3 4 5 6 7  \n",
      "     1 2 3 4 5 6 7 8  \n",
      "   1 2 3 4 5 6 7 8 9  \n",
      " 1 2 3 4 5 6 7 8 9 10  \n"
     ]
    }
   ],
   "source": [
    "# Programme3\n",
    "n=10\n",
    "i=1\n",
    "while i <=n:\n",
    "    j=1\n",
    "    while j<=i:\n",
    "        if j==1:\n",
    "            print(\" \"*(2*n+1-2*i), end=\"\")\n",
    "            print(j, end=\" \")\n",
    "        else:\n",
    "            print(j, end=\" \")\n",
    "        j+=1\n",
    "    print(\" \")\n",
    "    i+=1"
   ]
  },
  {
   "cell_type": "code",
   "execution_count": 8,
   "id": "36a929fd-5275-4881-afcf-cbc84922c33d",
   "metadata": {},
   "outputs": [
    {
     "name": "stdout",
     "output_type": "stream",
     "text": [
      "10\n",
      "9\n",
      "8\n",
      "7\n",
      "6\n",
      "5\n",
      "4\n",
      "3\n",
      "2\n",
      "1\n"
     ]
    }
   ],
   "source": [
    "n=10\n",
    "i=n\n",
    "while i >=1:\n",
    "    print(i)\n",
    "    i-=1"
   ]
  },
  {
   "cell_type": "markdown",
   "id": "5cf83ae3-529b-4b2b-9a22-597df74f96f3",
   "metadata": {},
   "source": [
    "8. Reverse a while loop to display numbers from 10 to 1 "
   ]
  },
  {
   "cell_type": "code",
   "execution_count": 7,
   "id": "1db2cb3b-649c-4ce9-b5e9-1c7615b3f647",
   "metadata": {},
   "outputs": [
    {
     "name": "stdout",
     "output_type": "stream",
     "text": [
      "10\n",
      "9\n",
      "8\n",
      "7\n",
      "6\n",
      "5\n",
      "4\n",
      "3\n",
      "2\n",
      "1\n"
     ]
    }
   ],
   "source": [
    "n=10\n",
    "i=n\n",
    "while i >=1:\n",
    "    print(i)\n",
    "    i-=1"
   ]
  }
 ],
 "metadata": {
  "kernelspec": {
   "display_name": "Python 3 (ipykernel)",
   "language": "python",
   "name": "python3"
  },
  "language_info": {
   "codemirror_mode": {
    "name": "ipython",
    "version": 3
   },
   "file_extension": ".py",
   "mimetype": "text/x-python",
   "name": "python",
   "nbconvert_exporter": "python",
   "pygments_lexer": "ipython3",
   "version": "3.9.13"
  }
 },
 "nbformat": 4,
 "nbformat_minor": 5
}
