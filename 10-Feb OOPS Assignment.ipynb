{
 "cells": [
  {
   "cell_type": "markdown",
   "id": "2678cc3e-5169-428c-ae24-0752a8841d38",
   "metadata": {},
   "source": [
    "Q1. Which function is used to open a file? What are the different modes of opening a file? Explain each mode \n",
    "of file opening."
   ]
  },
  {
   "cell_type": "code",
   "execution_count": 1,
   "id": "13379331-30d4-4ba6-8e01-22d696d94afe",
   "metadata": {},
   "outputs": [],
   "source": [
    "# open() function is used to open a file"
   ]
  },
  {
   "cell_type": "raw",
   "id": "d30e5196-d57c-4344-a7d4-37103059ba25",
   "metadata": {},
   "source": [
    "different modes of opening a file \n",
    "\n",
    "--------- ---------------------------------------------------------------\n",
    "'r'       open for reading (default)\n",
    "'w'       open for writing, truncating the file first\n",
    "'x'       create a new file and open it for writing\n",
    "'a'       open for writing, appending to the end of the file if it exists\n",
    "'b'       binary mode\n",
    "'t'       text mode (default)\n",
    "'+'       open a disk file for updating (reading and writing)\n",
    "'U'       universal newline mode (deprecated)\n",
    "========= ==============================================================="
   ]
  },
  {
   "cell_type": "markdown",
   "id": "9d1c08de-6a7e-4dce-b4e1-cfa40fd256d3",
   "metadata": {},
   "source": [
    "Q2. Why close() function is used? Why is it important to close a file?"
   ]
  },
  {
   "cell_type": "code",
   "execution_count": 4,
   "id": "1ae66c68-af33-485f-9e2d-a8e745546046",
   "metadata": {},
   "outputs": [],
   "source": [
    "#The close() method closes an open file. You should always close your files.\n",
    "#in some cases, due to buffering, changes made to a file may not show until you close the file."
   ]
  },
  {
   "cell_type": "markdown",
   "id": "3a18d989-0dc5-4a70-a11b-bd6fcfbbcb8f",
   "metadata": {},
   "source": [
    "Q3. Write a python program to create a text file. Write ‘I want to become a Data Scientist’ in that file. Then \n",
    "close the file. Open this file and read the content of the file.  "
   ]
  },
  {
   "cell_type": "code",
   "execution_count": 7,
   "id": "50d94ec9-97c2-4498-a69e-d64b44557e17",
   "metadata": {},
   "outputs": [
    {
     "name": "stdout",
     "output_type": "stream",
     "text": [
      "I want to become a Data Scientist \n"
     ]
    }
   ],
   "source": [
    "data=open(\"file\",'w')\n",
    "data.write(\"I want to become a Data Scientist \")\n",
    "data.close()\n",
    "data1=open(\"file\",'r')\n",
    "for i in data1:\n",
    "    print(i)"
   ]
  },
  {
   "cell_type": "markdown",
   "id": "dda4526f-90e5-4633-bf3b-875fabe39880",
   "metadata": {},
   "source": [
    "Q4. Explain the following with python code: read(), readline() and readlines()."
   ]
  },
  {
   "cell_type": "code",
   "execution_count": 8,
   "id": "cde283de-179f-4805-abcf-e0b94abf8f27",
   "metadata": {},
   "outputs": [],
   "source": [
    "#read() : to read total data from the file\n",
    "#read(n) : to read 'n' characters from the file\n",
    "#readline() : to read only one line\n",
    "#readlines() : to read all lines into a list"
   ]
  },
  {
   "cell_type": "code",
   "execution_count": 32,
   "id": "c9567ae5-a503-4c0b-9760-f883da7fbb1e",
   "metadata": {},
   "outputs": [
    {
     "data": {
      "text/plain": [
       "\"Data Science Masters course is highly curated and uniquely designed according to the latest industry standards. \\nThis program instills students the skills essential to knowledge discovery efforts to identify standard, novel, and truly differentiated solutions and decision-making, including skills in managing, querying, analyzing, visualizing, and extracting meaning from extremely large data sets. \\nThis trending program provides students with the statistical, mathematical and computational skills needed to meet the large-scale data science challenges of today's professional world. \\nYou will learn all the stack required to work in data science industry including cloud infrastructure and real-time industry projects. This course will be taught in Hindi language.\\nthis is my second line that i am trying to write\""
      ]
     },
     "execution_count": 32,
     "metadata": {},
     "output_type": "execute_result"
    }
   ],
   "source": [
    "f=open(\"text_test.txt\",\"r\")\n",
    "f.read()"
   ]
  },
  {
   "cell_type": "code",
   "execution_count": 33,
   "id": "1d80ac78-fc27-4c1f-9ee4-40b5eb80c9b9",
   "metadata": {},
   "outputs": [
    {
     "data": {
      "text/plain": [
       "1"
      ]
     },
     "execution_count": 33,
     "metadata": {},
     "output_type": "execute_result"
    }
   ],
   "source": [
    "f.seek(1)"
   ]
  },
  {
   "cell_type": "code",
   "execution_count": 34,
   "id": "c5268268-7ac8-437b-bf2b-ed776ae34a75",
   "metadata": {},
   "outputs": [
    {
     "data": {
      "text/plain": [
       "'ata S'"
      ]
     },
     "execution_count": 34,
     "metadata": {},
     "output_type": "execute_result"
    }
   ],
   "source": [
    "f.read(5)"
   ]
  },
  {
   "cell_type": "code",
   "execution_count": 35,
   "id": "314103a9-517a-4920-b2c7-694bf6786af9",
   "metadata": {},
   "outputs": [
    {
     "data": {
      "text/plain": [
       "'cience Masters course is highly curated and uniquely designed according to the latest industry standards. \\n'"
      ]
     },
     "execution_count": 35,
     "metadata": {},
     "output_type": "execute_result"
    }
   ],
   "source": [
    "f.readline()"
   ]
  },
  {
   "cell_type": "code",
   "execution_count": 36,
   "id": "c2b652d0-c115-47f5-ad12-33796244028b",
   "metadata": {},
   "outputs": [
    {
     "data": {
      "text/plain": [
       "'This program instills students the skills essential to knowledge discovery efforts to identify standard, novel, and truly differentiated solutions and decision-making, including skills in managing, querying, analyzing, visualizing, and extracting meaning from extremely large data sets. \\n'"
      ]
     },
     "execution_count": 36,
     "metadata": {},
     "output_type": "execute_result"
    }
   ],
   "source": [
    "f.readline()"
   ]
  },
  {
   "cell_type": "code",
   "execution_count": 37,
   "id": "e655379f-747b-431b-acbc-a972c6fb125a",
   "metadata": {},
   "outputs": [
    {
     "data": {
      "text/plain": [
       "\"This trending program provides students with the statistical, mathematical and computational skills needed to meet the large-scale data science challenges of today's professional world. \\n\""
      ]
     },
     "execution_count": 37,
     "metadata": {},
     "output_type": "execute_result"
    }
   ],
   "source": [
    "f.readline()"
   ]
  },
  {
   "cell_type": "code",
   "execution_count": 38,
   "id": "980abb2e-2502-4333-ab8a-1860db3c6259",
   "metadata": {},
   "outputs": [
    {
     "data": {
      "text/plain": [
       "0"
      ]
     },
     "execution_count": 38,
     "metadata": {},
     "output_type": "execute_result"
    }
   ],
   "source": [
    "f.seek(0)"
   ]
  },
  {
   "cell_type": "code",
   "execution_count": 39,
   "id": "6bb27fd2-3a39-416f-adca-7a6e279a00de",
   "metadata": {},
   "outputs": [
    {
     "data": {
      "text/plain": [
       "['Data Science Masters course is highly curated and uniquely designed according to the latest industry standards. \\n',\n",
       " 'This program instills students the skills essential to knowledge discovery efforts to identify standard, novel, and truly differentiated solutions and decision-making, including skills in managing, querying, analyzing, visualizing, and extracting meaning from extremely large data sets. \\n',\n",
       " \"This trending program provides students with the statistical, mathematical and computational skills needed to meet the large-scale data science challenges of today's professional world. \\n\",\n",
       " 'You will learn all the stack required to work in data science industry including cloud infrastructure and real-time industry projects. This course will be taught in Hindi language.\\n',\n",
       " 'this is my second line that i am trying to write']"
      ]
     },
     "execution_count": 39,
     "metadata": {},
     "output_type": "execute_result"
    }
   ],
   "source": [
    "f.readlines()"
   ]
  },
  {
   "cell_type": "markdown",
   "id": "04e5ad43-9812-4af6-8c25-8bad6305807c",
   "metadata": {},
   "source": [
    "Q5. Explain why with statement is used with open(). What is the advantage of using with statement and \n",
    "open() together?"
   ]
  },
  {
   "cell_type": "code",
   "execution_count": 31,
   "id": "1de43b75-894f-4522-938d-7c6d182ca37a",
   "metadata": {},
   "outputs": [],
   "source": [
    "#The with statement works with the open() function to open a file. \n",
    "#Unlike open() where you have to close the file with the close() method, the with statement closes the file for you without you telling it to. \n",
    "#This is because the with statement calls 2 built-in methods behind the scene – __enter()__ and __exit()__ ."
   ]
  },
  {
   "cell_type": "code",
   "execution_count": 75,
   "id": "bc3cc363-4dec-4e2c-8c82-94ad37c492a3",
   "metadata": {},
   "outputs": [
    {
     "name": "stdout",
     "output_type": "stream",
     "text": [
      "all pwskill learners are students\n"
     ]
    }
   ],
   "source": [
    "data=\"all pwskill learners are students\"\n",
    "f=open(\"pwskills.txt\",\"w\")\n",
    "f.write(data)\n",
    "with open (\"pwskills.txt\",\"r+\") as f:\n",
    "    text=f.read()\n",
    "    print(text)\n",
    "#    print(\"the current cursor position :\",f.tell())\n",
    "    f.write(\" and corporate employees \")"
   ]
  },
  {
   "cell_type": "markdown",
   "id": "bb3ba66a-5acd-4a96-b1fe-264a577c8dd4",
   "metadata": {},
   "source": [
    "Q6. Explain the write() and writelines() functions. Give a suitable example"
   ]
  },
  {
   "cell_type": "code",
   "execution_count": 56,
   "id": "465e58e2-489a-4165-a9cf-d6870d2a0371",
   "metadata": {},
   "outputs": [],
   "source": [
    "#The only difference between the write() and writelines() is that write() is used to write a string to an already opened file while writelines() method is used to write a list of strings in an opened file."
   ]
  },
  {
   "cell_type": "code",
   "execution_count": 66,
   "id": "57b3c936-b59e-4a99-9e30-d8756ab7a700",
   "metadata": {},
   "outputs": [
    {
     "name": "stdin",
     "output_type": "stream",
     "text": [
      "enter employee name  mallu\n"
     ]
    },
    {
     "name": "stdout",
     "output_type": "stream",
     "text": [
      " \n",
      "\n"
     ]
    },
    {
     "name": "stdin",
     "output_type": "stream",
     "text": [
      "enter employee name  venkat\n"
     ]
    },
    {
     "name": "stdout",
     "output_type": "stream",
     "text": [
      " \n",
      "\n"
     ]
    },
    {
     "name": "stdin",
     "output_type": "stream",
     "text": [
      "enter employee name  reddy\n"
     ]
    },
    {
     "name": "stdout",
     "output_type": "stream",
     "text": [
      " \n",
      "\n"
     ]
    }
   ],
   "source": [
    "file_employee=open(\"emp.txt\",'w')\n",
    "lst=[]\n",
    "for i in range(3):\n",
    "    name=input(\"enter employee name \")\n",
    "    lst.append(name + '\\n')\n",
    "    print( \" \\n\")\n",
    "file_employee.writelines(lst)\n",
    "file_employee.close()"
   ]
  },
  {
   "cell_type": "code",
   "execution_count": 76,
   "id": "e6045384-1794-4cea-9b32-6f353c1896ed",
   "metadata": {},
   "outputs": [
    {
     "name": "stdout",
     "output_type": "stream",
     "text": [
      "all pwskill learners are students\n"
     ]
    }
   ],
   "source": [
    "data=\"all pwskill learners are students\"\n",
    "f=open(\"pwskills1.txt\",\"w\")\n",
    "f.write(data)\n",
    "with open (\"pwskills1.txt\",\"r+\") as f:\n",
    "    text=f.read()\n",
    "    print(text)\n",
    "#    print(\"the current cursor position :\",f.tell())\n",
    "    f.write(\" and corporate employees \")"
   ]
  }
 ],
 "metadata": {
  "kernelspec": {
   "display_name": "Python 3 (ipykernel)",
   "language": "python",
   "name": "python3"
  },
  "language_info": {
   "codemirror_mode": {
    "name": "ipython",
    "version": 3
   },
   "file_extension": ".py",
   "mimetype": "text/x-python",
   "name": "python",
   "nbconvert_exporter": "python",
   "pygments_lexer": "ipython3",
   "version": "3.10.8"
  }
 },
 "nbformat": 4,
 "nbformat_minor": 5
}
