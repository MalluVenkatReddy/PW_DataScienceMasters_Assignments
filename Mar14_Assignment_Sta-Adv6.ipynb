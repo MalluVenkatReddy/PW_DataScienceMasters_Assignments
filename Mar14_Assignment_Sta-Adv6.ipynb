{
 "cells": [
  {
   "cell_type": "markdown",
   "id": "284f50c0-8a26-4f3d-b153-b5ad91e9a478",
   "metadata": {},
   "source": [
    "Q1. Write a Python function that takes in two arrays of data and calculates the F-value for a variance ratio \n",
    "test. The function should return the F-value and the corresponding p-value for the test."
   ]
  },
  {
   "cell_type": "code",
   "execution_count": 67,
   "id": "57cf60f0-f108-4199-afd8-02cde1dfb8d0",
   "metadata": {},
   "outputs": [
    {
     "data": {
      "text/plain": [
       "4.387122002085506"
      ]
     },
     "execution_count": 67,
     "metadata": {},
     "output_type": "execute_result"
    }
   ],
   "source": [
    "worker1= [18, 19, 22, 25, 27, 28, 41, 45, 51, 55]\n",
    "worker2= [14, 15, 15, 17, 18, 22, 25, 25, 27, 34]\n",
    "## Calculate the F test statistics\n",
    "import numpy as np\n",
    "f_test=np.var(worker1)/np.var(worker2)\n",
    "f_test"
   ]
  },
  {
   "cell_type": "code",
   "execution_count": 68,
   "id": "e5bb1533-9011-4a75-b554-df6c89f98814",
   "metadata": {},
   "outputs": [
    {
     "name": "stdout",
     "output_type": "stream",
     "text": [
      "Variance worker1=186.989, Variance worker2=42.622\n"
     ]
    },
    {
     "data": {
      "text/plain": [
       "0.03825307186477156"
      ]
     },
     "execution_count": 68,
     "metadata": {},
     "output_type": "execute_result"
    }
   ],
   "source": [
    "import scipy.stats as stats\n",
    "print('Variance worker1={0:.3f}, Variance worker2={1:.3f}'.format(np.var(worker1, ddof=1), np.var(worker2, ddof=1)))\n",
    "fstatistics = np.var(worker1, ddof=1)/np.var(worker2, ddof=1) # because we estimate mean from data\n",
    "fdistribution = stats.f(len(worker1)-1,len(worker2)-1) # build an F-distribution object\n",
    "p_value = 2*min(fdistribution.cdf(f_test), 1-fdistribution.cdf(f_test))\n",
    "p_value"
   ]
  },
  {
   "cell_type": "markdown",
   "id": "eacc28b6-dc73-4a0a-a6e3-aab7a79a0c56",
   "metadata": {},
   "source": [
    "Q2. Given a significance level of 0.05 and the degrees of freedom for the numerator and denominator of an \n",
    "F-distribution, write a Python function that returns the critical F-value for a two-tailed test."
   ]
  },
  {
   "cell_type": "code",
   "execution_count": 70,
   "id": "5b482cd8-c443-4cea-8464-2d74461992ac",
   "metadata": {},
   "outputs": [
    {
     "data": {
      "text/plain": [
       "3.178893104458269"
      ]
     },
     "execution_count": 70,
     "metadata": {},
     "output_type": "execute_result"
    }
   ],
   "source": [
    "import scipy.stats as stat\n",
    "import scipy.stats\n",
    "worker1= [18, 19, 22, 25, 27, 28, 41, 45, 51, 55]\n",
    "worker2= [14, 15, 15, 17, 18, 22, 25, 25, 27, 34]\n",
    "df1=len(worker1)-1\n",
    "df2=len(worker2)-1\n",
    "significane_value=0.05\n",
    "import scipy.stats as stat\n",
    "critical_value=stat.f.ppf(q=1-significane_value,dfn=df1,dfd=df2)\n",
    "critical_value"
   ]
  },
  {
   "cell_type": "markdown",
   "id": "16021c8d-a80e-41f1-88e5-21d9d3e947a5",
   "metadata": {},
   "source": [
    "Q3. Write a Python program that generates random samples from two normal distributions with known \n",
    "variances and uses an F-test to determine if the variances are equal. The program should output the F\u0002value, degrees of freedom, and p-value for the test."
   ]
  },
  {
   "cell_type": "code",
   "execution_count": 77,
   "id": "4189a3f9-d796-4b63-8ea1-c78eb521ecbc",
   "metadata": {},
   "outputs": [
    {
     "name": "stdout",
     "output_type": "stream",
     "text": [
      "F value is 1.2609741780204442\n"
     ]
    }
   ],
   "source": [
    "mu, sigma1 = 0, 5 # mean and standard deviation\n",
    "mu, sigma2 = 0, 6 # mean and standard deviation\n",
    "s1 = np.random.normal(mu, sigma1, 10)\n",
    "s2 = np.random.normal(mu, sigma2, 10)\n",
    "s1,s2\n",
    "import numpy as np\n",
    "f_test=np.var(s1)/np.var(s2)\n",
    "f_test\n",
    "print('F value is {}'.format(f_test))"
   ]
  },
  {
   "cell_type": "code",
   "execution_count": 72,
   "id": "2e0a79bf-b87f-4c4f-a8a9-c9680e8b7bc3",
   "metadata": {},
   "outputs": [
    {
     "data": {
      "text/plain": [
       "3.178893104458269"
      ]
     },
     "execution_count": 72,
     "metadata": {},
     "output_type": "execute_result"
    }
   ],
   "source": [
    "df1=len(s1)-1\n",
    "df2=len(s2)-1\n",
    "significane_value=0.05\n",
    "import scipy.stats as stat\n",
    "critical_value=stat.f.ppf(q=1-significane_value,dfn=df1,dfd=df2)\n",
    "critical_value"
   ]
  },
  {
   "cell_type": "code",
   "execution_count": 73,
   "id": "2acfb521-f588-471e-9c93-1aa8a2697397",
   "metadata": {},
   "outputs": [
    {
     "name": "stdout",
     "output_type": "stream",
     "text": [
      "variances are equal\n"
     ]
    }
   ],
   "source": [
    "if f_test<critical_value:\n",
    "    print(\"variances are equal\")\n",
    "else:\n",
    "    print(\"variances are not equal\")"
   ]
  },
  {
   "cell_type": "code",
   "execution_count": 83,
   "id": "9e92375c-8233-4cd9-8421-574531d2660b",
   "metadata": {},
   "outputs": [
    {
     "name": "stdout",
     "output_type": "stream",
     "text": [
      "Variance s1=24.889, Variance s2=19.738\n",
      "dof of s1 9, and s2 9 is\n"
     ]
    }
   ],
   "source": [
    "import scipy.stats as stats\n",
    "print('Variance s1={0:.3f}, Variance s2={1:.3f}'.format(np.var(s1, ddof=1), np.var(s2, ddof=1)))\n",
    "fstatistics = np.var(s1, ddof=1)/np.var(s2, ddof=1) # because we estimate mean from data\n",
    "fdistribution = stats.f(len(s1)-1,len(s2)-1) # build an F-distribution object\n",
    "p_value = 2*min(fdistribution.cdf(f_test), 1-fdistribution.cdf(f_test))\n",
    "print('dof of s1 {}, and s2 {} is'.format(len(s1)-1, len(s2)-1))"
   ]
  },
  {
   "cell_type": "markdown",
   "id": "abbdd2fc-2ae5-40f6-9cb3-f7c8d9799265",
   "metadata": {},
   "source": [
    "Q4.The variances of two populations are known to be 10 and 15. A sample of 12 observations is taken from \n",
    "each population. Conduct an F-test at the 5% significance level to determine if the variances are \n",
    "significantly different."
   ]
  },
  {
   "cell_type": "code",
   "execution_count": 88,
   "id": "f12cfaab-adfd-4387-9fb9-9fea9875d2bb",
   "metadata": {},
   "outputs": [
    {
     "name": "stdout",
     "output_type": "stream",
     "text": [
      "F test value 0.6666666666666666 and critical value 2.8179304699530863 are\n"
     ]
    }
   ],
   "source": [
    "df1=11\n",
    "df2=11\n",
    "sigma1=10\n",
    "sigma2=15\n",
    "import scipy.stats as stats\n",
    "fstatistics = sigma1/sigma2\n",
    "significane_value=0.05\n",
    "import scipy.stats as stat\n",
    "critical_value=stat.f.ppf(q=1-significane_value,dfn=df1,dfd=df2)\n",
    "print('F test value {} and critical value {} are'.format(fstatistics,critical_value))"
   ]
  },
  {
   "cell_type": "code",
   "execution_count": 89,
   "id": "67655f66-ae57-42d6-9fd5-8c6cf44352f5",
   "metadata": {},
   "outputs": [
    {
     "name": "stdout",
     "output_type": "stream",
     "text": [
      "variances are equal\n"
     ]
    }
   ],
   "source": [
    "if fstatistics<critical_value:\n",
    "    print(\"variances are equal\")\n",
    "else:\n",
    "    print(\"variances are not equal\")"
   ]
  },
  {
   "cell_type": "markdown",
   "id": "b4577252-64fb-4ab0-94f4-41f8c35afc41",
   "metadata": {},
   "source": [
    "Q5. A manufacturer claims that the variance of the diameter of a certain product is 0.005. A sample of 25 \n",
    "products is taken, and the sample variance is found to be 0.006. Conduct an F-test at the 1% significance \n",
    "level to determine if the claim is justified."
   ]
  },
  {
   "cell_type": "code",
   "execution_count": 90,
   "id": "3efcd53d-7625-4e3d-a19c-3f190f4036a8",
   "metadata": {},
   "outputs": [
    {
     "name": "stdout",
     "output_type": "stream",
     "text": [
      "F test value 0.8333333333333334 and critical value 2.659072104348157 are\n"
     ]
    }
   ],
   "source": [
    "df1=24\n",
    "df2=24\n",
    "sigma1=0.005\n",
    "sigma2=0.006\n",
    "import scipy.stats as stats\n",
    "fstatistics = sigma1/sigma2\n",
    "significane_value=0.01\n",
    "import scipy.stats as stat\n",
    "critical_value=stat.f.ppf(q=1-significane_value,dfn=df1,dfd=df2)\n",
    "print('F test value {} and critical value {} are'.format(fstatistics,critical_value))"
   ]
  },
  {
   "cell_type": "code",
   "execution_count": 91,
   "id": "b76d79bf-6b53-4393-b48a-be5c8c1dbd94",
   "metadata": {},
   "outputs": [
    {
     "name": "stdout",
     "output_type": "stream",
     "text": [
      "claim is justified\n"
     ]
    }
   ],
   "source": [
    "if fstatistics<critical_value:\n",
    "    print(\"claim is justified\")\n",
    "else:\n",
    "    print(\"claim is not justified\")"
   ]
  },
  {
   "cell_type": "markdown",
   "id": "5bb832f6-4601-48e0-aee7-a1a5b9008ebd",
   "metadata": {},
   "source": [
    "Q6. Write a Python function that takes in the degrees of freedom for the numerator and denominator of an \n",
    "F-distribution and calculates the mean and variance of the distribution. The function should return the \n",
    "mean and variance as a tuple."
   ]
  },
  {
   "cell_type": "code",
   "execution_count": 102,
   "id": "c601607a-2e0f-45e9-9feb-78e283af858e",
   "metadata": {},
   "outputs": [
    {
     "data": {
      "text/plain": [
       "(array(1.125), array(0.28055727))"
      ]
     },
     "execution_count": 102,
     "metadata": {},
     "output_type": "execute_result"
    }
   ],
   "source": [
    "dfn, dfd = 29, 18\n",
    "mean, var, skew, kurt = f.stats(dfn, dfd, moments='mvsk')\n",
    "(mean,var)"
   ]
  },
  {
   "cell_type": "code",
   "execution_count": null,
   "id": "bcee688f-df90-4581-a67d-431fc32e0643",
   "metadata": {},
   "outputs": [],
   "source": [
    "Q7. A random sample of 10 measurements is taken from a normal population with unknown variance. The \n",
    "sample variance is found to be 25. Another random sample of 15 measurements is taken from another \n",
    "normal population with unknown variance, and the sample variance is found to be 20. Conduct an F-test \n",
    "at the 10% significance level to determine if the variances are significantly different."
   ]
  },
  {
   "cell_type": "code",
   "execution_count": 103,
   "id": "6119076f-5f6e-4d8c-a3b1-658bdf094148",
   "metadata": {},
   "outputs": [
    {
     "name": "stdout",
     "output_type": "stream",
     "text": [
      "F test value 1.25 and critical value 2.121954566976902 are\n"
     ]
    }
   ],
   "source": [
    "df1=9\n",
    "df2=14\n",
    "sigma1=25\n",
    "sigma2=20\n",
    "import scipy.stats as stats\n",
    "fstatistics = sigma1/sigma2\n",
    "significane_value=0.1\n",
    "import scipy.stats as stat\n",
    "critical_value=stat.f.ppf(q=1-significane_value,dfn=df1,dfd=df2)\n",
    "print('F test value {} and critical value {} are'.format(fstatistics,critical_value))"
   ]
  },
  {
   "cell_type": "code",
   "execution_count": 104,
   "id": "995148c4-c252-49f2-884b-e358f37117ce",
   "metadata": {},
   "outputs": [
    {
     "name": "stdout",
     "output_type": "stream",
     "text": [
      "variances are equal\n"
     ]
    }
   ],
   "source": [
    "if fstatistics<critical_value:\n",
    "    print(\"variances are equal\")\n",
    "else:\n",
    "    print(\"variances are not equal\")"
   ]
  },
  {
   "cell_type": "code",
   "execution_count": null,
   "id": "13b04da9-342e-4693-8eed-8d4838c025f1",
   "metadata": {},
   "outputs": [],
   "source": [
    "\n",
    "Q8. The following data represent the waiting times in minutes at two different restaurants on a Saturday \n",
    "night: Restaurant A: 24, 25, 28, 23, 22, 20, 27; Restaurant B: 31, 33, 35, 30, 32, 36. Conduct an F-test at the 5% \n",
    "significance level to determine if the variances are significantly different."
   ]
  },
  {
   "cell_type": "code",
   "execution_count": 28,
   "id": "596419fd-9a5c-4fb1-aad8-1398361f13a5",
   "metadata": {},
   "outputs": [
    {
     "data": {
      "text/plain": [
       "1.496767651159843"
      ]
     },
     "execution_count": 28,
     "metadata": {},
     "output_type": "execute_result"
    }
   ],
   "source": [
    "RestA= [24, 25, 28, 23, 22, 20, 27]\n",
    "RestB= [31, 33, 35, 30, 32, 36]\n",
    "## Calculate the F test statistics\n",
    "import numpy as np\n",
    "f_test=np.var(RestA)/np.var(RestB)\n",
    "f_test"
   ]
  },
  {
   "cell_type": "code",
   "execution_count": 29,
   "id": "6fdcc734-6119-44d2-bf60-14d54666310c",
   "metadata": {},
   "outputs": [
    {
     "data": {
      "text/plain": [
       "4.950288068694318"
      ]
     },
     "execution_count": 29,
     "metadata": {},
     "output_type": "execute_result"
    }
   ],
   "source": [
    "df1=len(RestA)-1\n",
    "df2=len(RestB)-1\n",
    "significane_value=0.05\n",
    "import scipy.stats as stat\n",
    "critical_value=stat.f.ppf(q=1-significane_value,dfn=df1,dfd=df2)\n",
    "critical_value"
   ]
  },
  {
   "cell_type": "code",
   "execution_count": 30,
   "id": "d402d748-6d84-4c63-bff8-946ae9150c25",
   "metadata": {},
   "outputs": [
    {
     "name": "stdout",
     "output_type": "stream",
     "text": [
      "variances are similar\n"
     ]
    }
   ],
   "source": [
    "if f_test<critical_value:\n",
    "    print(\"variances are similar\")\n",
    "else:\n",
    "    print(\"variances are significantly different\")"
   ]
  },
  {
   "cell_type": "code",
   "execution_count": null,
   "id": "43d8208a-e807-4682-94d6-64eadbedbc06",
   "metadata": {},
   "outputs": [],
   "source": [
    "Q9. The following data represent the test scores of two groups of students: Group A: 80, 85, 90, 92, 87, 83; \n",
    "Group B: 75, 78, 82, 79, 81, 84. Conduct an F-test at the 1% significance level to determine if the variances \n",
    "are significantly different."
   ]
  },
  {
   "cell_type": "code",
   "execution_count": 24,
   "id": "70c9fd82-2fdf-4bf4-a403-364bfb4813d5",
   "metadata": {},
   "outputs": [
    {
     "data": {
      "text/plain": [
       "1.9442622950819677"
      ]
     },
     "execution_count": 24,
     "metadata": {},
     "output_type": "execute_result"
    }
   ],
   "source": [
    "GroupA= [80, 85, 90, 92, 87, 83]\n",
    "GroupB= [75, 78, 82, 79, 81, 84]\n",
    "## Calculate the F test statistics\n",
    "import numpy as np\n",
    "f_test=np.var(GroupA)/np.var(GroupB)\n",
    "f_test"
   ]
  },
  {
   "cell_type": "code",
   "execution_count": 25,
   "id": "e94dfe10-3d59-4b65-8285-2a080595963b",
   "metadata": {},
   "outputs": [
    {
     "data": {
      "text/plain": [
       "10.967020650907992"
      ]
     },
     "execution_count": 25,
     "metadata": {},
     "output_type": "execute_result"
    }
   ],
   "source": [
    "df1=len(GroupA)-1\n",
    "df2=len(GroupB)-1\n",
    "significane_value=0.01\n",
    "import scipy.stats as stat\n",
    "critical_value=stat.f.ppf(q=1-significane_value,dfn=df1,dfd=df2)\n",
    "critical_value"
   ]
  },
  {
   "cell_type": "code",
   "execution_count": 26,
   "id": "3a4c52ad-0817-4b78-8f00-92dd780e7a66",
   "metadata": {},
   "outputs": [
    {
     "name": "stdout",
     "output_type": "stream",
     "text": [
      "variances are similar\n"
     ]
    }
   ],
   "source": [
    "if f_test<critical_value:\n",
    "    print(\"variances are similar\")\n",
    "else:\n",
    "    print(\"variances are significantly different\")"
   ]
  }
 ],
 "metadata": {
  "kernelspec": {
   "display_name": "Python 3 (ipykernel)",
   "language": "python",
   "name": "python3"
  },
  "language_info": {
   "codemirror_mode": {
    "name": "ipython",
    "version": 3
   },
   "file_extension": ".py",
   "mimetype": "text/x-python",
   "name": "python",
   "nbconvert_exporter": "python",
   "pygments_lexer": "ipython3",
   "version": "3.10.8"
  }
 },
 "nbformat": 4,
 "nbformat_minor": 5
}
