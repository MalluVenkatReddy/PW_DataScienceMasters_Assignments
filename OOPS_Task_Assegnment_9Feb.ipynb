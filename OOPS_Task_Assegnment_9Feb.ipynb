{
 "cells": [
  {
   "cell_type": "markdown",
   "id": "3d03a5b7-51e6-4f5c-8169-f53f51c566ad",
   "metadata": {},
   "source": [
    "Q1, Create a vehicle class with an init method having instance variables as name_of_vehicle, max_speed \n",
    "and average_of_vehicle."
   ]
  },
  {
   "cell_type": "code",
   "execution_count": 2,
   "id": "16024ed8-1811-4543-b143-7ef44fe0733b",
   "metadata": {},
   "outputs": [],
   "source": [
    "class vehicle():\n",
    "    def __init__ (self,name_of_vehicle,max_speed,average_of_vehicle):\n",
    "        self.name=name_of_vehicle\n",
    "        self.speed=max_speed\n",
    "        self.avgspeed=average_of_vehicle\n",
    "veh=vehicle(\"venue\",120,80)"
   ]
  },
  {
   "cell_type": "code",
   "execution_count": 5,
   "id": "8920380f-1aad-4d08-9de5-458dcfdc1840",
   "metadata": {},
   "outputs": [
    {
     "data": {
      "text/plain": [
       "'venue'"
      ]
     },
     "execution_count": 5,
     "metadata": {},
     "output_type": "execute_result"
    }
   ],
   "source": [
    "veh.name"
   ]
  },
  {
   "cell_type": "code",
   "execution_count": 6,
   "id": "39bde769-2808-4357-915e-4b040b8b9537",
   "metadata": {},
   "outputs": [
    {
     "data": {
      "text/plain": [
       "120"
      ]
     },
     "execution_count": 6,
     "metadata": {},
     "output_type": "execute_result"
    }
   ],
   "source": [
    "veh.speed"
   ]
  },
  {
   "cell_type": "code",
   "execution_count": 7,
   "id": "558b6289-b958-4c1d-bb7e-0ca405a09a86",
   "metadata": {},
   "outputs": [
    {
     "data": {
      "text/plain": [
       "80"
      ]
     },
     "execution_count": 7,
     "metadata": {},
     "output_type": "execute_result"
    }
   ],
   "source": [
    "veh.avgspeed"
   ]
  },
  {
   "cell_type": "markdown",
   "id": "dfd7a5d5-5c8d-42cf-9b03-da88915f7483",
   "metadata": {},
   "source": [
    "Q2.  Create a child class car from the vehicle class created in Que 1, which will inherit the vehicle class. \n",
    "Create a method named seating_capacity which takes capacity as an argument and returns the name of \n",
    "the vehicle and its seating capacity"
   ]
  },
  {
   "cell_type": "code",
   "execution_count": 31,
   "id": "2d4c7f8c-0df3-47d6-bfb9-a1e0b4a8046c",
   "metadata": {},
   "outputs": [],
   "source": [
    "class vehicle():\n",
    "    def __init__ (self,name_of_vehicle,max_speed,average_of_vehicle):\n",
    "        self.name=name_of_vehicle\n",
    "        self.speed=max_speed\n",
    "        self.avgspeed=average_of_vehicle\n",
    "class car(vehicle):\n",
    "    def seating_capacity(self,seating_capacity):\n",
    "        self.capacity=seating_capacity\n",
    "        return self.name,self.capacity"
   ]
  },
  {
   "cell_type": "code",
   "execution_count": 32,
   "id": "50f05d79-ed6a-4641-bbdf-84e140ef47e8",
   "metadata": {},
   "outputs": [],
   "source": [
    "veh=vehicle(\"venue\",120,80)"
   ]
  },
  {
   "cell_type": "code",
   "execution_count": 33,
   "id": "f0a61abe-7745-4495-a348-e443ef8fcf49",
   "metadata": {},
   "outputs": [],
   "source": [
    "c=car(\"venue\",120,80)"
   ]
  },
  {
   "cell_type": "code",
   "execution_count": 34,
   "id": "d64364b7-f582-4d08-adf6-b0e809d856c6",
   "metadata": {},
   "outputs": [
    {
     "data": {
      "text/plain": [
       "('venue', 36)"
      ]
     },
     "execution_count": 34,
     "metadata": {},
     "output_type": "execute_result"
    }
   ],
   "source": [
    "c.seating_capacity(36)"
   ]
  },
  {
   "cell_type": "markdown",
   "id": "a2935466-d3c9-4e52-bad8-5b6f1d14a544",
   "metadata": {},
   "source": [
    "Q3. What is multiple inheritance? Write a python code to demonstrate multiple inheritance."
   ]
  },
  {
   "cell_type": "code",
   "execution_count": 35,
   "id": "ef95f524-7da1-44ac-abd6-898a0200fbb5",
   "metadata": {},
   "outputs": [],
   "source": [
    "#Multiple inheritance is a feature of some object-oriented computer programming languages in which an object or class can inherit features from more than one parent object or parent class."
   ]
  },
  {
   "cell_type": "code",
   "execution_count": 36,
   "id": "dcd2be9a-98e8-4349-9678-29a401437b57",
   "metadata": {},
   "outputs": [
    {
     "name": "stdout",
     "output_type": "stream",
     "text": [
      "parent1 method \n",
      "parent2 method\n",
      "child method\n"
     ]
    }
   ],
   "source": [
    "class P1:\n",
    "    def m1(self):\n",
    "        print(\"parent1 method \")\n",
    "class P2:\n",
    "    def m2(self):\n",
    "        print(\"parent2 method\")\n",
    "class C(P1,P2):\n",
    "    def m3(self):\n",
    "        print(\"child method\")\n",
    "c=C()\n",
    "c.m1()\n",
    "c.m2()\n",
    "c.m3()"
   ]
  },
  {
   "cell_type": "markdown",
   "id": "0231fce4-9c98-4958-9d37-917e49edd795",
   "metadata": {},
   "source": [
    "Q4. What are getter and setter in python? Create a class and create a getter and a setter method in this \n",
    "class."
   ]
  },
  {
   "cell_type": "code",
   "execution_count": 37,
   "id": "fb66efa1-4bb3-443b-a584-a93327f5d726",
   "metadata": {},
   "outputs": [],
   "source": [
    "#Setter methods are used to set values to the instance variables.\n",
    "#Getter methods are used to get values to the instance variables."
   ]
  },
  {
   "cell_type": "code",
   "execution_count": 56,
   "id": "582c332b-af0d-43a1-944c-523b65d7b911",
   "metadata": {},
   "outputs": [],
   "source": [
    "class test():\n",
    "    def __init__ (self,name,age):\n",
    "        self.name=name\n",
    "        self.age=age\n",
    "    def setvariables (self,name):\n",
    "        self.name=name\n",
    "    def getvariables (self):\n",
    "        return self.name\n",
    "t=test(\"mallu\",41)"
   ]
  },
  {
   "cell_type": "code",
   "execution_count": 57,
   "id": "c7212700-7fec-44d0-9787-3ce307e1bd72",
   "metadata": {},
   "outputs": [
    {
     "data": {
      "text/plain": [
       "'mallu'"
      ]
     },
     "execution_count": 57,
     "metadata": {},
     "output_type": "execute_result"
    }
   ],
   "source": [
    "t.name"
   ]
  },
  {
   "cell_type": "code",
   "execution_count": 58,
   "id": "0e623067-fd54-48ef-9298-df9ac2297170",
   "metadata": {},
   "outputs": [
    {
     "data": {
      "text/plain": [
       "41"
      ]
     },
     "execution_count": 58,
     "metadata": {},
     "output_type": "execute_result"
    }
   ],
   "source": [
    "t.age"
   ]
  },
  {
   "cell_type": "code",
   "execution_count": 59,
   "id": "bda72141-1d1c-4255-986c-d94e8d19c3e4",
   "metadata": {},
   "outputs": [],
   "source": [
    "t.setvariables(\"venkat\")"
   ]
  },
  {
   "cell_type": "code",
   "execution_count": 60,
   "id": "eddb70da-3fb8-4a6c-8af1-35c1ec464e4b",
   "metadata": {},
   "outputs": [
    {
     "data": {
      "text/plain": [
       "'venkat'"
      ]
     },
     "execution_count": 60,
     "metadata": {},
     "output_type": "execute_result"
    }
   ],
   "source": [
    "t.name"
   ]
  },
  {
   "cell_type": "code",
   "execution_count": 61,
   "id": "1b89867c-9b8f-4cc5-b687-c7cd32e6ceb4",
   "metadata": {},
   "outputs": [
    {
     "data": {
      "text/plain": [
       "'venkat'"
      ]
     },
     "execution_count": 61,
     "metadata": {},
     "output_type": "execute_result"
    }
   ],
   "source": [
    "t.getvariables()"
   ]
  },
  {
   "cell_type": "markdown",
   "id": "089b6771-492a-427b-a8a8-27bb721fa8eb",
   "metadata": {},
   "source": [
    "Q5.What is method overriding in python? Write a python code to demonstrate method overriding."
   ]
  },
  {
   "cell_type": "code",
   "execution_count": 63,
   "id": "e310cfb7-b3ee-4884-a4ea-4bd80048023b",
   "metadata": {},
   "outputs": [],
   "source": [
    "\"\"\"members available in the parent class by default available to the child class through inheritance, \n",
    "if the child class not satisftied sith parent class implementation then child class is allowwed to redefine that method \n",
    "in the child class based on its requirement, This approach is called as overriding.\"\"\"\n",
    "class father():\n",
    "    def property(self):\n",
    "        print (\"gold+cash+land+property\")\n",
    "    def marriage(self):\n",
    "        print(\"mother\")\n",
    "class son(father):\n",
    "    def marriage(self):\n",
    "        print(\"lover\")"
   ]
  },
  {
   "cell_type": "code",
   "execution_count": 65,
   "id": "ca4020b8-23ef-46ac-ab62-003e0a19e8de",
   "metadata": {},
   "outputs": [
    {
     "name": "stdout",
     "output_type": "stream",
     "text": [
      "gold+cash+land+property\n"
     ]
    }
   ],
   "source": [
    "c=son()\n",
    "c.property()"
   ]
  },
  {
   "cell_type": "code",
   "execution_count": 66,
   "id": "0b9bb65e-4352-42b1-bdce-32743b83e9a2",
   "metadata": {},
   "outputs": [
    {
     "name": "stdout",
     "output_type": "stream",
     "text": [
      "lover\n"
     ]
    }
   ],
   "source": [
    "c.marriage()"
   ]
  }
 ],
 "metadata": {
  "kernelspec": {
   "display_name": "Python 3 (ipykernel)",
   "language": "python",
   "name": "python3"
  },
  "language_info": {
   "codemirror_mode": {
    "name": "ipython",
    "version": 3
   },
   "file_extension": ".py",
   "mimetype": "text/x-python",
   "name": "python",
   "nbconvert_exporter": "python",
   "pygments_lexer": "ipython3",
   "version": "3.10.8"
  }
 },
 "nbformat": 4,
 "nbformat_minor": 5
}
