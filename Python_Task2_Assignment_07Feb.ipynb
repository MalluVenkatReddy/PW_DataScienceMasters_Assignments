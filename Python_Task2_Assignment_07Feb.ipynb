{
 "cells": [
  {
   "cell_type": "markdown",
   "id": "75969662-bda2-4000-9f11-eb6f12a00f49",
   "metadata": {},
   "source": [
    " Q1. You are writing code for a company. The requirement of the company is that you create a python \n",
    "function that will check whether the password entered by the user is correct or not. The function should \n",
    "take the password as input and return the string “Valid Password” if the entered password follows the \n",
    "below-given password guidelines else it should return “Invalid Password”.\n",
    "\n",
    "\n",
    "Note: 1. The Password should contain at least two uppercase letters and at least two lowercase letters.\n",
    "\n",
    "2. The Password should contain at least a number and three special characters.\n",
    "\n",
    "3. The length of the password should be 10 characters long."
   ]
  },
  {
   "cell_type": "code",
   "execution_count": 7,
   "id": "82e6c30e-ab90-4580-b054-20b50efca6fb",
   "metadata": {},
   "outputs": [
    {
     "name": "stdin",
     "output_type": "stream",
     "text": [
      "enter  password  MalL12!@#$\n"
     ]
    },
    {
     "name": "stdout",
     "output_type": "stream",
     "text": [
      "upper= 2 lower = 2 numeric =  2 special =  4\n"
     ]
    },
    {
     "data": {
      "text/plain": [
       "'password is valid'"
      ]
     },
     "execution_count": 7,
     "metadata": {},
     "output_type": "execute_result"
    }
   ],
   "source": [
    "def pass_check(pswd):\n",
    "    upper=0\n",
    "    lower=0\n",
    "    num=0\n",
    "    special=0\n",
    "    for i in pswd:\n",
    "        if i.isupper()==True:\n",
    "            upper+=1\n",
    "        elif i.islower()==True:\n",
    "            lower+=1\n",
    "        elif i.isnumeric()==True:\n",
    "            num+=1\n",
    "        else:\n",
    "            special+=1\n",
    "    print(\"upper=\" ,upper,\"lower =\" ,lower, \"numeric = \" ,num, \"special = \" ,special)\n",
    "    if upper>=2 and lower>=2 and num>=1 and special>=3 and len(pswd)==10:\n",
    "        return \"password is valid\"\n",
    "    else:\n",
    "        return \"password is invalid\"\n",
    "        return upper,lower,num,special\n",
    "            \n",
    "l=input(\"enter  password \")\n",
    "pass_check(l) "
   ]
  },
  {
   "cell_type": "markdown",
   "id": "0be755a5-bea1-449e-b954-e34baaa4f57f",
   "metadata": {},
   "source": [
    "Q2. Solve the below-given questions using at least one of the following: \n",
    "\n",
    "1. Lambda function\n",
    "2. Filter function\n",
    "3. Map function\n",
    "4. List Comprehension\n",
    "\n",
    " a. Check if the string starts with a particular letter\n",
    "    \n",
    " b. Check if the string is numeric\n",
    "\n",
    " c. Sort a list of tuples having fruit names and their quantity. [(\"mango\",99),(\"orange\",80), (\"grapes\", 1000)]\n",
    "    \n",
    " d. Find the squares of numbers from 1 to 10\n",
    "\n",
    " e. Find the cube root of numbers from 1 to 10\n",
    "    \n",
    " f. Check if a given number is even\n",
    "\n",
    " g.Filter odd numbers from the given list.\n",
    "    \n",
    " [1,2,3,4,5,6,7,8,9,10]\n",
    "\n",
    " h. Sort a list of integers into positive and negative integers lists.\n",
    "    \n",
    " [1,2,3,4,5,6,-1,-2,-3,-4,-5,0]"
   ]
  },
  {
   "cell_type": "code",
   "execution_count": 5,
   "id": "1b854547-b696-4900-a328-94eb9b605bc2",
   "metadata": {},
   "outputs": [],
   "source": [
    "# a. Check if the string starts with a particular letter"
   ]
  },
  {
   "cell_type": "code",
   "execution_count": 6,
   "id": "7942f07c-b097-44e4-a0f8-7f9f9fe2f669",
   "metadata": {},
   "outputs": [
    {
     "name": "stdout",
     "output_type": "stream",
     "text": [
      "sai starts with  s\n"
     ]
    }
   ],
   "source": [
    "a=\"sai\"\n",
    "print(f\"{a} starts with \", a[0])"
   ]
  },
  {
   "cell_type": "code",
   "execution_count": 15,
   "id": "5da9ece1-f5e2-4b55-9975-f8448bfa2157",
   "metadata": {},
   "outputs": [
    {
     "data": {
      "text/plain": [
       "'s'"
      ]
     },
     "execution_count": 15,
     "metadata": {},
     "output_type": "execute_result"
    }
   ],
   "source": [
    "str_1st=lambda a:a[0] # using lambda function\n",
    "str_1st(\"sai\")"
   ]
  },
  {
   "cell_type": "code",
   "execution_count": 17,
   "id": "499ebc56-e873-414d-9218-28af8dcda7c3",
   "metadata": {},
   "outputs": [
    {
     "name": "stdin",
     "output_type": "stream",
     "text": [
      "enter string  tiger\n"
     ]
    },
    {
     "name": "stdout",
     "output_type": "stream",
     "text": [
      "string starts with t\n"
     ]
    }
   ],
   "source": [
    "s=input(\"enter string \")\n",
    "if s[0]==\"t\":\n",
    "    print(f\"string starts with {s[0]}\")"
   ]
  },
  {
   "cell_type": "code",
   "execution_count": 18,
   "id": "7a998c42-517b-4281-b1cc-970edb5181d2",
   "metadata": {},
   "outputs": [
    {
     "name": "stdin",
     "output_type": "stream",
     "text": [
      "enter string  lion\n"
     ]
    },
    {
     "data": {
      "text/plain": [
       "[\"string doesn't starts with t\"]"
      ]
     },
     "execution_count": 18,
     "metadata": {},
     "output_type": "execute_result"
    }
   ],
   "source": [
    "s=input(\"enter string \") # using list comprehension\n",
    "[f\"string starts with {s[0]}\" if s[0]==\"t\"  else f\"string doesn't starts with t\"]"
   ]
  },
  {
   "cell_type": "code",
   "execution_count": 19,
   "id": "0ed08c78-f42b-4691-a04a-0b477ff29570",
   "metadata": {},
   "outputs": [],
   "source": [
    "# b. Check if the string is numeric # using list comprehension"
   ]
  },
  {
   "cell_type": "code",
   "execution_count": 20,
   "id": "01d3c0f8-df3f-4fa6-8798-1a35a0621e24",
   "metadata": {},
   "outputs": [
    {
     "name": "stdin",
     "output_type": "stream",
     "text": [
      "enter string  1234\n"
     ]
    },
    {
     "data": {
      "text/plain": [
       "['sgtring is non numeric']"
      ]
     },
     "execution_count": 20,
     "metadata": {},
     "output_type": "execute_result"
    }
   ],
   "source": [
    "a=input(\"enter string \")\n",
    "[\"sgtring is numeric\"  if a.isnumeric()==\"True\" else \"sgtring is non numeric\"]"
   ]
  },
  {
   "cell_type": "code",
   "execution_count": null,
   "id": "23e20876-382e-4aea-8de1-9a42eb55ef2b",
   "metadata": {},
   "outputs": [],
   "source": [
    "#c. Sort a list of tuples having fruit names and their quantity. [(\"mango\",99),(\"orange\",80), (\"grapes\", 1000)]"
   ]
  },
  {
   "cell_type": "code",
   "execution_count": 21,
   "id": "bde13870-9553-416e-b816-fd3eeafab6d6",
   "metadata": {},
   "outputs": [
    {
     "data": {
      "text/plain": [
       "[('orange', 80), ('mango', 99), ('grapes', 1000)]"
      ]
     },
     "execution_count": 21,
     "metadata": {},
     "output_type": "execute_result"
    }
   ],
   "source": [
    "l=[(\"mango\",99),(\"orange\",80), (\"grapes\", 1000)]\n",
    "sorted(l, key=lambda x:x[1])"
   ]
  },
  {
   "cell_type": "code",
   "execution_count": 29,
   "id": "d109bff9-6a0c-4550-abb5-fb0c338d9b86",
   "metadata": {},
   "outputs": [
    {
     "data": {
      "text/plain": [
       "[('grapes', 1000), ('mango', 99), ('orange', 80)]"
      ]
     },
     "execution_count": 29,
     "metadata": {},
     "output_type": "execute_result"
    }
   ],
   "source": [
    "l=[(\"mango\",99),(\"orange\",80), (\"grapes\", 1000)]\n",
    "sorted(l, key=lambda x:x[0])"
   ]
  },
  {
   "cell_type": "code",
   "execution_count": 30,
   "id": "689579b2-38de-42df-8004-c67a51aadc88",
   "metadata": {},
   "outputs": [],
   "source": [
    "# d. Find the squares of numbers from 1 to 10 # using mapa and lambda function"
   ]
  },
  {
   "cell_type": "code",
   "execution_count": 31,
   "id": "c2feb15d-bf7c-40c5-ba01-0610fe7ce5a1",
   "metadata": {},
   "outputs": [
    {
     "data": {
      "text/plain": [
       "[1, 4, 9, 16, 25, 36, 49, 64, 81, 100]"
      ]
     },
     "execution_count": 31,
     "metadata": {},
     "output_type": "execute_result"
    }
   ],
   "source": [
    "l=range(1,11)\n",
    "list(map(lambda x:x**2,l))"
   ]
  },
  {
   "cell_type": "code",
   "execution_count": 32,
   "id": "4dcb22de-175a-4b1f-beb4-9aca2767da82",
   "metadata": {},
   "outputs": [],
   "source": [
    "#e. Find the cube root of numbers from 1 to 10  # using mapa and lambda function"
   ]
  },
  {
   "cell_type": "code",
   "execution_count": 33,
   "id": "61e015db-6536-45c8-a4a4-b6f8e9d946a5",
   "metadata": {},
   "outputs": [
    {
     "data": {
      "text/plain": [
       "[1.0,\n",
       " 1.2599210498948732,\n",
       " 1.4422495703074083,\n",
       " 1.5874010519681994,\n",
       " 1.7099759466766968,\n",
       " 1.8171205928321397,\n",
       " 1.912931182772389,\n",
       " 2.0,\n",
       " 2.080083823051904,\n",
       " 2.154434690031884]"
      ]
     },
     "execution_count": 33,
     "metadata": {},
     "output_type": "execute_result"
    }
   ],
   "source": [
    "l=range(1,11)\n",
    "list(map(lambda x:x**(1/3),l))"
   ]
  },
  {
   "cell_type": "code",
   "execution_count": 46,
   "id": "6b3b53ac-308a-4e9c-8231-28b62eb26bcb",
   "metadata": {},
   "outputs": [],
   "source": [
    "# f. Check if a given number is even # using List Comprehension"
   ]
  },
  {
   "cell_type": "code",
   "execution_count": 47,
   "id": "86ce0f89-6eec-49af-99c4-a4262bc82bbe",
   "metadata": {},
   "outputs": [
    {
     "name": "stdin",
     "output_type": "stream",
     "text": [
      "enter number  47\n"
     ]
    },
    {
     "name": "stdout",
     "output_type": "stream",
     "text": [
      "47 is odd \n"
     ]
    }
   ],
   "source": [
    "x=int(input(\"enter number \"))\n",
    "g=\"even\" if x%2==0 else \"odd\"\n",
    "print(f\"{x} is {g} \")"
   ]
  },
  {
   "cell_type": "code",
   "execution_count": 48,
   "id": "0a071d00-e854-4ac0-862f-d1e35413f430",
   "metadata": {},
   "outputs": [],
   "source": [
    "# g.Filter odd numbers from the given list [1,2,3,4,5,6,7,8,9,10] # using filter function"
   ]
  },
  {
   "cell_type": "code",
   "execution_count": 54,
   "id": "f187ca60-4553-4ef7-806e-0375b8a3f6e8",
   "metadata": {},
   "outputs": [
    {
     "data": {
      "text/plain": [
       "[1, 3, 5, 7, 9]"
      ]
     },
     "execution_count": 54,
     "metadata": {},
     "output_type": "execute_result"
    }
   ],
   "source": [
    "l=[1,2,3,4,5,6,7,8,9,10]\n",
    "list(filter(lambda x: x%2!=0,l))"
   ]
  },
  {
   "cell_type": "code",
   "execution_count": 62,
   "id": "e379ba68-c738-49ee-82cb-892a392804c3",
   "metadata": {},
   "outputs": [],
   "source": [
    "# h. Sort a list of integers into positive and negative integers lists [1,2,3,4,5,6,-1,-2,-3,-4,-5,0]\n",
    "l=[1,2,3,4,5,6,-1,-2,-3,-4,-5,0]\n",
    "pos=list(filter(lambda x: x>0,l))\n",
    "neg=list(filter(lambda x: x<0,l))\n",
    "zero=list(filter(lambda x: x==0,l))"
   ]
  },
  {
   "cell_type": "code",
   "execution_count": 65,
   "id": "489227e7-1bd7-4b39-8e4f-f234c8d346fc",
   "metadata": {},
   "outputs": [
    {
     "data": {
      "text/plain": [
       "[1, 2, 3, 4, 5, 6]"
      ]
     },
     "execution_count": 65,
     "metadata": {},
     "output_type": "execute_result"
    }
   ],
   "source": [
    "pos"
   ]
  },
  {
   "cell_type": "code",
   "execution_count": 66,
   "id": "2d462938-f03c-40dc-897c-fea141ea10a9",
   "metadata": {},
   "outputs": [
    {
     "data": {
      "text/plain": [
       "[-1, -2, -3, -4, -5]"
      ]
     },
     "execution_count": 66,
     "metadata": {},
     "output_type": "execute_result"
    }
   ],
   "source": [
    "neg"
   ]
  },
  {
   "cell_type": "code",
   "execution_count": 67,
   "id": "7ddcf6a4-971c-4933-a254-b84c05697957",
   "metadata": {},
   "outputs": [
    {
     "data": {
      "text/plain": [
       "[0]"
      ]
     },
     "execution_count": 67,
     "metadata": {},
     "output_type": "execute_result"
    }
   ],
   "source": [
    "zero"
   ]
  }
 ],
 "metadata": {
  "kernelspec": {
   "display_name": "Python 3 (ipykernel)",
   "language": "python",
   "name": "python3"
  },
  "language_info": {
   "codemirror_mode": {
    "name": "ipython",
    "version": 3
   },
   "file_extension": ".py",
   "mimetype": "text/x-python",
   "name": "python",
   "nbconvert_exporter": "python",
   "pygments_lexer": "ipython3",
   "version": "3.10.8"
  }
 },
 "nbformat": 4,
 "nbformat_minor": 5
}
