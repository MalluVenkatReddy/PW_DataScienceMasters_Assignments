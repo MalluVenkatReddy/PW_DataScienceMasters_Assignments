{
 "cells": [
  {
   "cell_type": "raw",
   "id": "efcbbd4b-1f62-4d05-84eb-d6b63ab167d6",
   "metadata": {},
   "source": [
    "Q1.What is a database? Differentiate between SQL and NoSQL databases. "
   ]
  },
  {
   "cell_type": "code",
   "execution_count": 1,
   "id": "2e967c06-642f-40ca-a01e-ee53afefcb16",
   "metadata": {},
   "outputs": [],
   "source": [
    "#A database is an organized collection of structured information, or data, typically stored electronically in a computer system\n",
    "#MySQL is a relational database that is based on tabular design whereas NoSQL is non-relational in nature with its document-based design. "
   ]
  },
  {
   "cell_type": "raw",
   "id": "8ab67c7b-466a-4eab-8d3d-01f7c553373a",
   "metadata": {},
   "source": [
    "Q2. What is DDL? Explain why CREATE, DROP, ALTER, and TRUNCATE are used with an example."
   ]
  },
  {
   "cell_type": "code",
   "execution_count": null,
   "id": "959ba68d-7433-487d-b7df-902525e06cd9",
   "metadata": {},
   "outputs": [],
   "source": [
    "#In the context of SQL, data definition or data description language is a syntax for creating and modifying database objects such as tables, indices, and users. DDL statements are similar to a computer programming language for defining data structures, especially database schemas.\n"
   ]
  },
  {
   "cell_type": "raw",
   "id": "f70bed18-8b92-4373-8f76-306a99b2eeb5",
   "metadata": {},
   "source": [
    "Q3. What is DML? Explain INSERT, UPDATE, and DELETE with an example."
   ]
  },
  {
   "cell_type": "code",
   "execution_count": null,
   "id": "d624bc89-b958-4d6c-bb25-24233fbeecd2",
   "metadata": {},
   "outputs": [],
   "source": [
    "#A DML (data manipulation language) refers to a computer programming language that allows you to add (insert), delete (delete), and alter (update) data in a database. \n",
    "#A DML is typically a sublanguage of a larger database language like SQL, with the DML containing some of the language's operators.\n",
    "#CREATE : to create objects in database\n",
    "#ALTER : alters the structure of database\n",
    "#DROP : delete objects from database\n",
    "#RENAME : rename an objects"
   ]
  },
  {
   "cell_type": "raw",
   "id": "5a54c68e-3993-41a6-bc8f-2ac5be71f7e6",
   "metadata": {},
   "source": [
    "Q4. What is DQL? Explain SELECT with an example."
   ]
  },
  {
   "cell_type": "code",
   "execution_count": null,
   "id": "e0b38d8e-91fe-400e-89dd-e3355bf9a226",
   "metadata": {},
   "outputs": [],
   "source": [
    "#The full form of DQL is Data Query Language. DQL is a part of the grouping involved in SQL\n",
    "#The SELECT statement is used to select data from a database. The data returned is stored in a result table, called the result-set"
   ]
  },
  {
   "cell_type": "raw",
   "id": "16d6ba74-f07e-47ab-99f8-85df8d9946b7",
   "metadata": {},
   "source": [
    "Q5. Explain Primary Key and Foreign Key."
   ]
  },
  {
   "cell_type": "code",
   "execution_count": null,
   "id": "4597f798-3391-4c42-a8c0-53d498731bca",
   "metadata": {},
   "outputs": [],
   "source": [
    "#A primary key generally focuses on the uniqueness of the table. It assures the value in the specific column is unique. \n",
    "#A foreign key is generally used to build a relationship between the two tables."
   ]
  },
  {
   "cell_type": "raw",
   "id": "014750d7-5b02-445d-a42a-00df58ef977e",
   "metadata": {},
   "source": [
    "Q6. Write a python code to connect MySQL to python. Explain the cursor() and execute() method."
   ]
  },
  {
   "cell_type": "code",
   "execution_count": 2,
   "id": "f1b1ba13-44b5-4807-bda3-b00a7b11a9c6",
   "metadata": {},
   "outputs": [
    {
     "ename": "ModuleNotFoundError",
     "evalue": "No module named 'mysql'",
     "output_type": "error",
     "traceback": [
      "\u001b[0;31m---------------------------------------------------------------------------\u001b[0m",
      "\u001b[0;31mModuleNotFoundError\u001b[0m                       Traceback (most recent call last)",
      "Cell \u001b[0;32mIn[2], line 1\u001b[0m\n\u001b[0;32m----> 1\u001b[0m \u001b[38;5;28;01mimport\u001b[39;00m \u001b[38;5;21;01mmysql\u001b[39;00m\u001b[38;5;21;01m.\u001b[39;00m\u001b[38;5;21;01mconnector\u001b[39;00m\n\u001b[1;32m      2\u001b[0m mydb \u001b[38;5;241m=\u001b[39m mysql\u001b[38;5;241m.\u001b[39mconnector\u001b[38;5;241m.\u001b[39mconnect(\n\u001b[1;32m      3\u001b[0m   host\u001b[38;5;241m=\u001b[39m\u001b[38;5;124m\"\u001b[39m\u001b[38;5;124mlocalhost\u001b[39m\u001b[38;5;124m\"\u001b[39m,\n\u001b[1;32m      4\u001b[0m   user\u001b[38;5;241m=\u001b[39m\u001b[38;5;124m\"\u001b[39m\u001b[38;5;124mabc\u001b[39m\u001b[38;5;124m\"\u001b[39m,\n\u001b[1;32m      5\u001b[0m   password\u001b[38;5;241m=\u001b[39m\u001b[38;5;124m\"\u001b[39m\u001b[38;5;124mpassword\u001b[39m\u001b[38;5;124m\"\u001b[39m\n\u001b[1;32m      6\u001b[0m )\n\u001b[1;32m      7\u001b[0m \u001b[38;5;28mprint\u001b[39m(mydb)\n",
      "\u001b[0;31mModuleNotFoundError\u001b[0m: No module named 'mysql'"
     ]
    }
   ],
   "source": [
    "import mysql.connector\n",
    "mydb = mysql.connector.connect(\n",
    "  host=\"localhost\",\n",
    "  user=\"abc\",\n",
    "  password=\"password\"\n",
    ")\n",
    "print(mydb)\n",
    "mycursor = mydb.cursor()\n",
    "mycursor.execute(\"SHOW DATABASES\")\n",
    "for x in mycursor:\n",
    "  print(x)"
   ]
  },
  {
   "cell_type": "code",
   "execution_count": null,
   "id": "37a67d98-b968-426f-8354-497dcf3701e3",
   "metadata": {},
   "outputs": [],
   "source": [
    "#Cursors are created by the connection. cursor() method: they are bound to the connection for the entire lifetime and all the commands are executed in the context of the database session wrapped by the connection.\n",
    "#execute() returns an iterator if multi is True"
   ]
  },
  {
   "cell_type": "raw",
   "id": "bd551c1c-ddeb-428e-9ff1-d6d3db06b035",
   "metadata": {},
   "source": [
    "Q7. Give the order of execution of SQL clauses in an SQL query."
   ]
  },
  {
   "cell_type": "markdown",
   "id": "98c3267b-e92c-4e36-9287-f11ae7ce216e",
   "metadata": {},
   "source": [
    "FROM clause.\n",
    "ON clause.\n",
    "OUTER clause.\n",
    "WHERE clause.\n",
    "GROUP BY clause.\n",
    "HAVING clause.\n",
    "SELECT clause.\n",
    "DISTINCT clause."
   ]
  }
 ],
 "metadata": {
  "kernelspec": {
   "display_name": "Python 3 (ipykernel)",
   "language": "python",
   "name": "python3"
  },
  "language_info": {
   "codemirror_mode": {
    "name": "ipython",
    "version": 3
   },
   "file_extension": ".py",
   "mimetype": "text/x-python",
   "name": "python",
   "nbconvert_exporter": "python",
   "pygments_lexer": "ipython3",
   "version": "3.10.8"
  }
 },
 "nbformat": 4,
 "nbformat_minor": 5
}
