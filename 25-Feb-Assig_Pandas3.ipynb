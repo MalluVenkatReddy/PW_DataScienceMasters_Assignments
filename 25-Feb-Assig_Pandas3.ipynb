{
 "cells": [
  {
   "cell_type": "raw",
   "id": "25880223-c034-44a5-8d95-28d8c485de2a",
   "metadata": {},
   "source": [
    "Consider following code to answer further questions:\n",
    "\n",
    "import pandas as pd\n",
    "\n",
    "course_name = [‘Data Science’, ‘Machine Learning’, ‘Big Data’, ‘Data Engineer’]\n",
    "\n",
    "duration =  [2,3,6,4]\n",
    "\n",
    "df = pd.DataFrame(data = {‘course_name’ : course_name, ‘duration’ : duration})"
   ]
  },
  {
   "cell_type": "markdown",
   "id": "c03e5d96-0147-4fe4-bb88-d75273bf48bf",
   "metadata": {},
   "source": [
    "Q1. Write a code to print the data present in the second row of the dataframe, df."
   ]
  },
  {
   "cell_type": "code",
   "execution_count": 4,
   "id": "938b4ac2-a0d5-4cda-b0f7-7facd2ef8b76",
   "metadata": {},
   "outputs": [
    {
     "data": {
      "text/html": [
       "<div>\n",
       "<style scoped>\n",
       "    .dataframe tbody tr th:only-of-type {\n",
       "        vertical-align: middle;\n",
       "    }\n",
       "\n",
       "    .dataframe tbody tr th {\n",
       "        vertical-align: top;\n",
       "    }\n",
       "\n",
       "    .dataframe thead th {\n",
       "        text-align: right;\n",
       "    }\n",
       "</style>\n",
       "<table border=\"1\" class=\"dataframe\">\n",
       "  <thead>\n",
       "    <tr style=\"text-align: right;\">\n",
       "      <th></th>\n",
       "      <th>course_name</th>\n",
       "      <th>duration</th>\n",
       "    </tr>\n",
       "  </thead>\n",
       "  <tbody>\n",
       "    <tr>\n",
       "      <th>0</th>\n",
       "      <td>Data Science</td>\n",
       "      <td>2</td>\n",
       "    </tr>\n",
       "    <tr>\n",
       "      <th>1</th>\n",
       "      <td>Machine Learning</td>\n",
       "      <td>3</td>\n",
       "    </tr>\n",
       "    <tr>\n",
       "      <th>2</th>\n",
       "      <td>Big Data</td>\n",
       "      <td>6</td>\n",
       "    </tr>\n",
       "    <tr>\n",
       "      <th>3</th>\n",
       "      <td>Data Engineer</td>\n",
       "      <td>4</td>\n",
       "    </tr>\n",
       "  </tbody>\n",
       "</table>\n",
       "</div>"
      ],
      "text/plain": [
       "        course_name  duration\n",
       "0      Data Science         2\n",
       "1  Machine Learning         3\n",
       "2          Big Data         6\n",
       "3     Data Engineer         4"
      ]
     },
     "execution_count": 4,
     "metadata": {},
     "output_type": "execute_result"
    }
   ],
   "source": [
    "import pandas as pd\n",
    "course_name = ['Data Science', 'Machine Learning', 'Big Data', 'Data Engineer']\n",
    "duration = [2,3,6,4]\n",
    "df = pd.DataFrame(data = {'course_name' : course_name, 'duration' : duration})\n",
    "df"
   ]
  },
  {
   "cell_type": "code",
   "execution_count": 9,
   "id": "c0ba0840-bbcb-4ae8-85d9-cc46abfbf9a0",
   "metadata": {},
   "outputs": [
    {
     "data": {
      "text/plain": [
       "course_name    Machine Learning\n",
       "duration                      3\n",
       "Name: 1, dtype: object"
      ]
     },
     "execution_count": 9,
     "metadata": {},
     "output_type": "execute_result"
    }
   ],
   "source": [
    "df.iloc[1]"
   ]
  },
  {
   "cell_type": "markdown",
   "id": "577204d2-eba2-455c-b5a2-e35e5f273ffb",
   "metadata": {},
   "source": [
    "Q2. What is the difference between the functions loc and iloc in pandas.DataFrame?"
   ]
  },
  {
   "cell_type": "code",
   "execution_count": 11,
   "id": "d1309028-825c-48e1-9a35-59f283938f44",
   "metadata": {},
   "outputs": [
    {
     "data": {
      "text/plain": [
       "course_name    Machine Learning\n",
       "duration                      3\n",
       "Name: 1, dtype: object"
      ]
     },
     "execution_count": 11,
     "metadata": {},
     "output_type": "execute_result"
    }
   ],
   "source": [
    "df.loc[1]"
   ]
  },
  {
   "cell_type": "code",
   "execution_count": null,
   "id": "444288dd-3ccc-4172-ae2e-e97adb3cc4e8",
   "metadata": {},
   "outputs": [],
   "source": [
    "#The iloc() function is an indexed-based selecting method which means that we have to pass an integer index in the method to select a specific row/column\n",
    "#The loc() function is label based data selecting method which means that we have to pass the name of the row or column which we want to select. "
   ]
  },
  {
   "cell_type": "markdown",
   "id": "b07161f7-c9a5-4df0-8400-c78ee3b6340a",
   "metadata": {},
   "source": [
    "Q3. Reindex the given dataframe using a variable, reindex = [3,0,1,2] and store it in the variable, new_df \n",
    "then find the output for both new_df.loc[2] and new_df.iloc[2]."
   ]
  },
  {
   "cell_type": "code",
   "execution_count": 14,
   "id": "e3da3dd0-ab16-441f-b415-ae5631a20797",
   "metadata": {},
   "outputs": [],
   "source": [
    "new_df=df.reindex( [3,0,1,2])"
   ]
  },
  {
   "cell_type": "code",
   "execution_count": 15,
   "id": "2e15e897-c942-4b14-9483-bd2fba90d0f6",
   "metadata": {},
   "outputs": [
    {
     "data": {
      "text/html": [
       "<div>\n",
       "<style scoped>\n",
       "    .dataframe tbody tr th:only-of-type {\n",
       "        vertical-align: middle;\n",
       "    }\n",
       "\n",
       "    .dataframe tbody tr th {\n",
       "        vertical-align: top;\n",
       "    }\n",
       "\n",
       "    .dataframe thead th {\n",
       "        text-align: right;\n",
       "    }\n",
       "</style>\n",
       "<table border=\"1\" class=\"dataframe\">\n",
       "  <thead>\n",
       "    <tr style=\"text-align: right;\">\n",
       "      <th></th>\n",
       "      <th>course_name</th>\n",
       "      <th>duration</th>\n",
       "    </tr>\n",
       "  </thead>\n",
       "  <tbody>\n",
       "    <tr>\n",
       "      <th>3</th>\n",
       "      <td>Data Engineer</td>\n",
       "      <td>4</td>\n",
       "    </tr>\n",
       "    <tr>\n",
       "      <th>0</th>\n",
       "      <td>Data Science</td>\n",
       "      <td>2</td>\n",
       "    </tr>\n",
       "    <tr>\n",
       "      <th>1</th>\n",
       "      <td>Machine Learning</td>\n",
       "      <td>3</td>\n",
       "    </tr>\n",
       "    <tr>\n",
       "      <th>2</th>\n",
       "      <td>Big Data</td>\n",
       "      <td>6</td>\n",
       "    </tr>\n",
       "  </tbody>\n",
       "</table>\n",
       "</div>"
      ],
      "text/plain": [
       "        course_name  duration\n",
       "3     Data Engineer         4\n",
       "0      Data Science         2\n",
       "1  Machine Learning         3\n",
       "2          Big Data         6"
      ]
     },
     "execution_count": 15,
     "metadata": {},
     "output_type": "execute_result"
    }
   ],
   "source": [
    "new_df"
   ]
  },
  {
   "cell_type": "code",
   "execution_count": 18,
   "id": "7dab4d27-9a91-4b6a-97cf-64a2c414a315",
   "metadata": {},
   "outputs": [
    {
     "data": {
      "text/plain": [
       "course_name    Machine Learning\n",
       "duration                      3\n",
       "Name: 1, dtype: object"
      ]
     },
     "execution_count": 18,
     "metadata": {},
     "output_type": "execute_result"
    }
   ],
   "source": [
    "new_df.iloc[2]"
   ]
  },
  {
   "cell_type": "code",
   "execution_count": 19,
   "id": "bb2d850f-6273-4964-b86b-0036131ac1c0",
   "metadata": {},
   "outputs": [
    {
     "data": {
      "text/plain": [
       "course_name    Big Data\n",
       "duration              6\n",
       "Name: 2, dtype: object"
      ]
     },
     "execution_count": 19,
     "metadata": {},
     "output_type": "execute_result"
    }
   ],
   "source": [
    "new_df.loc[2]"
   ]
  },
  {
   "cell_type": "raw",
   "id": "3a347edf-ab8f-4dd8-9aa8-08b1441d41a4",
   "metadata": {},
   "source": [
    "Consider the below code to answer further questions:\n",
    "import pandas as pd\n",
    "\n",
    "import numpy as np\n",
    "\n",
    "columns = ['column_1', 'column_2', 'column_3', 'column_4', 'column_5', 'column_6']\n",
    "\n",
    "indices = [1,2,3,4,5,6]\n",
    "\n",
    "#Creating a dataframe:\n",
    "\n",
    "df1 = pd.DataFrame(np.random.rand(6,6), columns = columns, index = indices)\n"
   ]
  },
  {
   "cell_type": "markdown",
   "id": "1d0132b0-4fdf-42fa-83b9-cf9483ebebf2",
   "metadata": {},
   "source": [
    "Q4. Write a code to find the following statistical measurements for the above dataframe df1:\n",
    "\n",
    "(i) \tmean of each and every column present in the dataframe.\n",
    "\n",
    "(ii) standard deviation of column, ‘column_2'"
   ]
  },
  {
   "cell_type": "code",
   "execution_count": 40,
   "id": "4c90a770-8d1a-4ecb-a739-5da91921e482",
   "metadata": {},
   "outputs": [],
   "source": [
    "import numpy as np\n",
    "\n",
    "columns = ['column_1', 'column_2', 'column_3', 'column_4', 'column_5', 'column_6']\n",
    "\n",
    "indices = [1,2,3,4,5,6]\n",
    "\n",
    "df1 = pd.DataFrame(np.random.rand(6,6), columns = columns, index = indices)"
   ]
  },
  {
   "cell_type": "code",
   "execution_count": 41,
   "id": "e199e466-2154-4237-9108-7ba99e0a63c7",
   "metadata": {},
   "outputs": [
    {
     "data": {
      "text/html": [
       "<div>\n",
       "<style scoped>\n",
       "    .dataframe tbody tr th:only-of-type {\n",
       "        vertical-align: middle;\n",
       "    }\n",
       "\n",
       "    .dataframe tbody tr th {\n",
       "        vertical-align: top;\n",
       "    }\n",
       "\n",
       "    .dataframe thead th {\n",
       "        text-align: right;\n",
       "    }\n",
       "</style>\n",
       "<table border=\"1\" class=\"dataframe\">\n",
       "  <thead>\n",
       "    <tr style=\"text-align: right;\">\n",
       "      <th></th>\n",
       "      <th>column_1</th>\n",
       "      <th>column_2</th>\n",
       "      <th>column_3</th>\n",
       "      <th>column_4</th>\n",
       "      <th>column_5</th>\n",
       "      <th>column_6</th>\n",
       "    </tr>\n",
       "  </thead>\n",
       "  <tbody>\n",
       "    <tr>\n",
       "      <th>1</th>\n",
       "      <td>0.180133</td>\n",
       "      <td>0.819827</td>\n",
       "      <td>0.061029</td>\n",
       "      <td>0.111945</td>\n",
       "      <td>0.449855</td>\n",
       "      <td>0.921363</td>\n",
       "    </tr>\n",
       "    <tr>\n",
       "      <th>2</th>\n",
       "      <td>0.444421</td>\n",
       "      <td>0.418990</td>\n",
       "      <td>0.404024</td>\n",
       "      <td>0.442963</td>\n",
       "      <td>0.386266</td>\n",
       "      <td>0.333176</td>\n",
       "    </tr>\n",
       "    <tr>\n",
       "      <th>3</th>\n",
       "      <td>0.892714</td>\n",
       "      <td>0.023721</td>\n",
       "      <td>0.786736</td>\n",
       "      <td>0.072388</td>\n",
       "      <td>0.931683</td>\n",
       "      <td>0.601823</td>\n",
       "    </tr>\n",
       "    <tr>\n",
       "      <th>4</th>\n",
       "      <td>0.356345</td>\n",
       "      <td>0.636734</td>\n",
       "      <td>0.582477</td>\n",
       "      <td>0.765667</td>\n",
       "      <td>0.595884</td>\n",
       "      <td>0.573448</td>\n",
       "    </tr>\n",
       "    <tr>\n",
       "      <th>5</th>\n",
       "      <td>0.833023</td>\n",
       "      <td>0.048470</td>\n",
       "      <td>0.486137</td>\n",
       "      <td>0.176798</td>\n",
       "      <td>0.136510</td>\n",
       "      <td>0.350148</td>\n",
       "    </tr>\n",
       "    <tr>\n",
       "      <th>6</th>\n",
       "      <td>0.231299</td>\n",
       "      <td>0.235219</td>\n",
       "      <td>0.664724</td>\n",
       "      <td>0.845860</td>\n",
       "      <td>0.433444</td>\n",
       "      <td>0.070724</td>\n",
       "    </tr>\n",
       "  </tbody>\n",
       "</table>\n",
       "</div>"
      ],
      "text/plain": [
       "   column_1  column_2  column_3  column_4  column_5  column_6\n",
       "1  0.180133  0.819827  0.061029  0.111945  0.449855  0.921363\n",
       "2  0.444421  0.418990  0.404024  0.442963  0.386266  0.333176\n",
       "3  0.892714  0.023721  0.786736  0.072388  0.931683  0.601823\n",
       "4  0.356345  0.636734  0.582477  0.765667  0.595884  0.573448\n",
       "5  0.833023  0.048470  0.486137  0.176798  0.136510  0.350148\n",
       "6  0.231299  0.235219  0.664724  0.845860  0.433444  0.070724"
      ]
     },
     "execution_count": 41,
     "metadata": {},
     "output_type": "execute_result"
    }
   ],
   "source": [
    "df1"
   ]
  },
  {
   "cell_type": "code",
   "execution_count": 32,
   "id": "8234643d-f833-4888-8833-8fad5dc2e608",
   "metadata": {},
   "outputs": [
    {
     "data": {
      "text/plain": [
       "column_1    0.467874\n",
       "column_2    0.395714\n",
       "column_3    0.573486\n",
       "column_4    0.602809\n",
       "column_5    0.605840\n",
       "column_6    0.502365\n",
       "dtype: float64"
      ]
     },
     "execution_count": 32,
     "metadata": {},
     "output_type": "execute_result"
    }
   ],
   "source": [
    "df1.mean()"
   ]
  },
  {
   "cell_type": "code",
   "execution_count": 33,
   "id": "e64abbf1-a7bb-4ac0-a661-c102e4a1ae65",
   "metadata": {},
   "outputs": [
    {
     "data": {
      "text/plain": [
       "0.3180104219842258"
      ]
     },
     "execution_count": 33,
     "metadata": {},
     "output_type": "execute_result"
    }
   ],
   "source": [
    "df1['column_2'].std()"
   ]
  },
  {
   "cell_type": "markdown",
   "id": "a9c19424-b049-41cd-a2df-b6beccee78d6",
   "metadata": {},
   "source": [
    "Q5. Replace the data present in the second row of column, ‘column_2’ by a string variable then find the \n",
    "mean of column, column_2.\n",
    "\n",
    "If you are getting errors in executing it then explain why.\n",
    "\n",
    "[Hint: To replace the data use df1.loc[] and equate this to string data of your choice.]"
   ]
  },
  {
   "cell_type": "code",
   "execution_count": 42,
   "id": "f530f6e2-3c08-4171-b5af-822a97582554",
   "metadata": {},
   "outputs": [],
   "source": [
    "df1['column_2'].iloc[1]='hi'"
   ]
  },
  {
   "cell_type": "code",
   "execution_count": 43,
   "id": "e78ced3e-82e8-42f6-bfe2-9c5b3a38d94f",
   "metadata": {},
   "outputs": [
    {
     "data": {
      "text/html": [
       "<div>\n",
       "<style scoped>\n",
       "    .dataframe tbody tr th:only-of-type {\n",
       "        vertical-align: middle;\n",
       "    }\n",
       "\n",
       "    .dataframe tbody tr th {\n",
       "        vertical-align: top;\n",
       "    }\n",
       "\n",
       "    .dataframe thead th {\n",
       "        text-align: right;\n",
       "    }\n",
       "</style>\n",
       "<table border=\"1\" class=\"dataframe\">\n",
       "  <thead>\n",
       "    <tr style=\"text-align: right;\">\n",
       "      <th></th>\n",
       "      <th>column_1</th>\n",
       "      <th>column_2</th>\n",
       "      <th>column_3</th>\n",
       "      <th>column_4</th>\n",
       "      <th>column_5</th>\n",
       "      <th>column_6</th>\n",
       "    </tr>\n",
       "  </thead>\n",
       "  <tbody>\n",
       "    <tr>\n",
       "      <th>1</th>\n",
       "      <td>0.180133</td>\n",
       "      <td>0.819827</td>\n",
       "      <td>0.061029</td>\n",
       "      <td>0.111945</td>\n",
       "      <td>0.449855</td>\n",
       "      <td>0.921363</td>\n",
       "    </tr>\n",
       "    <tr>\n",
       "      <th>2</th>\n",
       "      <td>0.444421</td>\n",
       "      <td>hi</td>\n",
       "      <td>0.404024</td>\n",
       "      <td>0.442963</td>\n",
       "      <td>0.386266</td>\n",
       "      <td>0.333176</td>\n",
       "    </tr>\n",
       "    <tr>\n",
       "      <th>3</th>\n",
       "      <td>0.892714</td>\n",
       "      <td>0.023721</td>\n",
       "      <td>0.786736</td>\n",
       "      <td>0.072388</td>\n",
       "      <td>0.931683</td>\n",
       "      <td>0.601823</td>\n",
       "    </tr>\n",
       "    <tr>\n",
       "      <th>4</th>\n",
       "      <td>0.356345</td>\n",
       "      <td>0.636734</td>\n",
       "      <td>0.582477</td>\n",
       "      <td>0.765667</td>\n",
       "      <td>0.595884</td>\n",
       "      <td>0.573448</td>\n",
       "    </tr>\n",
       "    <tr>\n",
       "      <th>5</th>\n",
       "      <td>0.833023</td>\n",
       "      <td>0.04847</td>\n",
       "      <td>0.486137</td>\n",
       "      <td>0.176798</td>\n",
       "      <td>0.136510</td>\n",
       "      <td>0.350148</td>\n",
       "    </tr>\n",
       "    <tr>\n",
       "      <th>6</th>\n",
       "      <td>0.231299</td>\n",
       "      <td>0.235219</td>\n",
       "      <td>0.664724</td>\n",
       "      <td>0.845860</td>\n",
       "      <td>0.433444</td>\n",
       "      <td>0.070724</td>\n",
       "    </tr>\n",
       "  </tbody>\n",
       "</table>\n",
       "</div>"
      ],
      "text/plain": [
       "   column_1  column_2  column_3  column_4  column_5  column_6\n",
       "1  0.180133  0.819827  0.061029  0.111945  0.449855  0.921363\n",
       "2  0.444421        hi  0.404024  0.442963  0.386266  0.333176\n",
       "3  0.892714  0.023721  0.786736  0.072388  0.931683  0.601823\n",
       "4  0.356345  0.636734  0.582477  0.765667  0.595884  0.573448\n",
       "5  0.833023   0.04847  0.486137  0.176798  0.136510  0.350148\n",
       "6  0.231299  0.235219  0.664724  0.845860  0.433444  0.070724"
      ]
     },
     "execution_count": 43,
     "metadata": {},
     "output_type": "execute_result"
    }
   ],
   "source": [
    "df1"
   ]
  },
  {
   "cell_type": "code",
   "execution_count": 45,
   "id": "de279aed-9278-48ec-9c17-9f70e45cd50c",
   "metadata": {},
   "outputs": [
    {
     "ename": "KeyError",
     "evalue": "'column2'",
     "output_type": "error",
     "traceback": [
      "\u001b[0;31m---------------------------------------------------------------------------\u001b[0m",
      "\u001b[0;31mKeyError\u001b[0m                                  Traceback (most recent call last)",
      "File \u001b[0;32m/opt/conda/lib/python3.10/site-packages/pandas/core/indexes/base.py:3803\u001b[0m, in \u001b[0;36mIndex.get_loc\u001b[0;34m(self, key, method, tolerance)\u001b[0m\n\u001b[1;32m   3802\u001b[0m \u001b[38;5;28;01mtry\u001b[39;00m:\n\u001b[0;32m-> 3803\u001b[0m     \u001b[38;5;28;01mreturn\u001b[39;00m \u001b[38;5;28;43mself\u001b[39;49m\u001b[38;5;241;43m.\u001b[39;49m\u001b[43m_engine\u001b[49m\u001b[38;5;241;43m.\u001b[39;49m\u001b[43mget_loc\u001b[49m\u001b[43m(\u001b[49m\u001b[43mcasted_key\u001b[49m\u001b[43m)\u001b[49m\n\u001b[1;32m   3804\u001b[0m \u001b[38;5;28;01mexcept\u001b[39;00m \u001b[38;5;167;01mKeyError\u001b[39;00m \u001b[38;5;28;01mas\u001b[39;00m err:\n",
      "File \u001b[0;32m/opt/conda/lib/python3.10/site-packages/pandas/_libs/index.pyx:138\u001b[0m, in \u001b[0;36mpandas._libs.index.IndexEngine.get_loc\u001b[0;34m()\u001b[0m\n",
      "File \u001b[0;32m/opt/conda/lib/python3.10/site-packages/pandas/_libs/index.pyx:165\u001b[0m, in \u001b[0;36mpandas._libs.index.IndexEngine.get_loc\u001b[0;34m()\u001b[0m\n",
      "File \u001b[0;32mpandas/_libs/hashtable_class_helper.pxi:5745\u001b[0m, in \u001b[0;36mpandas._libs.hashtable.PyObjectHashTable.get_item\u001b[0;34m()\u001b[0m\n",
      "File \u001b[0;32mpandas/_libs/hashtable_class_helper.pxi:5753\u001b[0m, in \u001b[0;36mpandas._libs.hashtable.PyObjectHashTable.get_item\u001b[0;34m()\u001b[0m\n",
      "\u001b[0;31mKeyError\u001b[0m: 'column2'",
      "\nThe above exception was the direct cause of the following exception:\n",
      "\u001b[0;31mKeyError\u001b[0m                                  Traceback (most recent call last)",
      "Cell \u001b[0;32mIn[45], line 1\u001b[0m\n\u001b[0;32m----> 1\u001b[0m \u001b[43mdf1\u001b[49m\u001b[43m[\u001b[49m\u001b[38;5;124;43m'\u001b[39;49m\u001b[38;5;124;43mcolumn2\u001b[39;49m\u001b[38;5;124;43m'\u001b[39;49m\u001b[43m]\u001b[49m\u001b[38;5;241m.\u001b[39mmean() \u001b[38;5;66;03m# eeror is due to string present in the column, mean is not possible with string\u001b[39;00m\n",
      "File \u001b[0;32m/opt/conda/lib/python3.10/site-packages/pandas/core/frame.py:3805\u001b[0m, in \u001b[0;36mDataFrame.__getitem__\u001b[0;34m(self, key)\u001b[0m\n\u001b[1;32m   3803\u001b[0m \u001b[38;5;28;01mif\u001b[39;00m \u001b[38;5;28mself\u001b[39m\u001b[38;5;241m.\u001b[39mcolumns\u001b[38;5;241m.\u001b[39mnlevels \u001b[38;5;241m>\u001b[39m \u001b[38;5;241m1\u001b[39m:\n\u001b[1;32m   3804\u001b[0m     \u001b[38;5;28;01mreturn\u001b[39;00m \u001b[38;5;28mself\u001b[39m\u001b[38;5;241m.\u001b[39m_getitem_multilevel(key)\n\u001b[0;32m-> 3805\u001b[0m indexer \u001b[38;5;241m=\u001b[39m \u001b[38;5;28;43mself\u001b[39;49m\u001b[38;5;241;43m.\u001b[39;49m\u001b[43mcolumns\u001b[49m\u001b[38;5;241;43m.\u001b[39;49m\u001b[43mget_loc\u001b[49m\u001b[43m(\u001b[49m\u001b[43mkey\u001b[49m\u001b[43m)\u001b[49m\n\u001b[1;32m   3806\u001b[0m \u001b[38;5;28;01mif\u001b[39;00m is_integer(indexer):\n\u001b[1;32m   3807\u001b[0m     indexer \u001b[38;5;241m=\u001b[39m [indexer]\n",
      "File \u001b[0;32m/opt/conda/lib/python3.10/site-packages/pandas/core/indexes/base.py:3805\u001b[0m, in \u001b[0;36mIndex.get_loc\u001b[0;34m(self, key, method, tolerance)\u001b[0m\n\u001b[1;32m   3803\u001b[0m     \u001b[38;5;28;01mreturn\u001b[39;00m \u001b[38;5;28mself\u001b[39m\u001b[38;5;241m.\u001b[39m_engine\u001b[38;5;241m.\u001b[39mget_loc(casted_key)\n\u001b[1;32m   3804\u001b[0m \u001b[38;5;28;01mexcept\u001b[39;00m \u001b[38;5;167;01mKeyError\u001b[39;00m \u001b[38;5;28;01mas\u001b[39;00m err:\n\u001b[0;32m-> 3805\u001b[0m     \u001b[38;5;28;01mraise\u001b[39;00m \u001b[38;5;167;01mKeyError\u001b[39;00m(key) \u001b[38;5;28;01mfrom\u001b[39;00m \u001b[38;5;21;01merr\u001b[39;00m\n\u001b[1;32m   3806\u001b[0m \u001b[38;5;28;01mexcept\u001b[39;00m \u001b[38;5;167;01mTypeError\u001b[39;00m:\n\u001b[1;32m   3807\u001b[0m     \u001b[38;5;66;03m# If we have a listlike key, _check_indexing_error will raise\u001b[39;00m\n\u001b[1;32m   3808\u001b[0m     \u001b[38;5;66;03m#  InvalidIndexError. Otherwise we fall through and re-raise\u001b[39;00m\n\u001b[1;32m   3809\u001b[0m     \u001b[38;5;66;03m#  the TypeError.\u001b[39;00m\n\u001b[1;32m   3810\u001b[0m     \u001b[38;5;28mself\u001b[39m\u001b[38;5;241m.\u001b[39m_check_indexing_error(key)\n",
      "\u001b[0;31mKeyError\u001b[0m: 'column2'"
     ]
    }
   ],
   "source": [
    "df1['column2'].mean() # eeror is due to string present in the column, mean is not possible with string"
   ]
  },
  {
   "cell_type": "markdown",
   "id": "1733bfc2-1470-41ab-ace6-46437e43c9db",
   "metadata": {},
   "source": [
    "Q6. What do you understand about the windows function in pandas and list the types of windows functions?"
   ]
  },
  {
   "cell_type": "markdown",
   "id": "c96728b5-5cb6-4d2f-bcc4-b09e4684ada4",
   "metadata": {},
   "source": [
    "For working on numerical data, Pandas provide few variants like rolling, expanding and exponentially moving weights for window statistics. Among these are sum, mean, median, variance, covariance, correlation, etc.\n",
    "\n",
    "We will now learn how each of these can be applied on DataFrame objects.\n",
    "\n",
    "1.rolling() Function\n",
    "This function can be applied on a series of data. Specify the window=n argument and apply the appropriate statistical function on top of it.\n",
    "\n",
    "2.expanding() Function\n",
    "This function can be applied on a series of data. Specify the min_periods=n argument and apply the appropriate statistical function on top of it.\n",
    "\n",
    "\n",
    "3.ewm is applied on a series of data. Specify any of the com, span, halflife argument and apply the appropriate statistical function on top of it. It assigns the weights exponentially."
   ]
  },
  {
   "cell_type": "markdown",
   "id": "60b20c4e-fca9-4090-8a27-12423e55028e",
   "metadata": {},
   "source": [
    "Q7. Write a code to print only the current month and year at the time of answering this question.\n",
    "\n",
    "[Hint: Use pandas.datetime function"
   ]
  },
  {
   "cell_type": "code",
   "execution_count": 3,
   "id": "41933a0e-d5c2-4a16-bdfa-15b043ebfb36",
   "metadata": {},
   "outputs": [],
   "source": [
    "from datetime import datetime"
   ]
  },
  {
   "cell_type": "code",
   "execution_count": 71,
   "id": "cca22951-42fb-467a-a5f0-3b35483511e0",
   "metadata": {},
   "outputs": [
    {
     "data": {
      "text/plain": [
       "'2023-02-27'"
      ]
     },
     "execution_count": 71,
     "metadata": {},
     "output_type": "execute_result"
    }
   ],
   "source": [
    "datem = datetime.today().strftime(\"%Y-%m-%d\")\n",
    "datem"
   ]
  },
  {
   "cell_type": "markdown",
   "id": "7eba789d-e26c-48ac-9398-eba246b3563e",
   "metadata": {},
   "source": [
    "Q8. Write a Python program that takes in two dates as input (in the format YYYY-MM-DD) and \n",
    "calculates the difference between them in days, hours, and minutes using Pandas time delta. The \n",
    "program should prompt the user to enter the dates and display the result"
   ]
  },
  {
   "cell_type": "code",
   "execution_count": 4,
   "id": "5fcc1d9d-a1a0-4d27-9230-004b7a36c025",
   "metadata": {},
   "outputs": [
    {
     "name": "stdin",
     "output_type": "stream",
     "text": [
      "enter stsart date  2022-3-6\n",
      "enter end date  2023-4-26\n"
     ]
    },
    {
     "name": "stdout",
     "output_type": "stream",
     "text": [
      "416\n"
     ]
    }
   ],
   "source": [
    "import pandas as pd\n",
    "from datetime import date\n",
    "from datetime import datetime\n",
    "#start=input(\"enter start date\")\n",
    "#end=input(\"enter end date\")\n",
    "start=input(\"enter stsart date \")\n",
    "end=input(\"enter end date \")\n",
    "s_date=datetime.strptime(start,\"%Y-%m-%d\")\n",
    "l_Date=datetime.strptime(end,\"%Y-%m-%d\")\n",
    "delta=abs(s_date-l_Date)\n",
    "print(delta.days)"
   ]
  },
  {
   "cell_type": "code",
   "execution_count": 7,
   "id": "e595a4d3-0d65-43e5-b21a-b17e0fcd7fd4",
   "metadata": {},
   "outputs": [
    {
     "name": "stdout",
     "output_type": "stream",
     "text": [
      "173\n"
     ]
    }
   ],
   "source": [
    "from datetime import date\n",
    "#start=input(\"enter start date\")\n",
    "#end=input(\"enter end date\")\n",
    "start='2023-4-12'\n",
    "end='2023-10-2'\n",
    "s_date=datetime.strptime(start,\"%Y-%m-%d\")\n",
    "l_Date=datetime.strptime(end,\"%Y-%m-%d\")\n",
    "delta=abs(s_date-l_Date)\n",
    "print(delta.days)"
   ]
  },
  {
   "cell_type": "code",
   "execution_count": 8,
   "id": "ab981ffe-a1d3-49ac-8fe1-6c9c1332b251",
   "metadata": {},
   "outputs": [
    {
     "name": "stdout",
     "output_type": "stream",
     "text": [
      "173\n"
     ]
    }
   ],
   "source": [
    "from datetime import date\n",
    "l_date=date(2023,10,2)\n",
    "s_Date=date(2023,4,12)\n",
    "delta=l_date-s_Date\n",
    "print(delta.days)"
   ]
  },
  {
   "cell_type": "markdown",
   "id": "e953b52a-dee4-435a-be44-d0155b015bda",
   "metadata": {},
   "source": [
    "Q9. Write a Python program that reads a CSV file containing categorical data and converts a specified \n",
    "column to a categorical data type. The program should prompt the user to enter the file path, column \n",
    "name, and category order, and then display the sorted data."
   ]
  },
  {
   "cell_type": "code",
   "execution_count": 78,
   "id": "57c5271c-2a60-4b38-b71e-ab3d1fd1d369",
   "metadata": {},
   "outputs": [],
   "source": [
    "df=pd.read_csv(\"titanic_data.csv\")"
   ]
  },
  {
   "cell_type": "code",
   "execution_count": 79,
   "id": "b7d3b696-c20c-4936-98be-79c203816dab",
   "metadata": {},
   "outputs": [],
   "source": [
    "data=df[\"Sex\"]"
   ]
  },
  {
   "cell_type": "code",
   "execution_count": 80,
   "id": "ba648817-79d5-4c97-9836-0776c5d1cdd1",
   "metadata": {},
   "outputs": [
    {
     "data": {
      "text/plain": [
       "0        male\n",
       "1      female\n",
       "2      female\n",
       "3      female\n",
       "4        male\n",
       "        ...  \n",
       "886      male\n",
       "887    female\n",
       "888    female\n",
       "889      male\n",
       "890      male\n",
       "Name: Sex, Length: 891, dtype: object"
      ]
     },
     "execution_count": 80,
     "metadata": {},
     "output_type": "execute_result"
    }
   ],
   "source": [
    "data"
   ]
  },
  {
   "cell_type": "code",
   "execution_count": 81,
   "id": "78510b41-ddf9-45d0-ad64-6bcdd94ef024",
   "metadata": {},
   "outputs": [],
   "source": [
    "df=pd.Categorical(data)"
   ]
  },
  {
   "cell_type": "code",
   "execution_count": 82,
   "id": "3ba44d6b-2008-4bee-9107-5e922f8d2e27",
   "metadata": {},
   "outputs": [
    {
     "data": {
      "text/plain": [
       "['male', 'female', 'female', 'female', 'male', ..., 'male', 'female', 'female', 'male', 'male']\n",
       "Length: 891\n",
       "Categories (2, object): ['female', 'male']"
      ]
     },
     "execution_count": 82,
     "metadata": {},
     "output_type": "execute_result"
    }
   ],
   "source": [
    "df"
   ]
  },
  {
   "cell_type": "code",
   "execution_count": 83,
   "id": "7f4975cd-29b6-45bf-b2f2-6ede14dba98f",
   "metadata": {},
   "outputs": [
    {
     "data": {
      "text/plain": [
       "female    314\n",
       "male      577\n",
       "dtype: int64"
      ]
     },
     "execution_count": 83,
     "metadata": {},
     "output_type": "execute_result"
    }
   ],
   "source": [
    "df.value_counts()"
   ]
  },
  {
   "cell_type": "markdown",
   "id": "75635913-6052-4439-902c-811581220f2f",
   "metadata": {},
   "source": [
    "Q10. Write a Python program that reads a CSV file containing sales data for different products and \n",
    "visualizes the data using a stacked bar chart to show the sales of each product category over time. The \n",
    "program should prompt the user to enter the file path and display the chart."
   ]
  },
  {
   "cell_type": "code",
   "execution_count": 70,
   "id": "7c429a72-d9a1-4d04-8b31-03327748de2c",
   "metadata": {},
   "outputs": [
    {
     "data": {
      "text/html": [
       "<div>\n",
       "<style scoped>\n",
       "    .dataframe tbody tr th:only-of-type {\n",
       "        vertical-align: middle;\n",
       "    }\n",
       "\n",
       "    .dataframe tbody tr th {\n",
       "        vertical-align: top;\n",
       "    }\n",
       "\n",
       "    .dataframe thead th {\n",
       "        text-align: right;\n",
       "    }\n",
       "</style>\n",
       "<table border=\"1\" class=\"dataframe\">\n",
       "  <thead>\n",
       "    <tr style=\"text-align: right;\">\n",
       "      <th></th>\n",
       "      <th>alto</th>\n",
       "      <th>swift</th>\n",
       "      <th>baleno</th>\n",
       "    </tr>\n",
       "  </thead>\n",
       "  <tbody>\n",
       "    <tr>\n",
       "      <th>2020</th>\n",
       "      <td>20000</td>\n",
       "      <td>15000</td>\n",
       "      <td>7000</td>\n",
       "    </tr>\n",
       "    <tr>\n",
       "      <th>2021</th>\n",
       "      <td>21000</td>\n",
       "      <td>14000</td>\n",
       "      <td>5000</td>\n",
       "    </tr>\n",
       "    <tr>\n",
       "      <th>2022</th>\n",
       "      <td>19000</td>\n",
       "      <td>13000</td>\n",
       "      <td>8000</td>\n",
       "    </tr>\n",
       "  </tbody>\n",
       "</table>\n",
       "</div>"
      ],
      "text/plain": [
       "       alto  swift  baleno\n",
       "2020  20000  15000    7000\n",
       "2021  21000  14000    5000\n",
       "2022  19000  13000    8000"
      ]
     },
     "execution_count": 70,
     "metadata": {},
     "output_type": "execute_result"
    }
   ],
   "source": [
    "sales={'alto':[20000,21000,19000],'swift':[15000,14000,13000],'baleno':[7000,5000,8000]}\n",
    "car_Sales=pd.DataFrame(sales,index=[2020,2021,2022])\n",
    "car_Sales"
   ]
  },
  {
   "cell_type": "code",
   "execution_count": 72,
   "id": "558cc1ae-f3bd-4a0c-bebd-5da4f00b63b3",
   "metadata": {},
   "outputs": [
    {
     "data": {
      "text/plain": [
       "<AxesSubplot: >"
      ]
     },
     "execution_count": 72,
     "metadata": {},
     "output_type": "execute_result"
    },
    {
     "data": {
      "image/png": "[encoded data removed]",
      "text/plain": [
       "<Figure size 640x480 with 1 Axes>"
      ]
     },
     "metadata": {},
     "output_type": "display_data"
    }
   ],
   "source": [
    "car_Sales.plot.bar(stacked=True)"
   ]
  },
  {
   "cell_type": "markdown",
   "id": "9d6cb609-33a8-46c6-a370-d86aa837c0c7",
   "metadata": {},
   "source": [
    "Q11. You are given a CSV file containing student data that includes the student ID and their test score. Write \n",
    "a Python program that reads the CSV file, calculates the mean, median, and mode of the test scores, and \n",
    "displays the results in a table"
   ]
  },
  {
   "cell_type": "code",
   "execution_count": 35,
   "id": "3ba5d6d3-8ce5-43bf-8a75-943bf5d6093b",
   "metadata": {},
   "outputs": [],
   "source": [
    "data={'student ID':[1,2,3,4,5,6,7,8,9,10],'Test Score':[85,90,80,75,85,82,78,85,90,85]}\n",
    "import pandas as pd\n",
    "df=pd.DataFrame(data)\n",
    "df.to_csv(\"student_data.csv\")"
   ]
  },
  {
   "cell_type": "code",
   "execution_count": 36,
   "id": "28c3c5cd-380d-4003-9d0e-42ec382a38c4",
   "metadata": {},
   "outputs": [],
   "source": [
    "df=pd.read_csv(\"student_data.csv\")"
   ]
  },
  {
   "cell_type": "code",
   "execution_count": 37,
   "id": "a4cfd22d-f0b9-4167-b7e1-91596bd4b29d",
   "metadata": {},
   "outputs": [
    {
     "data": {
      "text/html": [
       "<div>\n",
       "<style scoped>\n",
       "    .dataframe tbody tr th:only-of-type {\n",
       "        vertical-align: middle;\n",
       "    }\n",
       "\n",
       "    .dataframe tbody tr th {\n",
       "        vertical-align: top;\n",
       "    }\n",
       "\n",
       "    .dataframe thead th {\n",
       "        text-align: right;\n",
       "    }\n",
       "</style>\n",
       "<table border=\"1\" class=\"dataframe\">\n",
       "  <thead>\n",
       "    <tr style=\"text-align: right;\">\n",
       "      <th></th>\n",
       "      <th>Unnamed: 0</th>\n",
       "      <th>student ID</th>\n",
       "      <th>Test Score</th>\n",
       "    </tr>\n",
       "  </thead>\n",
       "  <tbody>\n",
       "    <tr>\n",
       "      <th>0</th>\n",
       "      <td>0</td>\n",
       "      <td>1</td>\n",
       "      <td>85</td>\n",
       "    </tr>\n",
       "    <tr>\n",
       "      <th>1</th>\n",
       "      <td>1</td>\n",
       "      <td>2</td>\n",
       "      <td>90</td>\n",
       "    </tr>\n",
       "    <tr>\n",
       "      <th>2</th>\n",
       "      <td>2</td>\n",
       "      <td>3</td>\n",
       "      <td>80</td>\n",
       "    </tr>\n",
       "    <tr>\n",
       "      <th>3</th>\n",
       "      <td>3</td>\n",
       "      <td>4</td>\n",
       "      <td>75</td>\n",
       "    </tr>\n",
       "    <tr>\n",
       "      <th>4</th>\n",
       "      <td>4</td>\n",
       "      <td>5</td>\n",
       "      <td>85</td>\n",
       "    </tr>\n",
       "    <tr>\n",
       "      <th>5</th>\n",
       "      <td>5</td>\n",
       "      <td>6</td>\n",
       "      <td>82</td>\n",
       "    </tr>\n",
       "    <tr>\n",
       "      <th>6</th>\n",
       "      <td>6</td>\n",
       "      <td>7</td>\n",
       "      <td>78</td>\n",
       "    </tr>\n",
       "    <tr>\n",
       "      <th>7</th>\n",
       "      <td>7</td>\n",
       "      <td>8</td>\n",
       "      <td>85</td>\n",
       "    </tr>\n",
       "    <tr>\n",
       "      <th>8</th>\n",
       "      <td>8</td>\n",
       "      <td>9</td>\n",
       "      <td>90</td>\n",
       "    </tr>\n",
       "    <tr>\n",
       "      <th>9</th>\n",
       "      <td>9</td>\n",
       "      <td>10</td>\n",
       "      <td>85</td>\n",
       "    </tr>\n",
       "  </tbody>\n",
       "</table>\n",
       "</div>"
      ],
      "text/plain": [
       "   Unnamed: 0  student ID  Test Score\n",
       "0           0           1          85\n",
       "1           1           2          90\n",
       "2           2           3          80\n",
       "3           3           4          75\n",
       "4           4           5          85\n",
       "5           5           6          82\n",
       "6           6           7          78\n",
       "7           7           8          85\n",
       "8           8           9          90\n",
       "9           9          10          85"
      ]
     },
     "execution_count": 37,
     "metadata": {},
     "output_type": "execute_result"
    }
   ],
   "source": [
    "df"
   ]
  },
  {
   "cell_type": "code",
   "execution_count": 58,
   "id": "b6836554-e2b6-41c7-b431-f17d93ff437b",
   "metadata": {},
   "outputs": [],
   "source": [
    "student_card={'mean': df[\"Test Score\"].mean(), 'median': df[\"Test Score\"].median(), 'mode':df[\"Test Score\"].mode()[0]}"
   ]
  },
  {
   "cell_type": "code",
   "execution_count": 65,
   "id": "50a90c54-6144-4580-949e-b8f0ac87e3dd",
   "metadata": {},
   "outputs": [],
   "source": [
    "df_sum=pd.DataFrame(student_card,index=['Student_data'])"
   ]
  },
  {
   "cell_type": "code",
   "execution_count": 66,
   "id": "197cc1fc-cb3c-4dde-a6cc-92b40321c45f",
   "metadata": {},
   "outputs": [
    {
     "data": {
      "text/html": [
       "<div>\n",
       "<style scoped>\n",
       "    .dataframe tbody tr th:only-of-type {\n",
       "        vertical-align: middle;\n",
       "    }\n",
       "\n",
       "    .dataframe tbody tr th {\n",
       "        vertical-align: top;\n",
       "    }\n",
       "\n",
       "    .dataframe thead th {\n",
       "        text-align: right;\n",
       "    }\n",
       "</style>\n",
       "<table border=\"1\" class=\"dataframe\">\n",
       "  <thead>\n",
       "    <tr style=\"text-align: right;\">\n",
       "      <th></th>\n",
       "      <th>mean</th>\n",
       "      <th>median</th>\n",
       "      <th>mode</th>\n",
       "    </tr>\n",
       "  </thead>\n",
       "  <tbody>\n",
       "    <tr>\n",
       "      <th>Student_data</th>\n",
       "      <td>83.5</td>\n",
       "      <td>85.0</td>\n",
       "      <td>85</td>\n",
       "    </tr>\n",
       "  </tbody>\n",
       "</table>\n",
       "</div>"
      ],
      "text/plain": [
       "              mean  median  mode\n",
       "Student_data  83.5    85.0    85"
      ]
     },
     "execution_count": 66,
     "metadata": {},
     "output_type": "execute_result"
    }
   ],
   "source": [
    "df_sum"
   ]
  }
 ],
 "metadata": {
  "kernelspec": {
   "display_name": "Python 3 (ipykernel)",
   "language": "python",
   "name": "python3"
  },
  "language_info": {
   "codemirror_mode": {
    "name": "ipython",
    "version": 3
   },
   "file_extension": ".py",
   "mimetype": "text/x-python",
   "name": "python",
   "nbconvert_exporter": "python",
   "pygments_lexer": "ipython3",
   "version": "3.10.8"
  }
 },
 "nbformat": 4,
 "nbformat_minor": 5
}
