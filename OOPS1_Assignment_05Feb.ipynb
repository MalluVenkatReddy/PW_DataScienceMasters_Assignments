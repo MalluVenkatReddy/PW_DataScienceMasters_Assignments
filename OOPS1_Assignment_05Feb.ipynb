{
 "cells": [
  {
   "cell_type": "markdown",
   "id": "df590e91-56b2-47d8-97eb-03b1ff735256",
   "metadata": {},
   "source": [
    "1.Explain Class and Object with respect to Object-Oriented Programming. Give a suitable example"
   ]
  },
  {
   "cell_type": "code",
   "execution_count": 1,
   "id": "e928f321-6faa-4f0e-b03b-0afc4bbf876b",
   "metadata": {},
   "outputs": [
    {
     "name": "stdout",
     "output_type": "stream",
     "text": [
      "hi\n",
      "welcome to OOPS\n"
     ]
    }
   ],
   "source": [
    "#Classes are user-defined data types that act as the blueprint for individual objects, attributes and methods. \n",
    "#Objects are instances of a class created with specifically defined data.\n",
    "class pwskills():\n",
    "    def __init__ (self):\n",
    "        print(\"hi\")\n",
    "    def welcome(self):\n",
    "        print(\"welcome to OOPS\")\n",
    "mallu=pwskills()\n",
    "mallu.welcome()"
   ]
  },
  {
   "cell_type": "markdown",
   "id": "bbb2581f-4f29-4618-8515-4084f3d6ea20",
   "metadata": {},
   "source": [
    "2.Name the four pillars of OOPs"
   ]
  },
  {
   "cell_type": "code",
   "execution_count": null,
   "id": "cc782726-a3b0-4785-aa88-5d926820f1dc",
   "metadata": {},
   "outputs": [],
   "source": [
    "#Inheritance, Polymorphism, Encapsulation and Abstraction"
   ]
  },
  {
   "cell_type": "markdown",
   "id": "30d96a5a-a1f3-4cd8-bd26-ee493282a059",
   "metadata": {},
   "source": [
    "3.Explain why the __init__() function is used. Give a suitable example"
   ]
  },
  {
   "cell_type": "code",
   "execution_count": 6,
   "id": "17bb8dbd-478c-45da-993d-4d081fa5cdfb",
   "metadata": {},
   "outputs": [
    {
     "name": "stdout",
     "output_type": "stream",
     "text": [
      "hi\n"
     ]
    }
   ],
   "source": [
    "#The python __init__ method is declared within a class and is used to initialize the attributes of an object as soon as the object is formed. \n",
    "#While giving the definition for an __init__(self) method, a default parameter, named 'self' is always passed in its argument. This self represents the object of the class itself.\n",
    "class pwskills():\n",
    "    def __init__ (self,ph_num,email_id,student_id):\n",
    "        print(\"hi\")\n",
    "        self.number=ph_num\n",
    "        self.id=email_id\n",
    "        self.tag=student_id\n",
    "    def return_st_details(self):\n",
    "        return self.number,self.id,self.tag\n",
    "mallu=pwskills(98866,\"mallu@gmail.com\",8994)"
   ]
  },
  {
   "cell_type": "code",
   "execution_count": 7,
   "id": "4f60aeac-0694-44f1-8a53-f57789c503f2",
   "metadata": {},
   "outputs": [
    {
     "data": {
      "text/plain": [
       "(98866, 'mallu@gmail.com', 8994)"
      ]
     },
     "execution_count": 7,
     "metadata": {},
     "output_type": "execute_result"
    }
   ],
   "source": [
    "mallu.return_st_details()"
   ]
  },
  {
   "cell_type": "markdown",
   "id": "d6046924-3d96-473e-8307-c0865008ad39",
   "metadata": {},
   "source": [
    "4.Why self is used in OOPs?"
   ]
  },
  {
   "cell_type": "code",
   "execution_count": 8,
   "id": "a0da9a26-0d41-4b46-aa4a-dbf09339e5d6",
   "metadata": {},
   "outputs": [],
   "source": [
    "#The self variable is used to represent the instance of the class which is often used in object-oriented programming. It works as a reference to the object. Python uses the self parameter to refer to instance attributes and methods of the class.\n",
    "#self represents the instance of the class. By using the “self” we can access the attributes and methods of the class in python. \n",
    "#It binds the attributes with the given arguments. The reason you need to use self. is because Python does not use the @ syntax to refer to instance attributes"
   ]
  },
  {
   "cell_type": "markdown",
   "id": "065eacb0-0b2b-4aae-8d35-3adf060d95d0",
   "metadata": {},
   "source": [
    "5.What is inheritance? Give an example for each type of inheritance?"
   ]
  },
  {
   "cell_type": "markdown",
   "id": "433599a0-54ef-4b4a-bb8f-fc87d7744f6b",
   "metadata": {},
   "source": [
    "#Inheritance is a feature or a process in which, new classes are created from the existing classes. \n",
    "#The new class created is called “derived class” or “child class” and the existing class is known as the “base class” or “parent class”. \n",
    "#The derived class now is said to be inherited from the base class.\n",
    "\n",
    "\"\"\" Type of inheritance\n",
    "1. Single inheritance\n",
    "2. Multilevel inheritance\n",
    "3. Multiple inheritance\n",
    "4. Hierarchical inheritance\n",
    "5. Hybrid inheritance \"\"\""
   ]
  },
  {
   "cell_type": "code",
   "execution_count": 4,
   "id": "cb0215c4-09e9-43ae-a2d8-fbc73a30dea4",
   "metadata": {},
   "outputs": [
    {
     "name": "stdout",
     "output_type": "stream",
     "text": [
      "parent method \n",
      "child method \n"
     ]
    }
   ],
   "source": [
    "# simple inheritance\n",
    "class P:\n",
    "    def m1(self):\n",
    "        print(\"parent method \")\n",
    "class C(P):\n",
    "    def m2(self):\n",
    "        print(\"child method \")\n",
    "c=C()\n",
    "c.m1()\n",
    "c.m2()"
   ]
  },
  {
   "cell_type": "code",
   "execution_count": 10,
   "id": "f6562edf-91b6-48e2-b4c4-9bef4ed86bc0",
   "metadata": {},
   "outputs": [
    {
     "name": "stdout",
     "output_type": "stream",
     "text": [
      "parent method \n",
      "child method \n"
     ]
    }
   ],
   "source": [
    "#2. Multilevel inheritance\n",
    "class P:\n",
    "    def m1(self):\n",
    "        print(\"parent method \")\n",
    "class C(P):\n",
    "    def m2(self):\n",
    "        print(\"child method \")\n",
    "class CC(C):\n",
    "    def m3(self):\n",
    "        print(\"sub child method\")\n",
    "c=C()\n",
    "c.m1()\n",
    "c.m2()\n",
    "# c.m3() # c can't able to access m3"
   ]
  },
  {
   "cell_type": "code",
   "execution_count": 11,
   "id": "1a0fb9c9-7cb7-4d24-af25-00d06812536e",
   "metadata": {},
   "outputs": [
    {
     "name": "stdout",
     "output_type": "stream",
     "text": [
      "parent method \n",
      "child method \n",
      "sub child method\n"
     ]
    }
   ],
   "source": [
    "cc=CC()\n",
    "cc.m1()\n",
    "cc.m2()\n",
    "cc.m3()"
   ]
  },
  {
   "cell_type": "code",
   "execution_count": 12,
   "id": "5889500f-6ed5-4064-8278-ea6c15c3f697",
   "metadata": {},
   "outputs": [
    {
     "name": "stdout",
     "output_type": "stream",
     "text": [
      "parent1 method \n",
      "parent2 method\n",
      "child method\n"
     ]
    }
   ],
   "source": [
    "# 3. Multiple inheritance\n",
    "class P1:\n",
    "    def m1(self):\n",
    "        print(\"parent1 method \")\n",
    "class P2:\n",
    "    def m2(self):\n",
    "        print(\"parent2 method\")\n",
    "class C(P1,P2):\n",
    "    def m3(self):\n",
    "        print(\"child method\")\n",
    "c=C()\n",
    "c.m1()\n",
    "c.m2()\n",
    "c.m3()"
   ]
  },
  {
   "cell_type": "code",
   "execution_count": 16,
   "id": "67b16adf-bec9-4f6a-a015-77c26a978637",
   "metadata": {},
   "outputs": [
    {
     "name": "stdout",
     "output_type": "stream",
     "text": [
      "parent method \n",
      "child1 method\n"
     ]
    }
   ],
   "source": [
    "# 4. Hierarchical inheritance\n",
    "class P:\n",
    "    def m1(self):\n",
    "        print(\"parent method \")\n",
    "class C1(P):\n",
    "    def m2(self):\n",
    "        print(\"child1 method\")\n",
    "class C2(P):\n",
    "    def m3(self):\n",
    "        print(\"child2 method\")\n",
    "c1=C1()\n",
    "c1.m1()\n",
    "c1.m2()\n",
    "# c1.m3() # can't access m3"
   ]
  },
  {
   "cell_type": "code",
   "execution_count": 19,
   "id": "4c6e0e7b-6588-4f70-85db-4fdef266929d",
   "metadata": {},
   "outputs": [
    {
     "name": "stdout",
     "output_type": "stream",
     "text": [
      "parent method \n",
      "child2 method\n"
     ]
    }
   ],
   "source": [
    "c2=C2()\n",
    "c2.m1()\n",
    "#c2.m2() # can't access m2\n",
    "c2.m3() "
   ]
  },
  {
   "cell_type": "code",
   "execution_count": 20,
   "id": "d36246e7-1dc3-4d52-9c30-9206a2caf44b",
   "metadata": {},
   "outputs": [],
   "source": [
    "# Hybrid inheritance is combinations of above 4"
   ]
  }
 ],
 "metadata": {
  "kernelspec": {
   "display_name": "Python 3 (ipykernel)",
   "language": "python",
   "name": "python3"
  },
  "language_info": {
   "codemirror_mode": {
    "name": "ipython",
    "version": 3
   },
   "file_extension": ".py",
   "mimetype": "text/x-python",
   "name": "python",
   "nbconvert_exporter": "python",
   "pygments_lexer": "ipython3",
   "version": "3.10.8"
  }
 },
 "nbformat": 4,
 "nbformat_minor": 5
}
