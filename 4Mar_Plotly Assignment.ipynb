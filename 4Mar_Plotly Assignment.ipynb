{
 "cells": [
  {
   "cell_type": "raw",
   "id": "ce401a85-ac04-4c01-9d95-22c47ba7f432",
   "metadata": {},
   "source": [
    "Q1. Load the \"titanic\" dataset using the load_dataset function of seaborn. Use Plotly express to plot a \n",
    "scatter plot for age and fare columns in the titanic dataset."
   ]
  },
  {
   "cell_type": "code",
   "execution_count": null,
   "id": "a3939643-5759-4db9-963e-3a988797ea77",
   "metadata": {},
   "outputs": [],
   "source": [
    "import seaborn as sns\n",
    "tit=sns.load_dataset(\"titanic\")\n",
    "import plotly.express as px\n",
    "px.scatter(x=tit.age,y=tit.fare)"
   ]
  },
  {
   "cell_type": "raw",
   "id": "acb6e6eb-7887-46bc-a094-5054f9453386",
   "metadata": {},
   "source": [
    "Q2. Using the tips dataset in the Plotly library, plot a box plot using Plotly express."
   ]
  },
  {
   "cell_type": "code",
   "execution_count": null,
   "id": "12f467f5-4f9f-4bbc-ab09-d8af0989bb87",
   "metadata": {},
   "outputs": [],
   "source": [
    "import seaborn as sns\n",
    "tips=sns.load_dataset(\"tips\")\n",
    "import plotly.express as px\n",
    "px.box(y=tips.total_bill)"
   ]
  },
  {
   "cell_type": "raw",
   "id": "c9e26ba0-678d-4624-be76-c988d6584ae4",
   "metadata": {},
   "source": [
    "Q3. Using the tips dataset in the Plotly library, Plot a histogram for x= \"sex\" and y=\"total_bill\" column in \n",
    "the tips dataset. Also, use the \"smoker\" column with the pattern_shape parameter and the \"day\" \n",
    "column with the color parameter."
   ]
  },
  {
   "cell_type": "code",
   "execution_count": null,
   "id": "ce0cfa6d-c650-4a0c-bc48-db0e56ce2a84",
   "metadata": {},
   "outputs": [],
   "source": [
    "import seaborn as sns\n",
    "tips=sns.load_dataset(\"tips\")\n",
    "import plotly.express as px\n",
    "px.histogram(x=tips.sex,y=tips.total_bill,pattern_shape=tips.smoker,color=tips.day)"
   ]
  },
  {
   "cell_type": "raw",
   "id": "882afed8-004e-4e71-9956-9dcdd9b0d7e7",
   "metadata": {},
   "source": [
    "Q4. Using the iris dataset in the Plotly library, Plot a scatter matrix plot, using the \"species\" column for \n",
    "the color parameter.\n",
    "\n",
    "Note: Use \"sepal_length\", \"sepal_width\", \"petal_length\", \"petal_width\" columns only with the \n",
    "dimensions parameter."
   ]
  },
  {
   "cell_type": "code",
   "execution_count": null,
   "id": "a00a163c-32b5-4c2f-ba66-b67c8ea3d1d4",
   "metadata": {},
   "outputs": [],
   "source": [
    "import seaborn as sns\n",
    "iris=sns.load_dataset(\"iris\")\n",
    "import plotly.express as px\n",
    "px.scatter_matrix(iris,color=iris.species)"
   ]
  },
  {
   "cell_type": "raw",
   "id": "d1b98150-1dd9-4681-9cfc-6617a055bd12",
   "metadata": {},
   "source": [
    "Q5. What is Distplot? Using Plotly express, plot a distplot."
   ]
  },
  {
   "cell_type": "code",
   "execution_count": null,
   "id": "65f94446-3772-4532-b7c9-11e8215f4f29",
   "metadata": {},
   "outputs": [],
   "source": [
    "\"\"\"\n",
    "The distplot figure factory displays a combination of statistical representations of numerical data, such as histogram, kernel density estimation or normal curve, and rug plot.\n",
    "\"\"\"\"\n",
    "import seaborn as sns\n",
    "iris=sns.load_dataset(\"iris\")\n",
    "import plotly.figure_factory as ff\n",
    "group_labels=['sepal_length',\t'sepal_width',\t'petal_length',\t'petal_width']\n",
    "ff.create_distplot([iris.sepal_length,iris.sepal_width,iris.petal_length,iris.petal_width],group_labels)"
   ]
  }
 ],
 "metadata": {
  "kernelspec": {
   "display_name": "Python 3 (ipykernel)",
   "language": "python",
   "name": "python3"
  },
  "language_info": {
   "codemirror_mode": {
    "name": "ipython",
    "version": 3
   },
   "file_extension": ".py",
   "mimetype": "text/x-python",
   "name": "python",
   "nbconvert_exporter": "python",
   "pygments_lexer": "ipython3",
   "version": "3.10.8"
  }
 },
 "nbformat": 4,
 "nbformat_minor": 5
}
