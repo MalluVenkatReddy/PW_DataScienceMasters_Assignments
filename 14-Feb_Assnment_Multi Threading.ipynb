{
 "cells": [
  {
   "cell_type": "markdown",
   "id": "659c6ae2-9dd0-4770-9a8b-29ec087aee14",
   "metadata": {},
   "source": [
    "Q1. What is multithreading in python? why is it used? Name the module used to handle threads in python?"
   ]
  },
  {
   "cell_type": "code",
   "execution_count": 3,
   "id": "3e62aca2-a1af-4254-aaf4-1eb6e36966f7",
   "metadata": {},
   "outputs": [],
   "source": [
    "#the ability of a processor to execute multiple threads simultaneously is known as multithreading. \n",
    "#Python multithreading facilitates sharing data space and resources of multiple threads with the main thread. It allows efficient and easy communication between the threads\n",
    "#import threading is teh module used to handle threads in python"
   ]
  },
  {
   "cell_type": "markdown",
   "id": "1a5ecf0e-5cab-4470-a278-d7683fe5281e",
   "metadata": {},
   "source": [
    "Q2.Why threading module used? write the use of the following functions?\n",
    "1. activeCount()\n",
    "2.currentThread()\n",
    "3. enumerate()"
   ]
  },
  {
   "cell_type": "code",
   "execution_count": 4,
   "id": "18aa7225-60c6-47cc-b762-602b85cdb0b3",
   "metadata": {},
   "outputs": [],
   "source": [
    "#activeCount() retuens the number of active threads currently running.\n",
    "#currentThread() retuens the current Thread object\n",
    "#enumerate() retuens a list of all active threads currently running."
   ]
  },
  {
   "cell_type": "markdown",
   "id": "0ac1b3d5-68dc-466a-936c-5b805a0a2865",
   "metadata": {},
   "source": [
    "Q3. Explain the following functions\n",
    " 1.run()\n",
    " 2.start()\n",
    " 3.join()\n",
    " 4.isAlive()"
   ]
  },
  {
   "cell_type": "code",
   "execution_count": 5,
   "id": "03ed4eec-3270-4997-9779-ad7d7a7868ea",
   "metadata": {},
   "outputs": [],
   "source": [
    "#run() is the entry point for a thread\n",
    "#start()t is used to start a thread's activity\n",
    "#If a thread wants to wait for another thread to complete, then we should go for join() method\n",
    "#is_alive method checks whether a thread is still executed or not"
   ]
  },
  {
   "cell_type": "markdown",
   "id": "6d610654-180e-4ab2-9d73-926afdda1528",
   "metadata": {},
   "source": [
    "Q4.  Write a python program to create two threads. Thread one must print the list of squares and thread. \n",
    "two must print the list of cubes"
   ]
  },
  {
   "cell_type": "code",
   "execution_count": 2,
   "id": "f54e7792-3080-42d5-8330-95d156daf2c4",
   "metadata": {},
   "outputs": [
    {
     "name": "stdout",
     "output_type": "stream",
     "text": [
      "square of 3 is 9 \n",
      "\n",
      "cube of 3 is 27 \n",
      "\n",
      "square of 4 is 16 \n",
      "\n",
      "cube of 4 is 64 \n",
      "\n"
     ]
    }
   ],
   "source": [
    "import threading\n",
    "import time\n",
    "\n",
    "def test2(n):\n",
    "    for i in n:\n",
    "        time.sleep(0.3) \n",
    "        print(\"square of %d is %d \\n\" %(i, i**2))\n",
    "\n",
    "def test3(n):\n",
    "    for i in n:\n",
    "        time.sleep(0.35) \n",
    "        print(\"cube of %d is %d \\n\" %(i, i**3))\n",
    "    \n",
    "lst=[3,4]\n",
    "    \n",
    "thrd2=threading.Thread(target=test2,args=(lst,))\n",
    "thrd3=threading.Thread(target=test3,args=(lst,))\n",
    "\n",
    "thrd2.start()\n",
    "thrd3.start()\n",
    "thrd2.join()\n",
    "thrd3.join()"
   ]
  },
  {
   "cell_type": "markdown",
   "id": "f1871443-4c86-4960-b3c5-9e78c7574ee1",
   "metadata": {},
   "source": [
    "Q5. State advantages and disadvantages of multithreading."
   ]
  },
  {
   "cell_type": "code",
   "execution_count": 10,
   "id": "c6ecf27a-7fe5-4396-a85f-074809e383a7",
   "metadata": {},
   "outputs": [],
   "source": [
    "#advantages:\n",
    "#1.streamlines the efficient utilization of resources as the threads share the same memory and data space.\n",
    "#2.concurrent appearance of multiple tasks and reduces the response time\n",
    "\n",
    "#disadvantages:\n",
    "\n",
    "#1. Complex debugging and testing processes.\n",
    "#2. Increased difficulty level in writing a program.\n",
    "#3.Increased potential for deadlock occurrence.\n",
    "#4.Overhead switching of context."
   ]
  },
  {
   "cell_type": "markdown",
   "id": "13aa740c-af5a-4029-9dc3-83048ae5c0f9",
   "metadata": {},
   "source": [
    "Q6. Explain deadlocks and race conditions"
   ]
  },
  {
   "cell_type": "code",
   "execution_count": 6,
   "id": "2145a294-b175-4a90-a21f-ea14f456e119",
   "metadata": {},
   "outputs": [],
   "source": [
    "#deadlock: Two threads hold locks on different resources, each waiting indefinitely for the other to release its lock. \n",
    "#race condition: Two (or more) threads alter the state of a shared resource concurrently, leaving it in an unpredictable state."
   ]
  }
 ],
 "metadata": {
  "kernelspec": {
   "display_name": "Python 3 (ipykernel)",
   "language": "python",
   "name": "python3"
  },
  "language_info": {
   "codemirror_mode": {
    "name": "ipython",
    "version": 3
   },
   "file_extension": ".py",
   "mimetype": "text/x-python",
   "name": "python",
   "nbconvert_exporter": "python",
   "pygments_lexer": "ipython3",
   "version": "3.10.8"
  }
 },
 "nbformat": 4,
 "nbformat_minor": 5
}
