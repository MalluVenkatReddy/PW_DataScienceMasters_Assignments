{
 "cells": [
  {
   "cell_type": "markdown",
   "id": "7edf6c6a-b5d6-49a0-bb03-64fe0d7bbb11",
   "metadata": {},
   "source": [
    "1. Who developed Python Programming Language?"
   ]
  },
  {
   "cell_type": "code",
   "execution_count": 1,
   "id": "c817f970-7c5b-4f5f-bb8b-0ccf85c9a1a2",
   "metadata": {},
   "outputs": [],
   "source": [
    "#Python was created by Guido van Rossum, and first released on February 20, 1991"
   ]
  },
  {
   "cell_type": "markdown",
   "id": "00f8fcfa-4475-4d58-88fc-5ffd79759d08",
   "metadata": {},
   "source": [
    "2.Which type of Programming does Python support?"
   ]
  },
  {
   "cell_type": "code",
   "execution_count": 2,
   "id": "530da3ef-cd8f-4caf-8fcd-919a652d73c5",
   "metadata": {},
   "outputs": [],
   "source": [
    "#Python is a multi-paradigm programming language. Object-oriented programming and structured programming are fully supported\n",
    "#Meaning it supports different styles of writing code. One can write Python code in procedural, object oriented, functional or imperative manner. For this reason, Python is considered a “swiss army knife” in the developers toolbox."
   ]
  },
  {
   "cell_type": "markdown",
   "id": "33064687-9799-4c8a-86c9-cbba0c602631",
   "metadata": {},
   "source": [
    "3.Is Python case sensitive when dealing with identifiers?"
   ]
  },
  {
   "cell_type": "code",
   "execution_count": null,
   "id": "30921b50-0714-4d54-b15c-1b68aa12178c",
   "metadata": {},
   "outputs": [],
   "source": [
    "#Yes, Python is a case-sensitive language, i.e., it treats uppercase and lowercase characters differently. This applies to identifiers too."
   ]
  },
  {
   "cell_type": "markdown",
   "id": "fee50e9b-eb2c-42d4-865e-28393764ff20",
   "metadata": {},
   "source": [
    "4.What is the correct extension of the Python file?"
   ]
  },
  {
   "cell_type": "code",
   "execution_count": 3,
   "id": "dabbd6da-dabc-4c47-8950-5c3b0257b3ab",
   "metadata": {},
   "outputs": [],
   "source": [
    "#The Files with the . py extension contain the Python source code."
   ]
  },
  {
   "cell_type": "markdown",
   "id": "893b605a-0910-4383-b1ff-f79fe9c83235",
   "metadata": {},
   "source": [
    "5.Is Python code compiled or interpreted?"
   ]
  },
  {
   "cell_type": "code",
   "execution_count": null,
   "id": "8fe5beda-e258-4ef7-85b6-fd3ba78aad1a",
   "metadata": {},
   "outputs": [],
   "source": [
    "#Python is an interpreted language, which means the source code of a Python program is converted into bytecode that is then executed by the Python virtual machine."
   ]
  },
  {
   "cell_type": "markdown",
   "id": "ed38766c-50bc-4468-a892-6a7306026f41",
   "metadata": {},
   "source": [
    "6.Name a few blocks of code used to define in Python language?"
   ]
  },
  {
   "cell_type": "code",
   "execution_count": null,
   "id": "5f4ae928-7fb3-48a8-9cf5-2e3474a0d8a2",
   "metadata": {},
   "outputs": [],
   "source": [
    "#Indentation is used to define a block of code in python. Braces {} are used to define a block of code in most programming languages, like C, C++, and Java.\n",
    "#A block is a piece of Python program text that is executed as a unit. The following are blocks: a module, a function body, and a class definition. "
   ]
  },
  {
   "cell_type": "markdown",
   "id": "4bd559e1-9420-4670-a170-c34e7d395939",
   "metadata": {},
   "source": [
    "7.State a character used to give single-line comments in Python?"
   ]
  },
  {
   "cell_type": "code",
   "execution_count": 4,
   "id": "3cc80c57-3454-4e4d-aa60-726c092e1907",
   "metadata": {},
   "outputs": [],
   "source": [
    "#We can write a single-line comment by adding a single # character before any statement or line of code"
   ]
  },
  {
   "cell_type": "markdown",
   "id": "be14b883-9230-48e9-ad57-2d9b4095914d",
   "metadata": {},
   "source": [
    "8.Mention functions which can help us to find the version of python that we are currently working on?"
   ]
  },
  {
   "cell_type": "code",
   "execution_count": null,
   "id": "0787b89c-99f0-4a81-bf86-4447b7e0b7d5",
   "metadata": {},
   "outputs": [],
   "source": [
    "#To check the Python version in your Jupyter notebook, first import the python_version function with “ from platform import python_version “. Then call the function python_version() that returns a string with the version number running in your Jupyter notebook such as \"3.10. 8\""
   ]
  },
  {
   "cell_type": "code",
   "execution_count": 5,
   "id": "88b8e7e1-73a0-4526-92a8-b1d0e560f5d6",
   "metadata": {},
   "outputs": [
    {
     "data": {
      "text/plain": [
       "'3.10.8'"
      ]
     },
     "execution_count": 5,
     "metadata": {},
     "output_type": "execute_result"
    }
   ],
   "source": [
    "from platform import python_version\n",
    "python_version()"
   ]
  },
  {
   "cell_type": "markdown",
   "id": "428091da-c257-4ab1-ac53-287534c60768",
   "metadata": {},
   "source": [
    "9.Python supports the creation of anonymous functions at runtime, using a construct called"
   ]
  },
  {
   "cell_type": "code",
   "execution_count": null,
   "id": "d0fa634f-c823-47ff-ae01-7440daf61b1a",
   "metadata": {},
   "outputs": [],
   "source": [
    "#Python supports to make anonymous functions which are not bound to a name(@ runtime). It uses a construct called \"lambda\" ."
   ]
  },
  {
   "cell_type": "markdown",
   "id": "51bcd325-9f05-40a4-a3fb-67b3e34f927e",
   "metadata": {},
   "source": [
    "10.What does pip stand for python?"
   ]
  },
  {
   "cell_type": "code",
   "execution_count": 6,
   "id": "913b49dd-dec3-4c29-96a4-64274ab9fb9e",
   "metadata": {},
   "outputs": [],
   "source": [
    "#preferred installer program"
   ]
  },
  {
   "cell_type": "markdown",
   "id": "07568a8f-5e24-451a-adac-82b2bfa6fd12",
   "metadata": {},
   "source": [
    "11.Mention a few built-in functions in python?"
   ]
  },
  {
   "cell_type": "code",
   "execution_count": 10,
   "id": "60d3f4aa-108b-4b3c-8d60-543b287e3704",
   "metadata": {},
   "outputs": [],
   "source": [
    "# built-in functions in python are as shown below\n",
    "### print( ), type( ), input( ),abs( ),pow( ),dir( ),sorted( ),max( ) functions"
   ]
  },
  {
   "cell_type": "markdown",
   "id": "62a4fa33-9d27-418d-b4fd-0b9d5f8419e2",
   "metadata": {},
   "source": [
    "12.What is the maximum possible length of an identifier in Python?"
   ]
  },
  {
   "cell_type": "code",
   "execution_count": 11,
   "id": "ed907236-9cae-44a5-be31-7d04b39673f6",
   "metadata": {},
   "outputs": [],
   "source": [
    "#An identifier can have a maximum length of 79 characters in Python."
   ]
  },
  {
   "cell_type": "markdown",
   "id": "a78adb40-9678-4e52-8f15-318ee9ef36a3",
   "metadata": {},
   "source": [
    "13.What are the benefits of using Python?"
   ]
  },
  {
   "cell_type": "code",
   "execution_count": null,
   "id": "2cf55071-98d7-4432-8ea6-3c8694af6308",
   "metadata": {},
   "outputs": [],
   "source": [
    "#Simple to Use and Understand\n",
    "#Free and Open-Source\n",
    "#Interpreted Language\n",
    "#Extensive library\n",
    "#Dynamically Typed"
   ]
  },
  {
   "cell_type": "markdown",
   "id": "d4bca4b2-f7c2-49e1-a9e2-0458aab845e9",
   "metadata": {},
   "source": [
    "14.How is memory managed in Python?"
   ]
  },
  {
   "cell_type": "code",
   "execution_count": null,
   "id": "fd0efd03-b64e-4d55-a072-989dd3300440",
   "metadata": {},
   "outputs": [],
   "source": [
    "#Memory management in Python involves a private heap containing all Python objects and data structures. \n",
    "#The management of this private heap is ensured internally by the Python memory manager"
   ]
  },
  {
   "cell_type": "markdown",
   "id": "c2130c04-358e-40c7-aaac-96efcf4fa0ac",
   "metadata": {},
   "source": [
    "15.How to install Python on Windows and set path variables? "
   ]
  },
  {
   "cell_type": "code",
   "execution_count": 13,
   "id": "90421632-0872-4716-b1db-ed92f56a4a15",
   "metadata": {},
   "outputs": [],
   "source": [
    "#Open a browser to the Python website and download the Windows installer. \n",
    "#Double click on the downloaded file and install Python for all users, and ensure that Python is added to your path. \n",
    "#Click on Install now to begin"
   ]
  },
  {
   "cell_type": "markdown",
   "id": "e694d44e-b608-4717-ab63-bd65058f32ea",
   "metadata": {},
   "source": [
    "16. Is indentation required in python?"
   ]
  },
  {
   "cell_type": "code",
   "execution_count": null,
   "id": "f40de90f-5993-42f9-87a7-8c8319030b8a",
   "metadata": {},
   "outputs": [],
   "source": [
    "#the indentation in Python is very important. Python uses indentation to indicate a block of code."
   ]
  }
 ],
 "metadata": {
  "kernelspec": {
   "display_name": "Python 3 (ipykernel)",
   "language": "python",
   "name": "python3"
  },
  "language_info": {
   "codemirror_mode": {
    "name": "ipython",
    "version": 3
   },
   "file_extension": ".py",
   "mimetype": "text/x-python",
   "name": "python",
   "nbconvert_exporter": "python",
   "pygments_lexer": "ipython3",
   "version": "3.9.13"
  }
 },
 "nbformat": 4,
 "nbformat_minor": 5
}
