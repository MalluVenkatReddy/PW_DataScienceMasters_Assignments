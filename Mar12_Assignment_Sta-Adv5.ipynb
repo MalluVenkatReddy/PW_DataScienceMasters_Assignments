{
 "cells": [
  {
   "cell_type": "markdown",
   "id": "65879a65-a0c9-4163-a6f1-4c8ce58d2fbd",
   "metadata": {},
   "source": [
    "Q1. Calculate the 95% confidence interval for a sample of data with a mean of 50 and a standard deviation \n",
    "of 5 using Python. Interpret the results."
   ]
  },
  {
   "cell_type": "code",
   "execution_count": 1,
   "id": "431e03f5-7979-447c-a832-8745a193306f",
   "metadata": {},
   "outputs": [],
   "source": [
    "#z-test = X̄ ± Zα/2 × [ σ / √n ] = 50±1.96*5 = 50±9.8 = [40.2, 59.8]\n",
    "#95% of the time, the population mean is inbetween 40.2 and 59.8"
   ]
  },
  {
   "cell_type": "markdown",
   "id": "ff37bf77-1adb-4358-b89e-d9bdaa4f030e",
   "metadata": {},
   "source": [
    "Q2. Conduct a chi-square goodness of fit test to determine if the distribution of colors of M&Ms in a bag \n",
    "matches the expected distribution of 20% blue, 20% orange, 20% green, 10% yellow, 10% red, and 20% \n",
    "brown. Use Python to perform the test with a significance level of 0.05"
   ]
  },
  {
   "cell_type": "raw",
   "id": "522ed5db-eb2a-4ee0-8fcf-d41523cf1c0b",
   "metadata": {
    "tags": []
   },
   "source": [
    "consider sample size n=120\n",
    "20% blue = 24\n",
    "20% orange = 24\n",
    "20% green = 24\n",
    "10% yellow = 12\n",
    "10% red = 12 \n",
    "20% brown = 24\n",
    "dof=6-1=5\n",
    "expected should be equal in all colors, that is 20 for all colors\n",
    "chi.square=((24-20)**2)/20+((24-20)**2)/20+((24-20)**2)/20+((12-20)**2)/20+((12-20)**2)/20+((24-20)**2/20) = 9.6\n",
    "critical value for 0.05 significance value = 11.07\n",
    "Accept null hypothesis, means: distribution of colors of M&Ms in a bag is not matches the expected distribution"
   ]
  },
  {
   "cell_type": "code",
   "execution_count": 2,
   "id": "1d0f37e8-d5b0-40a3-958b-f5522695a024",
   "metadata": {},
   "outputs": [
    {
     "data": {
      "text/plain": [
       "(120, 120)"
      ]
     },
     "execution_count": 2,
     "metadata": {},
     "output_type": "execute_result"
    }
   ],
   "source": [
    "expected_data=[20,20,20,20,20,20]\n",
    "observed_data=[24,24,24,12,12,24]\n",
    "dof=5\n",
    "sum(expected_data),sum(observed_data)"
   ]
  },
  {
   "cell_type": "code",
   "execution_count": 3,
   "id": "18c7bdbf-1f54-48a8-b7bf-df84788a426d",
   "metadata": {},
   "outputs": [
    {
     "data": {
      "text/plain": [
       "(9.600000000000001, 0.0873956533205822)"
      ]
     },
     "execution_count": 3,
     "metadata": {},
     "output_type": "execute_result"
    }
   ],
   "source": [
    "import scipy.stats as stat\n",
    "chi_stat,pvalue=stat.chisquare(observed_data,expected_data)\n",
    "chi_stat,pvalue"
   ]
  },
  {
   "cell_type": "code",
   "execution_count": 8,
   "id": "df946ad8-047e-43d7-8379-9d443514ffde",
   "metadata": {},
   "outputs": [
    {
     "data": {
      "text/plain": [
       "11.070497693516351"
      ]
     },
     "execution_count": 8,
     "metadata": {},
     "output_type": "execute_result"
    }
   ],
   "source": [
    "significance=0.05\n",
    "critical_value=stat.chi2.ppf(1-significance,dof)\n",
    "critical_value"
   ]
  },
  {
   "cell_type": "code",
   "execution_count": 9,
   "id": "38dd264b-3c9f-48a6-b5d5-6abad8de9d6b",
   "metadata": {},
   "outputs": [
    {
     "name": "stdout",
     "output_type": "stream",
     "text": [
      "Accept Null hypothesis\n"
     ]
    }
   ],
   "source": [
    "if chi_stat<critical_value:\n",
    "    print(\"Accept Null hypothesis\")\n",
    "else:\n",
    "    print(\"Reject the null hypothesis\")"
   ]
  },
  {
   "cell_type": "raw",
   "id": "64a3c6fe-d602-475a-8713-2781db3d832f",
   "metadata": {},
   "source": [
    "Accept null hypothesis, means: distribution of colors of M&Ms in a bag is matches the expected distribution"
   ]
  },
  {
   "cell_type": "code",
   "execution_count": 5,
   "id": "09c0eaf8-4216-4172-b3b4-ad40b69b56ee",
   "metadata": {},
   "outputs": [
    {
     "data": {
      "text/plain": [
       "9.600000000000001"
      ]
     },
     "execution_count": 5,
     "metadata": {},
     "output_type": "execute_result"
    }
   ],
   "source": [
    "((24-20)**2)/20+((24-20)**2)/20+((24-20)**2)/20+((12-20)**2)/20+((12-20)**2)/20+((24-20)**2/20)"
   ]
  },
  {
   "cell_type": "markdown",
   "id": "fe46b1a3-b4f7-4360-8c47-e379070e6c6b",
   "metadata": {},
   "source": [
    "Q3. Use Python to calculate the chi-square statistic and p-value for a contingency table with the following \n",
    "data"
   ]
  },
  {
   "cell_type": "code",
   "execution_count": 1,
   "id": "0ee46584-c388-4cfc-9afa-016c122bc2b2",
   "metadata": {},
   "outputs": [
    {
     "data": {
      "image/png": "[encoded data removed]",
      "text/plain": [
       "<IPython.core.display.Image object>"
      ]
     },
     "execution_count": 1,
     "metadata": {},
     "output_type": "execute_result"
    }
   ],
   "source": [
    "from IPython import display\n",
    "display.Image(\"Q3.png\")"
   ]
  },
  {
   "cell_type": "code",
   "execution_count": 10,
   "id": "e84d8a04-9b15-4fd1-92ae-8b05060141d1",
   "metadata": {},
   "outputs": [
    {
     "data": {
      "text/plain": [
       "(35, 35, 35)"
      ]
     },
     "execution_count": 10,
     "metadata": {},
     "output_type": "execute_result"
    }
   ],
   "source": [
    "outcome1=[20,15]\n",
    "outcome2=[10,25]\n",
    "outcome3=[15,20]\n",
    "sum(outcome1),sum(outcome2),sum(outcome3)"
   ]
  },
  {
   "cell_type": "code",
   "execution_count": null,
   "id": "d314b1ff-06ab-48f9-8fde-562230a46574",
   "metadata": {},
   "outputs": [],
   "source": []
  },
  {
   "cell_type": "markdown",
   "id": "6778041a-855a-410c-8d33-29ed7d5a4c13",
   "metadata": {},
   "source": [
    "Q4. A study of the prevalence of smoking in a population of 500 individuals found that 60 individuals \n",
    "smoked. Use Python to calculate the 95% confidence interval for the true proportion of individuals in the \n",
    "population who smoke."
   ]
  },
  {
   "cell_type": "code",
   "execution_count": 30,
   "id": "0efbc02b-e2e9-4fba-963f-077039970145",
   "metadata": {},
   "outputs": [
    {
     "data": {
      "text/plain": [
       "(0.03918336050175245, 0.08081663949824755)"
      ]
     },
     "execution_count": 30,
     "metadata": {},
     "output_type": "execute_result"
    }
   ],
   "source": [
    "CI=95\n",
    "n=500\n",
    "p=0.06\n",
    "q=0.94\n",
    "std=(p*q)**0.5\n",
    "std\n",
    "#for 95% C.I, z=1.96\n",
    "#z-test = X̄ ± Zα/2 × [ σ / √n ]\n",
    "0.06-(1.96*((0.06*0.94/500)**0.5)),0.06+(1.96*((0.06*0.94/500)**0.5))"
   ]
  },
  {
   "cell_type": "raw",
   "id": "f278abd9-25c7-4393-a74c-52f0905f5247",
   "metadata": {},
   "source": [
    "true proportion of individuals in the population who smoke are (0.03918336050175245, 0.08081663949824755)"
   ]
  },
  {
   "cell_type": "markdown",
   "id": "acc339d3-9b6b-46e6-a2b1-ca59747bfc4a",
   "metadata": {},
   "source": [
    "Q5. Calculate the 90% confidence interval for a sample of data with a mean of 75 and a standard deviation \n",
    "of 12 using Python. Interpret the results."
   ]
  },
  {
   "cell_type": "code",
   "execution_count": 44,
   "id": "c02ac5ff-c7dc-404e-898e-2798521bf090",
   "metadata": {},
   "outputs": [
    {
     "data": {
      "text/plain": [
       "(-1.6448536269514729, 1.6448536269514722)"
      ]
     },
     "execution_count": 44,
     "metadata": {},
     "output_type": "execute_result"
    }
   ],
   "source": [
    "import numpy as np\n",
    "import scipy.stats as st\n",
    "  \n",
    "# create 90% confidence interval\n",
    "# for population mean weight\n",
    "st.norm.interval(confidence=0.9)"
   ]
  },
  {
   "cell_type": "code",
   "execution_count": 52,
   "id": "9d8cbf18-8cdf-4c83-b987-ae89ab130d16",
   "metadata": {},
   "outputs": [
    {
     "data": {
      "text/plain": [
       "(55.26175647658233, 94.73824352341768)"
      ]
     },
     "execution_count": 52,
     "metadata": {},
     "output_type": "execute_result"
    }
   ],
   "source": [
    "75-1.6448536269514729*12,75+1.6448536269514729*12"
   ]
  },
  {
   "cell_type": "markdown",
   "id": "d064ee16-fae1-4641-b6a7-b9a4c9fa1e0c",
   "metadata": {},
   "source": [
    "Q6. Use Python to plot the chi-square distribution with 10 degrees of freedom. Label the axes and shade the \n",
    "area corresponding to a chi-square statistic of 15."
   ]
  },
  {
   "cell_type": "code",
   "execution_count": 28,
   "id": "74b3334c-2622-43e9-be39-c29aee0ddbd9",
   "metadata": {},
   "outputs": [
    {
     "data": {
      "text/plain": [
       "Text(0, 0.5, 'pdf')"
      ]
     },
     "execution_count": 28,
     "metadata": {},
     "output_type": "execute_result"
    },
    {
     "data": {
      "image/png": "[encoded data removed]",
      "text/plain": [
       "<Figure size 640x480 with 1 Axes>"
      ]
     },
     "metadata": {},
     "output_type": "display_data"
    }
   ],
   "source": [
    "#x-axis ranges from 0 to 20 with .001 steps\n",
    "import numpy as np\n",
    "import matplotlib.pyplot as plt\n",
    "from scipy.stats import chi2\n",
    "x = np.arange(0, 200, 0.001)\n",
    "\n",
    "#plot Chi-square distribution with 4 degrees of freedom\n",
    "plt.plot(x, chi2.pdf(x, df=10))\n",
    "plt.xlabel('data')\n",
    "plt.ylabel('pdf')"
   ]
  },
  {
   "cell_type": "markdown",
   "id": "ff88b66f-3861-4da5-91b7-586247835e85",
   "metadata": {},
   "source": [
    "Q7. A random sample of 1000 people was asked if they preferred Coke or Pepsi. Of the sample, 520 \n",
    "preferred Coke. Calculate a 99% confidence interval for the true proportion of people in the population who \n",
    "prefer Coke."
   ]
  },
  {
   "cell_type": "code",
   "execution_count": 21,
   "id": "3fbd965d-642b-43a0-9b4c-39c7c01499e2",
   "metadata": {},
   "outputs": [
    {
     "data": {
      "text/plain": [
       "(0.4831889494852429, 0.5568110505147571)"
      ]
     },
     "execution_count": 21,
     "metadata": {},
     "output_type": "execute_result"
    }
   ],
   "source": [
    "#z-test = X̄ ± Zα/2 × [ σ / √n ] \n",
    "CI=99\n",
    "n=1000\n",
    "z=520\n",
    "p=0.52\n",
    "q=0.48\n",
    "std=(p*q)**0.5\n",
    "std\n",
    "#for 99% C.I, z=2.33\n",
    "#z-test = X̄ ± Zα/2 × [ σ / √n ]\n",
    "0.52-(2.33*((0.52*0.48/1000)**0.5)),0.52+(2.33*((0.52*0.48/1000)**0.5))"
   ]
  },
  {
   "cell_type": "raw",
   "id": "decf1871-bd11-432d-b8dd-e3d1a6e3bda1",
   "metadata": {},
   "source": [
    "true proportion of people in the population who prefer Coke are (0.4831889494852429, 0.5568110505147571)"
   ]
  },
  {
   "cell_type": "markdown",
   "id": "eac41d6f-d95a-4cea-83ff-97fdf8653403",
   "metadata": {},
   "source": [
    "Q8. A researcher hypothesizes that a coin is biased towards tails. They flip the coin 100 times and observe \n",
    "45 tails. Conduct a chi-square goodness of fit test to determine if the observed frequencies match the \n",
    "expected frequencies of a fair coin. Use a significance level of 0.05."
   ]
  },
  {
   "cell_type": "code",
   "execution_count": 33,
   "id": "daedf26e-e0fd-47b8-9689-ed0a2d1c4da6",
   "metadata": {},
   "outputs": [
    {
     "data": {
      "text/plain": [
       "(1.0, 0.31731050786291115)"
      ]
     },
     "execution_count": 33,
     "metadata": {},
     "output_type": "execute_result"
    }
   ],
   "source": [
    "import scipy.stats as stat\n",
    "expected_data=[50,50]\n",
    "observed_data=[45,55]\n",
    "chi_stat,pvalue=stat.chisquare(observed_data,expected_data)\n",
    "chi_stat,pvalue\n",
    "#Observations T-45, H-55\n",
    "#Expected T-50, H-50\n",
    "#chi_stat=25/50+25/50=1"
   ]
  },
  {
   "cell_type": "code",
   "execution_count": 34,
   "id": "68d11a23-381e-44c2-8b43-8ca8d4625666",
   "metadata": {},
   "outputs": [
    {
     "data": {
      "text/plain": [
       "3.841458820694124"
      ]
     },
     "execution_count": 34,
     "metadata": {},
     "output_type": "execute_result"
    }
   ],
   "source": [
    "significance=0.05\n",
    "dof=2-1\n",
    "critical_value=stat.chi2.ppf(1-significance,dof)\n",
    "critical_value"
   ]
  },
  {
   "cell_type": "code",
   "execution_count": 35,
   "id": "9ead54f0-2299-4611-922d-576cf2790fd2",
   "metadata": {},
   "outputs": [
    {
     "name": "stdout",
     "output_type": "stream",
     "text": [
      "Accept Null hypothesis\n"
     ]
    }
   ],
   "source": [
    "if chi_stat<critical_value:\n",
    "    print(\"Accept Null hypothesis\")\n",
    "else:\n",
    "    print(\"Reject the null hypothesis\")"
   ]
  },
  {
   "cell_type": "raw",
   "id": "2fa34884-6e53-417b-9834-9eeffa6ea9ba",
   "metadata": {},
   "source": [
    "Accept Null hypothesis means, observed frequencies match the expected frequencies of a fair coin"
   ]
  },
  {
   "cell_type": "markdown",
   "id": "95d9c061-c960-419d-a047-2462fdcd2846",
   "metadata": {},
   "source": [
    "Q9. A study was conducted to determine if there is an association between smoking status (smoker or \n",
    "non-smoker) and lung cancer diagnosis (yes or no). The results are shown in the contingency table below. \n",
    "Conduct a chi-square test for independence to determine if there is a significant association between \n",
    "smoking status and lung cancer diagnosis."
   ]
  },
  {
   "cell_type": "code",
   "execution_count": 2,
   "id": "e9bed059-491d-425c-8930-fc6db1f8d7fa",
   "metadata": {},
   "outputs": [
    {
     "data": {
      "image/png": "[encoded data removed]",
      "text/plain": [
       "<IPython.core.display.Image object>"
      ]
     },
     "execution_count": 2,
     "metadata": {},
     "output_type": "execute_result"
    }
   ],
   "source": [
    "from IPython import display\n",
    "display.Image(\"Q9.png\")"
   ]
  },
  {
   "cell_type": "code",
   "execution_count": 27,
   "id": "3de36b87-aac2-4f8e-bebd-f9ed2cb1badb",
   "metadata": {},
   "outputs": [
    {
     "data": {
      "text/plain": [
       "(21.42857142857143, 3.672575114265626e-06)"
      ]
     },
     "execution_count": 27,
     "metadata": {},
     "output_type": "execute_result"
    }
   ],
   "source": [
    "import scipy.stats as stat\n",
    "n=200\n",
    "#dof=2-1\n",
    "dof=1\n",
    "smoker=[60,140]\n",
    "nonsmoker=[30,170]\n",
    "significance=0.05 # assumption \n",
    "critical_value=stat.chi2.ppf(1-significance,dof)\n",
    "chi_stat,pvalue=stat.chisquare(nonsmoker,smoker)\n",
    "chi_stat,pvalue"
   ]
  },
  {
   "cell_type": "code",
   "execution_count": 28,
   "id": "e7859764-2289-492a-83f9-c33c940a2e3b",
   "metadata": {},
   "outputs": [
    {
     "data": {
      "text/plain": [
       "3.841458820694124"
      ]
     },
     "execution_count": 28,
     "metadata": {},
     "output_type": "execute_result"
    }
   ],
   "source": [
    "critical_value=stat.chi2.ppf(1-significance,dof)\n",
    "critical_value"
   ]
  },
  {
   "cell_type": "code",
   "execution_count": 29,
   "id": "d6bde806-7806-4ac9-8879-1b77606db468",
   "metadata": {},
   "outputs": [
    {
     "name": "stdout",
     "output_type": "stream",
     "text": [
      "Reject the null hypothesis\n"
     ]
    }
   ],
   "source": [
    "if chi_stat<critical_value:\n",
    "    print(\"Accept Null hypothesis\")\n",
    "else:\n",
    "    print(\"Reject the null hypothesis\")"
   ]
  },
  {
   "cell_type": "raw",
   "id": "7f0544f5-9e14-4920-b419-c37affaeafaf",
   "metadata": {},
   "source": [
    "Reject the null hypothesis means, there is a significant association between smoking status and lung cancer diagnosis."
   ]
  },
  {
   "cell_type": "markdown",
   "id": "565cedcb-0cde-42c9-b856-68c37da8b810",
   "metadata": {},
   "source": [
    "Q10. A study was conducted to determine if the proportion of people who prefer milk chocolate, dark \n",
    "chocolate, or white chocolate is different in the U.S. versus the U.K. A random sample of 500 people from \n",
    "the U.S. and a random sample of 500 people from the U.K. were surveyed. The results are shown in the \n",
    "contingency table below. Conduct a chi-square test for independence to determine if there is a significant \n",
    "association between chocolate preference and country of origin.\n",
    "Use a significance level of 0.01."
   ]
  },
  {
   "cell_type": "code",
   "execution_count": 3,
   "id": "23982024-5bda-431a-ab88-0f8c829b27f5",
   "metadata": {},
   "outputs": [
    {
     "data": {
      "image/png": "[encoded data removed]",
      "text/plain": [
       "<IPython.core.display.Image object>"
      ]
     },
     "execution_count": 3,
     "metadata": {},
     "output_type": "execute_result"
    }
   ],
   "source": [
    "from IPython import display\n",
    "display.Image(\"Q10.png\")"
   ]
  },
  {
   "cell_type": "code",
   "execution_count": 16,
   "id": "4bb207d3-1b1d-4200-af99-34487862e648",
   "metadata": {},
   "outputs": [
    {
     "data": {
      "text/plain": [
       "(9.600000000000001, 0.0873956533205822)"
      ]
     },
     "execution_count": 16,
     "metadata": {},
     "output_type": "execute_result"
    }
   ],
   "source": [
    "import scipy.stats as stat\n",
    "n=500\n",
    "#dof=3-1\n",
    "dof=2\n",
    "US=[200,150,150]\n",
    "UK=[225,175,100]\n",
    "significance=0.01\n",
    "critical_value=stat.chi2.ppf(1-significance,dof)\n",
    "chi_stat,pvalue=stat.chisquare(observed_data,expected_data,)\n",
    "chi_stat,pvalue"
   ]
  },
  {
   "cell_type": "code",
   "execution_count": 13,
   "id": "55861fa6-8d0e-443b-97f1-05dd44faece9",
   "metadata": {},
   "outputs": [
    {
     "data": {
      "text/plain": [
       "9.21034037197618"
      ]
     },
     "execution_count": 13,
     "metadata": {},
     "output_type": "execute_result"
    }
   ],
   "source": [
    "critical_value"
   ]
  },
  {
   "cell_type": "code",
   "execution_count": 14,
   "id": "523cd9cc-35f6-4de5-be2f-bcb45bd255da",
   "metadata": {},
   "outputs": [
    {
     "name": "stdout",
     "output_type": "stream",
     "text": [
      "Reject the null hypothesis\n"
     ]
    }
   ],
   "source": [
    "if chi_stat<critical_value:\n",
    "    print(\"Accept Null hypothesis\")\n",
    "else:\n",
    "    print(\"Reject the null hypothesis\")"
   ]
  },
  {
   "cell_type": "raw",
   "id": "85a70fd9-3d1d-477f-889a-9c38c9477e65",
   "metadata": {},
   "source": [
    "Reject the null hypothesis, means there is a significant association between chocolate preference and country of origin."
   ]
  },
  {
   "cell_type": "markdown",
   "id": "921a6cff-5ae2-45cb-82e2-57513570637c",
   "metadata": {},
   "source": [
    "Q11. A random sample of 30 people was selected from a population with an unknown mean and standard \n",
    "deviation. The sample mean was found to be 72 and the sample standard deviation was found to be 10. \n",
    "Conduct a hypothesis test to determine if the population mean is significantly different from 70. Use a \n",
    "significance level of 0.05."
   ]
  },
  {
   "cell_type": "code",
   "execution_count": null,
   "id": "a573394b-c427-4c50-8c8f-34801a6b6dbe",
   "metadata": {},
   "outputs": [],
   "source": [
    "X̄=72\n",
    "s=10\n",
    "n=30\n",
    "t table  = 2.045 for dof=29 and significance level of 0.05\n",
    "t-test = X̄ ± Zα/2 × [ σ / √n ] = 72±2.045*(10/30**0.5)= [68.26635789967312,75.73364210032688]"
   ]
  },
  {
   "cell_type": "raw",
   "id": "63081f7a-467b-42d2-ab08-cfb9ab54a3d8",
   "metadata": {},
   "source": [
    "1. Null hypothesis (H0): The true population mean of 70 is in between confidance interval range.\n",
    "2. Alternative hypothesis (Ha): The true population mean of 70 is bot in between confidance interval range\n",
    "Choose the level of significance (alpha): In this case, the level of significance is 0.05.\n",
    "3. Calculate the test statistic:\n",
    "t = (72 - 70) / (10 / (30**0.5)) = 1.0954451150103321\n",
    "4. Determine the critical value: Since this is a two-tailed test, the critical value for a t-test with 29 degrees of freedom and a 0.05 level of significance is 1.699.\n",
    "t-table = 1.699\n",
    "5. Compare the test statistic to the critical value: Since the test statistic (1.095) is less than the critical value (1.699), we fail to reject the null hypothesis.\n",
    "conclude that population mean is is not sigificantly diffrent from 70."
   ]
  },
  {
   "cell_type": "code",
   "execution_count": null,
   "id": "2e1cd4f3-2fb0-4f01-80ac-7f686ebf8bf9",
   "metadata": {},
   "outputs": [],
   "source": []
  }
 ],
 "metadata": {
  "kernelspec": {
   "display_name": "Python 3 (ipykernel)",
   "language": "python",
   "name": "python3"
  },
  "language_info": {
   "codemirror_mode": {
    "name": "ipython",
    "version": 3
   },
   "file_extension": ".py",
   "mimetype": "text/x-python",
   "name": "python",
   "nbconvert_exporter": "python",
   "pygments_lexer": "ipython3",
   "version": "3.10.8"
  }
 },
 "nbformat": 4,
 "nbformat_minor": 5
}
